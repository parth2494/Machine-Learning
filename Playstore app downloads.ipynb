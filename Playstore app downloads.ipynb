{
 "cells": [
  {
   "cell_type": "code",
   "execution_count": 1,
   "metadata": {},
   "outputs": [],
   "source": [
    "import pandas as pd\n",
    "import numpy as np\n",
    "import matplotlib.pyplot as plt\n",
    "import seaborn as sns\n",
    "from sklearn.model_selection import train_test_split\n",
    "from sklearn.linear_model import LinearRegression"
   ]
  },
  {
   "cell_type": "code",
   "execution_count": 2,
   "metadata": {},
   "outputs": [],
   "source": [
    "app=pd.read_csv('train.csv')\n",
    "test=pd.read_csv('test.csv')"
   ]
  },
  {
   "cell_type": "code",
   "execution_count": 3,
   "metadata": {},
   "outputs": [
    {
     "name": "stdout",
     "output_type": "stream",
     "text": [
      "<class 'pandas.core.frame.DataFrame'>\n",
      "RangeIndex: 16516 entries, 0 to 16515\n",
      "Data columns (total 11 columns):\n",
      " #   Column               Non-Null Count  Dtype  \n",
      "---  ------               --------------  -----  \n",
      " 0   Offered_By           16516 non-null  object \n",
      " 1   Category             16516 non-null  object \n",
      " 2   Rating               16516 non-null  float64\n",
      " 3   Reviews              16516 non-null  int64  \n",
      " 4   Size                 16516 non-null  object \n",
      " 5   Price                16516 non-null  object \n",
      " 6   Content_Rating       16516 non-null  object \n",
      " 7   Last_Updated_On      16516 non-null  object \n",
      " 8   Release_Version      16516 non-null  object \n",
      " 9   OS_Version_Required  16516 non-null  object \n",
      " 10  Downloads            16516 non-null  object \n",
      "dtypes: float64(1), int64(1), object(9)\n",
      "memory usage: 1.4+ MB\n"
     ]
    }
   ],
   "source": [
    "app.info()"
   ]
  },
  {
   "cell_type": "code",
   "execution_count": 4,
   "metadata": {},
   "outputs": [],
   "source": [
    "app.drop(['Offered_By','Category','Size','Last_Updated_On','Release_Version','OS_Version_Required'],axis=1,inplace=True)"
   ]
  },
  {
   "cell_type": "code",
   "execution_count": 5,
   "metadata": {},
   "outputs": [],
   "source": [
    "app.replace(to_replace=['10+','Free','Adults only 18+'],value=0,inplace=True)\n",
    "app.replace(to_replace=['50+','Everyone'],value=1,inplace=True)\n",
    "app.replace(to_replace=['100+','Everyone 10+'],value=2,inplace=True)\n",
    "app.replace(to_replace=['500+','Mature 17+'],value=3,inplace=True)\n",
    "app.replace(to_replace=['1,000+','Teen'],value=4,inplace=True)\n",
    "app.replace(to_replace=['5,000+','Unrated'],value=5,inplace=True)\n",
    "app.replace(to_replace=['10,000+'],value=6,inplace=True)\n",
    "app.replace(to_replace=['50,000+'],value=7,inplace=True)\n",
    "app.replace(to_replace=['100,000+'],value=8,inplace=True)\n",
    "app.replace(to_replace=['500,000+'],value=9,inplace=True)\n",
    "app.replace(to_replace=['1,000,000+'],value=10,inplace=True)\n",
    "app.replace(to_replace=['5,000,000+'],value=11,inplace=True)\n",
    "app.replace(to_replace=['10,000,000+'],value=12,inplace=True)\n",
    "app.replace(to_replace=['50,000,000+'],value=13,inplace=True)\n",
    "app.replace(to_replace=['100,000,000+'],value=14,inplace=True)\n",
    "app.replace(to_replace=['500,000,000+'],value=15,inplace=True)\n",
    "app.replace(to_replace=['1,000,000,000+'],value=16,inplace=True)\n",
    "app.replace(to_replace=['5,000,000,000+'],value=17,inplace=True)"
   ]
  },
  {
   "cell_type": "code",
   "execution_count": 6,
   "metadata": {},
   "outputs": [
    {
     "name": "stdout",
     "output_type": "stream",
     "text": [
      "<class 'pandas.core.frame.DataFrame'>\n",
      "RangeIndex: 16516 entries, 0 to 16515\n",
      "Data columns (total 5 columns):\n",
      " #   Column          Non-Null Count  Dtype  \n",
      "---  ------          --------------  -----  \n",
      " 0   Rating          16516 non-null  float64\n",
      " 1   Reviews         16516 non-null  int64  \n",
      " 2   Price           16516 non-null  object \n",
      " 3   Content_Rating  16516 non-null  int64  \n",
      " 4   Downloads       16516 non-null  int64  \n",
      "dtypes: float64(1), int64(3), object(1)\n",
      "memory usage: 645.3+ KB\n"
     ]
    }
   ],
   "source": [
    "app.info()"
   ]
  },
  {
   "cell_type": "code",
   "execution_count": 7,
   "metadata": {},
   "outputs": [
    {
     "data": {
      "text/plain": [
       "0           15450\n",
       "222.9942      184\n",
       "73.8342       163\n",
       "148.4142      153\n",
       "372.1542      120\n",
       "            ...  \n",
       "111.87          1\n",
       "335.61          1\n",
       "469.1082        1\n",
       "74.58           1\n",
       "801.735         1\n",
       "Name: Price, Length: 83, dtype: int64"
      ]
     },
     "execution_count": 7,
     "metadata": {},
     "output_type": "execute_result"
    }
   ],
   "source": [
    "app['Price'].value_counts()"
   ]
  },
  {
   "cell_type": "code",
   "execution_count": 8,
   "metadata": {},
   "outputs": [],
   "source": [
    "app['Price']=pd.to_numeric(app['Price'])"
   ]
  },
  {
   "cell_type": "code",
   "execution_count": 9,
   "metadata": {},
   "outputs": [
    {
     "name": "stdout",
     "output_type": "stream",
     "text": [
      "<class 'pandas.core.frame.DataFrame'>\n",
      "RangeIndex: 16516 entries, 0 to 16515\n",
      "Data columns (total 5 columns):\n",
      " #   Column          Non-Null Count  Dtype  \n",
      "---  ------          --------------  -----  \n",
      " 0   Rating          16516 non-null  float64\n",
      " 1   Reviews         16516 non-null  int64  \n",
      " 2   Price           16516 non-null  float64\n",
      " 3   Content_Rating  16516 non-null  int64  \n",
      " 4   Downloads       16516 non-null  int64  \n",
      "dtypes: float64(2), int64(3)\n",
      "memory usage: 645.3 KB\n"
     ]
    }
   ],
   "source": [
    "app.info()"
   ]
  },
  {
   "cell_type": "code",
   "execution_count": 10,
   "metadata": {},
   "outputs": [
    {
     "data": {
      "text/html": [
       "<div>\n",
       "<style scoped>\n",
       "    .dataframe tbody tr th:only-of-type {\n",
       "        vertical-align: middle;\n",
       "    }\n",
       "\n",
       "    .dataframe tbody tr th {\n",
       "        vertical-align: top;\n",
       "    }\n",
       "\n",
       "    .dataframe thead th {\n",
       "        text-align: right;\n",
       "    }\n",
       "</style>\n",
       "<table border=\"1\" class=\"dataframe\">\n",
       "  <thead>\n",
       "    <tr style=\"text-align: right;\">\n",
       "      <th></th>\n",
       "      <th>Rating</th>\n",
       "      <th>Reviews</th>\n",
       "      <th>Price</th>\n",
       "      <th>Content_Rating</th>\n",
       "      <th>Downloads</th>\n",
       "    </tr>\n",
       "  </thead>\n",
       "  <tbody>\n",
       "    <tr>\n",
       "      <th>0</th>\n",
       "      <td>4.18</td>\n",
       "      <td>1481</td>\n",
       "      <td>0.0000</td>\n",
       "      <td>1</td>\n",
       "      <td>8</td>\n",
       "    </tr>\n",
       "    <tr>\n",
       "      <th>1</th>\n",
       "      <td>4.81</td>\n",
       "      <td>302</td>\n",
       "      <td>0.0000</td>\n",
       "      <td>1</td>\n",
       "      <td>5</td>\n",
       "    </tr>\n",
       "    <tr>\n",
       "      <th>2</th>\n",
       "      <td>4.27</td>\n",
       "      <td>374</td>\n",
       "      <td>0.0000</td>\n",
       "      <td>1</td>\n",
       "      <td>6</td>\n",
       "    </tr>\n",
       "    <tr>\n",
       "      <th>3</th>\n",
       "      <td>4.03</td>\n",
       "      <td>122058</td>\n",
       "      <td>0.0000</td>\n",
       "      <td>4</td>\n",
       "      <td>12</td>\n",
       "    </tr>\n",
       "    <tr>\n",
       "      <th>4</th>\n",
       "      <td>4.60</td>\n",
       "      <td>358</td>\n",
       "      <td>297.5742</td>\n",
       "      <td>1</td>\n",
       "      <td>5</td>\n",
       "    </tr>\n",
       "  </tbody>\n",
       "</table>\n",
       "</div>"
      ],
      "text/plain": [
       "   Rating  Reviews     Price  Content_Rating  Downloads\n",
       "0    4.18     1481    0.0000               1          8\n",
       "1    4.81      302    0.0000               1          5\n",
       "2    4.27      374    0.0000               1          6\n",
       "3    4.03   122058    0.0000               4         12\n",
       "4    4.60      358  297.5742               1          5"
      ]
     },
     "execution_count": 10,
     "metadata": {},
     "output_type": "execute_result"
    }
   ],
   "source": [
    "app.head()"
   ]
  },
  {
   "cell_type": "code",
   "execution_count": 11,
   "metadata": {},
   "outputs": [
    {
     "name": "stdout",
     "output_type": "stream",
     "text": [
      "<class 'pandas.core.frame.DataFrame'>\n",
      "RangeIndex: 24776 entries, 0 to 24775\n",
      "Data columns (total 10 columns):\n",
      " #   Column               Non-Null Count  Dtype  \n",
      "---  ------               --------------  -----  \n",
      " 0   Offered_By           24776 non-null  object \n",
      " 1   Category             24776 non-null  object \n",
      " 2   Rating               24776 non-null  float64\n",
      " 3   Reviews              24776 non-null  int64  \n",
      " 4   Size                 24776 non-null  object \n",
      " 5   Price                24776 non-null  object \n",
      " 6   Content_Rating       24776 non-null  object \n",
      " 7   Last_Updated_On      24776 non-null  object \n",
      " 8   Release_Version      24776 non-null  object \n",
      " 9   OS_Version_Required  24776 non-null  object \n",
      "dtypes: float64(1), int64(1), object(8)\n",
      "memory usage: 1.9+ MB\n"
     ]
    }
   ],
   "source": [
    "test.info()"
   ]
  },
  {
   "cell_type": "code",
   "execution_count": 12,
   "metadata": {},
   "outputs": [],
   "source": [
    "test.drop(['Offered_By','Category','Size','Last_Updated_On','Release_Version','OS_Version_Required'],axis=1,inplace=True)"
   ]
  },
  {
   "cell_type": "code",
   "execution_count": 13,
   "metadata": {},
   "outputs": [],
   "source": [
    "test.replace(to_replace=['Free','Adults only 18+'],value=0,inplace=True)\n",
    "test.replace(to_replace=['Everyone'],value=1,inplace=True)\n",
    "test.replace(to_replace=['Everyone 10+'],value=2,inplace=True)\n",
    "test.replace(to_replace=['Mature 17+'],value=3,inplace=True)\n",
    "test.replace(to_replace=['Teen'],value=4,inplace=True)\n",
    "test.replace(to_replace=['Unrated'],value=5,inplace=True)"
   ]
  },
  {
   "cell_type": "code",
   "execution_count": 14,
   "metadata": {},
   "outputs": [
    {
     "name": "stdout",
     "output_type": "stream",
     "text": [
      "<class 'pandas.core.frame.DataFrame'>\n",
      "RangeIndex: 24776 entries, 0 to 24775\n",
      "Data columns (total 4 columns):\n",
      " #   Column          Non-Null Count  Dtype  \n",
      "---  ------          --------------  -----  \n",
      " 0   Rating          24776 non-null  float64\n",
      " 1   Reviews         24776 non-null  int64  \n",
      " 2   Price           24776 non-null  object \n",
      " 3   Content_Rating  24776 non-null  int64  \n",
      "dtypes: float64(1), int64(2), object(1)\n",
      "memory usage: 774.4+ KB\n"
     ]
    }
   ],
   "source": [
    "test.info()"
   ]
  },
  {
   "cell_type": "code",
   "execution_count": 15,
   "metadata": {},
   "outputs": [],
   "source": [
    "test['Price']=pd.to_numeric(test['Price'])"
   ]
  },
  {
   "cell_type": "code",
   "execution_count": 16,
   "metadata": {},
   "outputs": [
    {
     "name": "stdout",
     "output_type": "stream",
     "text": [
      "<class 'pandas.core.frame.DataFrame'>\n",
      "RangeIndex: 24776 entries, 0 to 24775\n",
      "Data columns (total 4 columns):\n",
      " #   Column          Non-Null Count  Dtype  \n",
      "---  ------          --------------  -----  \n",
      " 0   Rating          24776 non-null  float64\n",
      " 1   Reviews         24776 non-null  int64  \n",
      " 2   Price           24776 non-null  float64\n",
      " 3   Content_Rating  24776 non-null  int64  \n",
      "dtypes: float64(2), int64(2)\n",
      "memory usage: 774.4 KB\n"
     ]
    }
   ],
   "source": [
    "test.info()"
   ]
  },
  {
   "cell_type": "code",
   "execution_count": 21,
   "metadata": {},
   "outputs": [
    {
     "data": {
      "text/plain": [
       "<seaborn.axisgrid.PairGrid at 0x2d67cf96608>"
      ]
     },
     "execution_count": 21,
     "metadata": {},
     "output_type": "execute_result"
    },
    {
     "data": {
      "image/png": "[encoded data removed]",
      "text/plain": [
       "<Figure size 900x900 with 30 Axes>"
      ]
     },
     "metadata": {
      "needs_background": "light"
     },
     "output_type": "display_data"
    }
   ],
   "source": [
    "sns.pairplot(app)"
   ]
  },
  {
   "cell_type": "code",
   "execution_count": 17,
   "metadata": {},
   "outputs": [],
   "source": [
    "X=app.drop(['Downloads'], axis=1).values\n",
    "y=app['Downloads'].values"
   ]
  },
  {
   "cell_type": "code",
   "execution_count": 18,
   "metadata": {},
   "outputs": [],
   "source": [
    "X_train, X_test, y_train, y_test=train_test_split(X,y,test_size=0.3, random_state=101)"
   ]
  },
  {
   "cell_type": "code",
   "execution_count": 19,
   "metadata": {},
   "outputs": [],
   "source": [
    "lin_reg=LinearRegression(fit_intercept=True)"
   ]
  },
  {
   "cell_type": "code",
   "execution_count": 20,
   "metadata": {},
   "outputs": [
    {
     "data": {
      "text/plain": [
       "LinearRegression()"
      ]
     },
     "execution_count": 20,
     "metadata": {},
     "output_type": "execute_result"
    }
   ],
   "source": [
    "lin_reg.fit(X_train,y_train)"
   ]
  },
  {
   "cell_type": "code",
   "execution_count": 21,
   "metadata": {},
   "outputs": [
    {
     "name": "stdout",
     "output_type": "stream",
     "text": [
      "Linear Model Coeff m:[ 2.32740754e-01  3.58602659e-07 -2.47665169e-04  3.71210734e-01]\n",
      "Linear Model Intercept c: 6.366477959787454\n"
     ]
    }
   ],
   "source": [
    "print('Linear Model Coeff m:{}'.format(lin_reg.coef_))\n",
    "print('Linear Model Intercept c: {}'.format(lin_reg.intercept_))"
   ]
  },
  {
   "cell_type": "code",
   "execution_count": 22,
   "metadata": {},
   "outputs": [],
   "source": [
    "y_predict=lin_reg.predict(X_test)"
   ]
  },
  {
   "cell_type": "code",
   "execution_count": 23,
   "metadata": {},
   "outputs": [
    {
     "data": {
      "text/plain": [
       "<matplotlib.axes._subplots.AxesSubplot at 0x1e43197d708>"
      ]
     },
     "execution_count": 23,
     "metadata": {},
     "output_type": "execute_result"
    },
    {
     "data": {
      "image/png": "[encoded data removed]",
      "text/plain": [
       "<Figure size 432x288 with 1 Axes>"
      ]
     },
     "metadata": {
      "needs_background": "light"
     },
     "output_type": "display_data"
    }
   ],
   "source": [
    "sns.distplot((y_predict-y_test))"
   ]
  },
  {
   "cell_type": "code",
   "execution_count": 24,
   "metadata": {},
   "outputs": [
    {
     "data": {
      "text/plain": [
       "array([7.83528764, 7.72591688, 7.68813233, ..., 7.79708399, 7.87114154,\n",
       "       7.67413023])"
      ]
     },
     "execution_count": 24,
     "metadata": {},
     "output_type": "execute_result"
    }
   ],
   "source": [
    "y_predict"
   ]
  },
  {
   "cell_type": "code",
   "execution_count": 25,
   "metadata": {},
   "outputs": [
    {
     "data": {
      "text/plain": [
       "array([10, 11,  8, ...,  4,  4,  8], dtype=int64)"
      ]
     },
     "execution_count": 25,
     "metadata": {},
     "output_type": "execute_result"
    }
   ],
   "source": [
    "y_test"
   ]
  },
  {
   "cell_type": "code",
   "execution_count": 26,
   "metadata": {},
   "outputs": [],
   "source": [
    "y_predict=lin_reg.predict(test)"
   ]
  },
  {
   "cell_type": "code",
   "execution_count": 28,
   "metadata": {},
   "outputs": [
    {
     "data": {
      "text/plain": [
       "array([7.79016532, 8.85098112, 7.85470076, ..., 7.85036844, 7.92826317,\n",
       "       7.66452296])"
      ]
     },
     "execution_count": 28,
     "metadata": {},
     "output_type": "execute_result"
    }
   ],
   "source": [
    "y_predict"
   ]
  },
  {
   "cell_type": "code",
   "execution_count": 29,
   "metadata": {},
   "outputs": [],
   "source": [
    "y_predict=y_predict.astype(int)"
   ]
  },
  {
   "cell_type": "code",
   "execution_count": 30,
   "metadata": {},
   "outputs": [
    {
     "data": {
      "text/plain": [
       "array([7, 8, 7, ..., 7, 7, 7])"
      ]
     },
     "execution_count": 30,
     "metadata": {},
     "output_type": "execute_result"
    }
   ],
   "source": [
    "y_predict"
   ]
  },
  {
   "cell_type": "code",
   "execution_count": 31,
   "metadata": {},
   "outputs": [],
   "source": [
    "from sklearn.linear_model import LogisticRegression"
   ]
  },
  {
   "cell_type": "code",
   "execution_count": 32,
   "metadata": {},
   "outputs": [],
   "source": [
    "log_reg=LogisticRegression(fit_intercept=True, random_state=0)"
   ]
  },
  {
   "cell_type": "code",
   "execution_count": 33,
   "metadata": {},
   "outputs": [
    {
     "name": "stderr",
     "output_type": "stream",
     "text": [
      "c:\\users\\hp\\appdata\\local\\programs\\python\\python37\\lib\\site-packages\\sklearn\\linear_model\\_logistic.py:764: ConvergenceWarning: lbfgs failed to converge (status=1):\n",
      "STOP: TOTAL NO. of ITERATIONS REACHED LIMIT.\n",
      "\n",
      "Increase the number of iterations (max_iter) or scale the data as shown in:\n",
      "    https://scikit-learn.org/stable/modules/preprocessing.html\n",
      "Please also refer to the documentation for alternative solver options:\n",
      "    https://scikit-learn.org/stable/modules/linear_model.html#logistic-regression\n",
      "  extra_warning_msg=_LOGISTIC_SOLVER_CONVERGENCE_MSG)\n"
     ]
    },
    {
     "data": {
      "text/plain": [
       "LogisticRegression(random_state=0)"
      ]
     },
     "execution_count": 33,
     "metadata": {},
     "output_type": "execute_result"
    }
   ],
   "source": [
    "log_reg.fit(X_train, y_train)"
   ]
  },
  {
   "cell_type": "code",
   "execution_count": 34,
   "metadata": {},
   "outputs": [
    {
     "name": "stdout",
     "output_type": "stream",
     "text": [
      "Logistic Coeff: [[-2.84643783e-08 -8.34070216e-05 -2.25377030e-07 -9.03296883e-09]\n",
      " [-2.86838356e-08 -8.34066151e-05 -2.44879333e-07 -8.96741133e-09]\n",
      " [-7.15431956e-09 -8.33666653e-05  7.75299573e-08 -3.18204661e-09]\n",
      " [-1.52987034e-08 -8.33369953e-05 -8.24607869e-08 -5.09970899e-09]\n",
      " [ 2.58760395e-08 -8.28745147e-05  1.38961185e-06  7.14175333e-09]\n",
      " [ 2.99148120e-09 -8.26158156e-05  6.61118122e-08  9.12963009e-10]\n",
      " [ 7.65697833e-08 -7.50636158e-05  1.52118618e-06  2.27852265e-08]\n",
      " [ 2.65518181e-08 -7.07186769e-05  2.94681214e-08  8.43039007e-09]\n",
      " [ 1.17838856e-07  2.23795257e-05  2.82456142e-07  3.68654704e-08]\n",
      " [ 3.20888570e-08  6.38427191e-05 -1.47816221e-07  1.10431008e-08]\n",
      " [ 7.88021819e-08  6.91579874e-05 -2.55838403e-07  2.78529645e-08]\n",
      " [-1.04887944e-08  6.89433635e-05 -3.43271734e-07 -2.56761332e-09]\n",
      " [ 9.27403459e-10  7.04046696e-05 -3.38604476e-07  2.91224998e-09]\n",
      " [-4.92570891e-08  7.02854291e-05 -3.46399064e-07 -1.54484346e-08]\n",
      " [-4.97918921e-08  7.04856773e-05 -3.47496019e-07 -1.65460403e-08]\n",
      " [-5.99167250e-08  7.02970330e-05 -3.47082401e-07 -2.02954549e-08]\n",
      " [-6.10393538e-08  7.04771064e-05 -3.47317937e-07 -2.01413220e-08]\n",
      " [-5.15513290e-08  6.85164092e-05 -3.39820655e-07 -1.66631179e-08]]\n",
      "Logistic constant: [-6.79652255e-09 -6.86208100e-09 -1.99449025e-09 -3.64989370e-09\n",
      "  6.26469714e-09  8.55615339e-10  1.83589987e-08  6.27006013e-09\n",
      "  2.77604557e-08  7.44203379e-09  1.82897403e-08 -2.48714637e-09\n",
      "  6.35098026e-11 -1.15480959e-08 -1.16852122e-08 -1.39766486e-08\n",
      " -1.42214148e-08 -1.20836056e-08]\n"
     ]
    }
   ],
   "source": [
    "print(f'Logistic Coeff: {log_reg.coef_}')\n",
    "print(f'Logistic constant: {log_reg.intercept_}')"
   ]
  },
  {
   "cell_type": "code",
   "execution_count": 35,
   "metadata": {},
   "outputs": [],
   "source": [
    "y_predict=log_reg.predict(X_test)"
   ]
  },
  {
   "cell_type": "code",
   "execution_count": 36,
   "metadata": {},
   "outputs": [],
   "source": [
    "y_predict_train=log_reg.predict(X_train)"
   ]
  },
  {
   "cell_type": "code",
   "execution_count": 59,
   "metadata": {},
   "outputs": [],
   "source": [
    "y_predict=log_reg.predict_proba(test)"
   ]
  },
  {
   "cell_type": "code",
   "execution_count": 60,
   "metadata": {},
   "outputs": [
    {
     "data": {
      "text/plain": [
       "array([[4.93475054e-02, 4.93475327e-02, 4.93502232e-02, ...,\n",
       "        6.08390576e-02, 6.08539805e-02, 6.06916916e-02],\n",
       "       [4.07937502e-02, 4.07938058e-02, 4.07992755e-02, ...,\n",
       "        6.82992235e-02, 6.83404737e-02, 6.78926660e-02],\n",
       "       [2.00864801e-12, 2.00878017e-12, 2.02181140e-12, ...,\n",
       "        1.27991726e-01, 1.31777040e-01, 9.59438191e-02],\n",
       "       ...,\n",
       "       [5.32555896e-02, 5.32556003e-02, 5.32566680e-02, ...,\n",
       "        5.75009185e-02, 5.75060853e-02, 5.74498525e-02],\n",
       "       [1.76423535e-23, 1.76447061e-23, 1.78774735e-23, ...,\n",
       "        1.39578958e-01, 1.48072725e-01, 7.78276572e-02],\n",
       "       [4.88790814e-02, 4.88791105e-02, 4.88819799e-02, ...,\n",
       "        6.12419998e-02, 6.12581799e-02, 6.10822361e-02]])"
      ]
     },
     "execution_count": 60,
     "metadata": {},
     "output_type": "execute_result"
    }
   ],
   "source": [
    "y_predict"
   ]
  },
  {
   "cell_type": "code",
   "execution_count": 66,
   "metadata": {},
   "outputs": [],
   "source": [
    "y_predict=np.round(y_predict,1)"
   ]
  },
  {
   "cell_type": "code",
   "execution_count": 67,
   "metadata": {},
   "outputs": [
    {
     "data": {
      "text/plain": [
       "array([[0. , 0. , 0. , ..., 0.1, 0.1, 0.1],\n",
       "       [0. , 0. , 0. , ..., 0.1, 0.1, 0.1],\n",
       "       [0. , 0. , 0. , ..., 0.1, 0.1, 0.1],\n",
       "       ...,\n",
       "       [0.1, 0.1, 0.1, ..., 0.1, 0.1, 0.1],\n",
       "       [0. , 0. , 0. , ..., 0.1, 0.1, 0.1],\n",
       "       [0. , 0. , 0. , ..., 0.1, 0.1, 0.1]])"
      ]
     },
     "execution_count": 67,
     "metadata": {},
     "output_type": "execute_result"
    }
   ],
   "source": [
    "y_predict"
   ]
  },
  {
   "cell_type": "code",
   "execution_count": 68,
   "metadata": {},
   "outputs": [
    {
     "data": {
      "text/plain": [
       "(24776, 18)"
      ]
     },
     "execution_count": 68,
     "metadata": {},
     "output_type": "execute_result"
    }
   ],
   "source": [
    "y_predict.shape"
   ]
  },
  {
   "cell_type": "code",
   "execution_count": 69,
   "metadata": {},
   "outputs": [],
   "source": [
    "predict=pd.DataFrame(data=y_predict)"
   ]
  },
  {
   "cell_type": "code",
   "execution_count": 70,
   "metadata": {},
   "outputs": [
    {
     "data": {
      "text/html": [
       "<div>\n",
       "<style scoped>\n",
       "    .dataframe tbody tr th:only-of-type {\n",
       "        vertical-align: middle;\n",
       "    }\n",
       "\n",
       "    .dataframe tbody tr th {\n",
       "        vertical-align: top;\n",
       "    }\n",
       "\n",
       "    .dataframe thead th {\n",
       "        text-align: right;\n",
       "    }\n",
       "</style>\n",
       "<table border=\"1\" class=\"dataframe\">\n",
       "  <thead>\n",
       "    <tr style=\"text-align: right;\">\n",
       "      <th></th>\n",
       "      <th>0</th>\n",
       "      <th>1</th>\n",
       "      <th>2</th>\n",
       "      <th>3</th>\n",
       "      <th>4</th>\n",
       "      <th>5</th>\n",
       "      <th>6</th>\n",
       "      <th>7</th>\n",
       "      <th>8</th>\n",
       "      <th>9</th>\n",
       "      <th>10</th>\n",
       "      <th>11</th>\n",
       "      <th>12</th>\n",
       "      <th>13</th>\n",
       "      <th>14</th>\n",
       "      <th>15</th>\n",
       "      <th>16</th>\n",
       "      <th>17</th>\n",
       "    </tr>\n",
       "  </thead>\n",
       "  <tbody>\n",
       "    <tr>\n",
       "      <th>0</th>\n",
       "      <td>0.0</td>\n",
       "      <td>0.0</td>\n",
       "      <td>0.0</td>\n",
       "      <td>0.0</td>\n",
       "      <td>0.0</td>\n",
       "      <td>0.0</td>\n",
       "      <td>0.0</td>\n",
       "      <td>0.1</td>\n",
       "      <td>0.1</td>\n",
       "      <td>0.1</td>\n",
       "      <td>0.1</td>\n",
       "      <td>0.1</td>\n",
       "      <td>0.1</td>\n",
       "      <td>0.1</td>\n",
       "      <td>0.1</td>\n",
       "      <td>0.1</td>\n",
       "      <td>0.1</td>\n",
       "      <td>0.1</td>\n",
       "    </tr>\n",
       "    <tr>\n",
       "      <th>1</th>\n",
       "      <td>0.0</td>\n",
       "      <td>0.0</td>\n",
       "      <td>0.0</td>\n",
       "      <td>0.0</td>\n",
       "      <td>0.0</td>\n",
       "      <td>0.0</td>\n",
       "      <td>0.0</td>\n",
       "      <td>0.0</td>\n",
       "      <td>0.1</td>\n",
       "      <td>0.1</td>\n",
       "      <td>0.1</td>\n",
       "      <td>0.1</td>\n",
       "      <td>0.1</td>\n",
       "      <td>0.1</td>\n",
       "      <td>0.1</td>\n",
       "      <td>0.1</td>\n",
       "      <td>0.1</td>\n",
       "      <td>0.1</td>\n",
       "    </tr>\n",
       "    <tr>\n",
       "      <th>2</th>\n",
       "      <td>0.0</td>\n",
       "      <td>0.0</td>\n",
       "      <td>0.0</td>\n",
       "      <td>0.0</td>\n",
       "      <td>0.0</td>\n",
       "      <td>0.0</td>\n",
       "      <td>0.0</td>\n",
       "      <td>0.0</td>\n",
       "      <td>0.0</td>\n",
       "      <td>0.0</td>\n",
       "      <td>0.1</td>\n",
       "      <td>0.1</td>\n",
       "      <td>0.1</td>\n",
       "      <td>0.1</td>\n",
       "      <td>0.1</td>\n",
       "      <td>0.1</td>\n",
       "      <td>0.1</td>\n",
       "      <td>0.1</td>\n",
       "    </tr>\n",
       "    <tr>\n",
       "      <th>3</th>\n",
       "      <td>0.1</td>\n",
       "      <td>0.1</td>\n",
       "      <td>0.1</td>\n",
       "      <td>0.1</td>\n",
       "      <td>0.1</td>\n",
       "      <td>0.1</td>\n",
       "      <td>0.1</td>\n",
       "      <td>0.1</td>\n",
       "      <td>0.1</td>\n",
       "      <td>0.1</td>\n",
       "      <td>0.1</td>\n",
       "      <td>0.1</td>\n",
       "      <td>0.1</td>\n",
       "      <td>0.1</td>\n",
       "      <td>0.1</td>\n",
       "      <td>0.1</td>\n",
       "      <td>0.1</td>\n",
       "      <td>0.1</td>\n",
       "    </tr>\n",
       "    <tr>\n",
       "      <th>4</th>\n",
       "      <td>0.0</td>\n",
       "      <td>0.0</td>\n",
       "      <td>0.0</td>\n",
       "      <td>0.0</td>\n",
       "      <td>0.0</td>\n",
       "      <td>0.0</td>\n",
       "      <td>0.0</td>\n",
       "      <td>0.0</td>\n",
       "      <td>0.1</td>\n",
       "      <td>0.1</td>\n",
       "      <td>0.1</td>\n",
       "      <td>0.1</td>\n",
       "      <td>0.1</td>\n",
       "      <td>0.1</td>\n",
       "      <td>0.1</td>\n",
       "      <td>0.1</td>\n",
       "      <td>0.1</td>\n",
       "      <td>0.1</td>\n",
       "    </tr>\n",
       "  </tbody>\n",
       "</table>\n",
       "</div>"
      ],
      "text/plain": [
       "     0    1    2    3    4    5    6    7    8    9   10   11   12   13   14  \\\n",
       "0  0.0  0.0  0.0  0.0  0.0  0.0  0.0  0.1  0.1  0.1  0.1  0.1  0.1  0.1  0.1   \n",
       "1  0.0  0.0  0.0  0.0  0.0  0.0  0.0  0.0  0.1  0.1  0.1  0.1  0.1  0.1  0.1   \n",
       "2  0.0  0.0  0.0  0.0  0.0  0.0  0.0  0.0  0.0  0.0  0.1  0.1  0.1  0.1  0.1   \n",
       "3  0.1  0.1  0.1  0.1  0.1  0.1  0.1  0.1  0.1  0.1  0.1  0.1  0.1  0.1  0.1   \n",
       "4  0.0  0.0  0.0  0.0  0.0  0.0  0.0  0.0  0.1  0.1  0.1  0.1  0.1  0.1  0.1   \n",
       "\n",
       "    15   16   17  \n",
       "0  0.1  0.1  0.1  \n",
       "1  0.1  0.1  0.1  \n",
       "2  0.1  0.1  0.1  \n",
       "3  0.1  0.1  0.1  \n",
       "4  0.1  0.1  0.1  "
      ]
     },
     "execution_count": 70,
     "metadata": {},
     "output_type": "execute_result"
    }
   ],
   "source": [
    "predict.head()"
   ]
  },
  {
   "cell_type": "code",
   "execution_count": 71,
   "metadata": {},
   "outputs": [],
   "source": [
    "predict.to_csv('solution1.csv',index=False)"
   ]
  },
  {
   "cell_type": "code",
   "execution_count": null,
   "metadata": {},
   "outputs": [],
   "source": []
  }
 ],
 "metadata": {
  "kernelspec": {
   "display_name": "Python 3",
   "language": "python",
   "name": "python3"
  },
  "language_info": {
   "codemirror_mode": {
    "name": "ipython",
    "version": 3
   },
   "file_extension": ".py",
   "mimetype": "text/x-python",
   "name": "python",
   "nbconvert_exporter": "python",
   "pygments_lexer": "ipython3",
   "version": "3.7.6"
  }
 },
 "nbformat": 4,
 "nbformat_minor": 4
}
