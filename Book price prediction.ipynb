{
 "cells": [
  {
   "cell_type": "code",
   "execution_count": 1,
   "metadata": {},
   "outputs": [],
   "source": [
    "import pandas as pd\n",
    "import numpy as np\n",
    "import matplotlib.pyplot as plt\n",
    "import seaborn as sns\n",
    "from sklearn.model_selection import train_test_split\n",
    "from sklearn.linear_model import LinearRegression,Lasso, Ridge\n",
    "from sklearn.metrics import mean_squared_error, mean_absolute_error, r2_score\n",
    "from sklearn.preprocessing import StandardScaler\n",
    "\n",
    "from tensorflow.keras.models import Sequential\n",
    "from tensorflow.keras.layers import Dense"
   ]
  },
  {
   "cell_type": "code",
   "execution_count": 2,
   "metadata": {},
   "outputs": [],
   "source": [
    "df=pd.read_excel('Train.xlsx')\n",
    "test=pd.read_excel('Test.xlsx')"
   ]
  },
  {
   "cell_type": "code",
   "execution_count": 3,
   "metadata": {},
   "outputs": [
    {
     "name": "stdout",
     "output_type": "stream",
     "text": [
      "<class 'pandas.core.frame.DataFrame'>\n",
      "RangeIndex: 6237 entries, 0 to 6236\n",
      "Data columns (total 9 columns):\n",
      " #   Column        Non-Null Count  Dtype  \n",
      "---  ------        --------------  -----  \n",
      " 0   Title         6237 non-null   object \n",
      " 1   Author        6237 non-null   object \n",
      " 2   Edition       6237 non-null   object \n",
      " 3   Reviews       6237 non-null   object \n",
      " 4   Ratings       6237 non-null   object \n",
      " 5   Synopsis      6237 non-null   object \n",
      " 6   Genre         6237 non-null   object \n",
      " 7   BookCategory  6237 non-null   object \n",
      " 8   Price         6237 non-null   float64\n",
      "dtypes: float64(1), object(8)\n",
      "memory usage: 438.7+ KB\n"
     ]
    }
   ],
   "source": [
    "df.info()"
   ]
  },
  {
   "cell_type": "code",
   "execution_count": 4,
   "metadata": {},
   "outputs": [
    {
     "data": {
      "text/html": [
       "<div>\n",
       "<style scoped>\n",
       "    .dataframe tbody tr th:only-of-type {\n",
       "        vertical-align: middle;\n",
       "    }\n",
       "\n",
       "    .dataframe tbody tr th {\n",
       "        vertical-align: top;\n",
       "    }\n",
       "\n",
       "    .dataframe thead th {\n",
       "        text-align: right;\n",
       "    }\n",
       "</style>\n",
       "<table border=\"1\" class=\"dataframe\">\n",
       "  <thead>\n",
       "    <tr style=\"text-align: right;\">\n",
       "      <th></th>\n",
       "      <th>Title</th>\n",
       "      <th>Author</th>\n",
       "      <th>Edition</th>\n",
       "      <th>Reviews</th>\n",
       "      <th>Ratings</th>\n",
       "      <th>Synopsis</th>\n",
       "      <th>Genre</th>\n",
       "      <th>BookCategory</th>\n",
       "      <th>Price</th>\n",
       "    </tr>\n",
       "  </thead>\n",
       "  <tbody>\n",
       "    <tr>\n",
       "      <th>0</th>\n",
       "      <td>The Prisoner's Gold (The Hunters 3)</td>\n",
       "      <td>Chris Kuzneski</td>\n",
       "      <td>Paperback,– 10 Mar 2016</td>\n",
       "      <td>4.0 out of 5 stars</td>\n",
       "      <td>8 customer reviews</td>\n",
       "      <td>THE HUNTERS return in their third brilliant no...</td>\n",
       "      <td>Action &amp; Adventure (Books)</td>\n",
       "      <td>Action &amp; Adventure</td>\n",
       "      <td>220.00</td>\n",
       "    </tr>\n",
       "    <tr>\n",
       "      <th>1</th>\n",
       "      <td>Guru Dutt: A Tragedy in Three Acts</td>\n",
       "      <td>Arun Khopkar</td>\n",
       "      <td>Paperback,– 7 Nov 2012</td>\n",
       "      <td>3.9 out of 5 stars</td>\n",
       "      <td>14 customer reviews</td>\n",
       "      <td>A layered portrait of a troubled genius for wh...</td>\n",
       "      <td>Cinema &amp; Broadcast (Books)</td>\n",
       "      <td>Biographies, Diaries &amp; True Accounts</td>\n",
       "      <td>202.93</td>\n",
       "    </tr>\n",
       "    <tr>\n",
       "      <th>2</th>\n",
       "      <td>Leviathan (Penguin Classics)</td>\n",
       "      <td>Thomas Hobbes</td>\n",
       "      <td>Paperback,– 25 Feb 1982</td>\n",
       "      <td>4.8 out of 5 stars</td>\n",
       "      <td>6 customer reviews</td>\n",
       "      <td>\"During the time men live without a common Pow...</td>\n",
       "      <td>International Relations</td>\n",
       "      <td>Humour</td>\n",
       "      <td>299.00</td>\n",
       "    </tr>\n",
       "    <tr>\n",
       "      <th>3</th>\n",
       "      <td>A Pocket Full of Rye (Miss Marple)</td>\n",
       "      <td>Agatha Christie</td>\n",
       "      <td>Paperback,– 5 Oct 2017</td>\n",
       "      <td>4.1 out of 5 stars</td>\n",
       "      <td>13 customer reviews</td>\n",
       "      <td>A handful of grain is found in the pocket of a...</td>\n",
       "      <td>Contemporary Fiction (Books)</td>\n",
       "      <td>Crime, Thriller &amp; Mystery</td>\n",
       "      <td>180.00</td>\n",
       "    </tr>\n",
       "    <tr>\n",
       "      <th>4</th>\n",
       "      <td>LIFE 70 Years of Extraordinary Photography</td>\n",
       "      <td>Editors of Life</td>\n",
       "      <td>Hardcover,– 10 Oct 2006</td>\n",
       "      <td>5.0 out of 5 stars</td>\n",
       "      <td>1 customer review</td>\n",
       "      <td>For seven decades, \"Life\" has been thrilling t...</td>\n",
       "      <td>Photography Textbooks</td>\n",
       "      <td>Arts, Film &amp; Photography</td>\n",
       "      <td>965.62</td>\n",
       "    </tr>\n",
       "  </tbody>\n",
       "</table>\n",
       "</div>"
      ],
      "text/plain": [
       "                                        Title           Author  \\\n",
       "0         The Prisoner's Gold (The Hunters 3)   Chris Kuzneski   \n",
       "1          Guru Dutt: A Tragedy in Three Acts     Arun Khopkar   \n",
       "2                Leviathan (Penguin Classics)    Thomas Hobbes   \n",
       "3          A Pocket Full of Rye (Miss Marple)  Agatha Christie   \n",
       "4  LIFE 70 Years of Extraordinary Photography  Editors of Life   \n",
       "\n",
       "                   Edition             Reviews              Ratings  \\\n",
       "0  Paperback,– 10 Mar 2016  4.0 out of 5 stars   8 customer reviews   \n",
       "1   Paperback,– 7 Nov 2012  3.9 out of 5 stars  14 customer reviews   \n",
       "2  Paperback,– 25 Feb 1982  4.8 out of 5 stars   6 customer reviews   \n",
       "3   Paperback,– 5 Oct 2017  4.1 out of 5 stars  13 customer reviews   \n",
       "4  Hardcover,– 10 Oct 2006  5.0 out of 5 stars    1 customer review   \n",
       "\n",
       "                                            Synopsis  \\\n",
       "0  THE HUNTERS return in their third brilliant no...   \n",
       "1  A layered portrait of a troubled genius for wh...   \n",
       "2  \"During the time men live without a common Pow...   \n",
       "3  A handful of grain is found in the pocket of a...   \n",
       "4  For seven decades, \"Life\" has been thrilling t...   \n",
       "\n",
       "                          Genre                          BookCategory   Price  \n",
       "0    Action & Adventure (Books)                    Action & Adventure  220.00  \n",
       "1    Cinema & Broadcast (Books)  Biographies, Diaries & True Accounts  202.93  \n",
       "2       International Relations                                Humour  299.00  \n",
       "3  Contemporary Fiction (Books)             Crime, Thriller & Mystery  180.00  \n",
       "4         Photography Textbooks              Arts, Film & Photography  965.62  "
      ]
     },
     "execution_count": 4,
     "metadata": {},
     "output_type": "execute_result"
    }
   ],
   "source": [
    "df.head()"
   ]
  },
  {
   "cell_type": "code",
   "execution_count": 5,
   "metadata": {},
   "outputs": [
    {
     "data": {
      "text/html": [
       "<div>\n",
       "<style scoped>\n",
       "    .dataframe tbody tr th:only-of-type {\n",
       "        vertical-align: middle;\n",
       "    }\n",
       "\n",
       "    .dataframe tbody tr th {\n",
       "        vertical-align: top;\n",
       "    }\n",
       "\n",
       "    .dataframe thead th {\n",
       "        text-align: right;\n",
       "    }\n",
       "</style>\n",
       "<table border=\"1\" class=\"dataframe\">\n",
       "  <thead>\n",
       "    <tr style=\"text-align: right;\">\n",
       "      <th></th>\n",
       "      <th>0</th>\n",
       "      <th>1</th>\n",
       "    </tr>\n",
       "  </thead>\n",
       "  <tbody>\n",
       "    <tr>\n",
       "      <th>0</th>\n",
       "      <td>Paperback</td>\n",
       "      <td>– 10 Mar 2016</td>\n",
       "    </tr>\n",
       "    <tr>\n",
       "      <th>1</th>\n",
       "      <td>Paperback</td>\n",
       "      <td>– 7 Nov 2012</td>\n",
       "    </tr>\n",
       "    <tr>\n",
       "      <th>2</th>\n",
       "      <td>Paperback</td>\n",
       "      <td>– 25 Feb 1982</td>\n",
       "    </tr>\n",
       "    <tr>\n",
       "      <th>3</th>\n",
       "      <td>Paperback</td>\n",
       "      <td>– 5 Oct 2017</td>\n",
       "    </tr>\n",
       "    <tr>\n",
       "      <th>4</th>\n",
       "      <td>Hardcover</td>\n",
       "      <td>– 10 Oct 2006</td>\n",
       "    </tr>\n",
       "    <tr>\n",
       "      <th>...</th>\n",
       "      <td>...</td>\n",
       "      <td>...</td>\n",
       "    </tr>\n",
       "    <tr>\n",
       "      <th>6232</th>\n",
       "      <td>Paperback</td>\n",
       "      <td>– 8 Aug 2018</td>\n",
       "    </tr>\n",
       "    <tr>\n",
       "      <th>6233</th>\n",
       "      <td>Paperback</td>\n",
       "      <td>– 21 Nov 2016</td>\n",
       "    </tr>\n",
       "    <tr>\n",
       "      <th>6234</th>\n",
       "      <td>Paperback</td>\n",
       "      <td>– 8 Jun 2006</td>\n",
       "    </tr>\n",
       "    <tr>\n",
       "      <th>6235</th>\n",
       "      <td>Paperback</td>\n",
       "      <td>– 15 Jan 2015</td>\n",
       "    </tr>\n",
       "    <tr>\n",
       "      <th>6236</th>\n",
       "      <td>Paperback</td>\n",
       "      <td>– 21 Dec 2016</td>\n",
       "    </tr>\n",
       "  </tbody>\n",
       "</table>\n",
       "<p>6237 rows × 2 columns</p>\n",
       "</div>"
      ],
      "text/plain": [
       "              0              1\n",
       "0     Paperback  – 10 Mar 2016\n",
       "1     Paperback   – 7 Nov 2012\n",
       "2     Paperback  – 25 Feb 1982\n",
       "3     Paperback   – 5 Oct 2017\n",
       "4     Hardcover  – 10 Oct 2006\n",
       "...         ...            ...\n",
       "6232  Paperback   – 8 Aug 2018\n",
       "6233  Paperback  – 21 Nov 2016\n",
       "6234  Paperback   – 8 Jun 2006\n",
       "6235  Paperback  – 15 Jan 2015\n",
       "6236  Paperback  – 21 Dec 2016\n",
       "\n",
       "[6237 rows x 2 columns]"
      ]
     },
     "execution_count": 5,
     "metadata": {},
     "output_type": "execute_result"
    }
   ],
   "source": [
    "edition = df[\"Edition\"].str.split(\",\", n = 1, expand = True)\n",
    "edition"
   ]
  },
  {
   "cell_type": "code",
   "execution_count": 6,
   "metadata": {},
   "outputs": [],
   "source": [
    "df['style'] = edition[0]"
   ]
  },
  {
   "cell_type": "code",
   "execution_count": 7,
   "metadata": {},
   "outputs": [
    {
     "data": {
      "text/html": [
       "<div>\n",
       "<style scoped>\n",
       "    .dataframe tbody tr th:only-of-type {\n",
       "        vertical-align: middle;\n",
       "    }\n",
       "\n",
       "    .dataframe tbody tr th {\n",
       "        vertical-align: top;\n",
       "    }\n",
       "\n",
       "    .dataframe thead th {\n",
       "        text-align: right;\n",
       "    }\n",
       "</style>\n",
       "<table border=\"1\" class=\"dataframe\">\n",
       "  <thead>\n",
       "    <tr style=\"text-align: right;\">\n",
       "      <th></th>\n",
       "      <th>0</th>\n",
       "      <th>1</th>\n",
       "    </tr>\n",
       "  </thead>\n",
       "  <tbody>\n",
       "    <tr>\n",
       "      <th>0</th>\n",
       "      <td>4.0</td>\n",
       "      <td>out of 5 stars</td>\n",
       "    </tr>\n",
       "    <tr>\n",
       "      <th>1</th>\n",
       "      <td>3.9</td>\n",
       "      <td>out of 5 stars</td>\n",
       "    </tr>\n",
       "    <tr>\n",
       "      <th>2</th>\n",
       "      <td>4.8</td>\n",
       "      <td>out of 5 stars</td>\n",
       "    </tr>\n",
       "    <tr>\n",
       "      <th>3</th>\n",
       "      <td>4.1</td>\n",
       "      <td>out of 5 stars</td>\n",
       "    </tr>\n",
       "    <tr>\n",
       "      <th>4</th>\n",
       "      <td>5.0</td>\n",
       "      <td>out of 5 stars</td>\n",
       "    </tr>\n",
       "    <tr>\n",
       "      <th>...</th>\n",
       "      <td>...</td>\n",
       "      <td>...</td>\n",
       "    </tr>\n",
       "    <tr>\n",
       "      <th>6232</th>\n",
       "      <td>5.0</td>\n",
       "      <td>out of 5 stars</td>\n",
       "    </tr>\n",
       "    <tr>\n",
       "      <th>6233</th>\n",
       "      <td>3.3</td>\n",
       "      <td>out of 5 stars</td>\n",
       "    </tr>\n",
       "    <tr>\n",
       "      <th>6234</th>\n",
       "      <td>3.8</td>\n",
       "      <td>out of 5 stars</td>\n",
       "    </tr>\n",
       "    <tr>\n",
       "      <th>6235</th>\n",
       "      <td>3.5</td>\n",
       "      <td>out of 5 stars</td>\n",
       "    </tr>\n",
       "    <tr>\n",
       "      <th>6236</th>\n",
       "      <td>3.9</td>\n",
       "      <td>out of 5 stars</td>\n",
       "    </tr>\n",
       "  </tbody>\n",
       "</table>\n",
       "<p>6237 rows × 2 columns</p>\n",
       "</div>"
      ],
      "text/plain": [
       "        0               1\n",
       "0     4.0  out of 5 stars\n",
       "1     3.9  out of 5 stars\n",
       "2     4.8  out of 5 stars\n",
       "3     4.1  out of 5 stars\n",
       "4     5.0  out of 5 stars\n",
       "...   ...             ...\n",
       "6232  5.0  out of 5 stars\n",
       "6233  3.3  out of 5 stars\n",
       "6234  3.8  out of 5 stars\n",
       "6235  3.5  out of 5 stars\n",
       "6236  3.9  out of 5 stars\n",
       "\n",
       "[6237 rows x 2 columns]"
      ]
     },
     "execution_count": 7,
     "metadata": {},
     "output_type": "execute_result"
    }
   ],
   "source": [
    "reviews = df[\"Reviews\"].str.split(\" \", n = 1, expand = True)\n",
    "reviews"
   ]
  },
  {
   "cell_type": "code",
   "execution_count": 8,
   "metadata": {},
   "outputs": [],
   "source": [
    "df['stars'] = reviews[0]"
   ]
  },
  {
   "cell_type": "code",
   "execution_count": 9,
   "metadata": {},
   "outputs": [
    {
     "data": {
      "text/html": [
       "<div>\n",
       "<style scoped>\n",
       "    .dataframe tbody tr th:only-of-type {\n",
       "        vertical-align: middle;\n",
       "    }\n",
       "\n",
       "    .dataframe tbody tr th {\n",
       "        vertical-align: top;\n",
       "    }\n",
       "\n",
       "    .dataframe thead th {\n",
       "        text-align: right;\n",
       "    }\n",
       "</style>\n",
       "<table border=\"1\" class=\"dataframe\">\n",
       "  <thead>\n",
       "    <tr style=\"text-align: right;\">\n",
       "      <th></th>\n",
       "      <th>Title</th>\n",
       "      <th>Author</th>\n",
       "      <th>Edition</th>\n",
       "      <th>Reviews</th>\n",
       "      <th>Ratings</th>\n",
       "      <th>Synopsis</th>\n",
       "      <th>Genre</th>\n",
       "      <th>BookCategory</th>\n",
       "      <th>Price</th>\n",
       "      <th>style</th>\n",
       "      <th>stars</th>\n",
       "    </tr>\n",
       "  </thead>\n",
       "  <tbody>\n",
       "    <tr>\n",
       "      <th>0</th>\n",
       "      <td>The Prisoner's Gold (The Hunters 3)</td>\n",
       "      <td>Chris Kuzneski</td>\n",
       "      <td>Paperback,– 10 Mar 2016</td>\n",
       "      <td>4.0 out of 5 stars</td>\n",
       "      <td>8 customer reviews</td>\n",
       "      <td>THE HUNTERS return in their third brilliant no...</td>\n",
       "      <td>Action &amp; Adventure (Books)</td>\n",
       "      <td>Action &amp; Adventure</td>\n",
       "      <td>220.00</td>\n",
       "      <td>Paperback</td>\n",
       "      <td>4.0</td>\n",
       "    </tr>\n",
       "    <tr>\n",
       "      <th>1</th>\n",
       "      <td>Guru Dutt: A Tragedy in Three Acts</td>\n",
       "      <td>Arun Khopkar</td>\n",
       "      <td>Paperback,– 7 Nov 2012</td>\n",
       "      <td>3.9 out of 5 stars</td>\n",
       "      <td>14 customer reviews</td>\n",
       "      <td>A layered portrait of a troubled genius for wh...</td>\n",
       "      <td>Cinema &amp; Broadcast (Books)</td>\n",
       "      <td>Biographies, Diaries &amp; True Accounts</td>\n",
       "      <td>202.93</td>\n",
       "      <td>Paperback</td>\n",
       "      <td>3.9</td>\n",
       "    </tr>\n",
       "    <tr>\n",
       "      <th>2</th>\n",
       "      <td>Leviathan (Penguin Classics)</td>\n",
       "      <td>Thomas Hobbes</td>\n",
       "      <td>Paperback,– 25 Feb 1982</td>\n",
       "      <td>4.8 out of 5 stars</td>\n",
       "      <td>6 customer reviews</td>\n",
       "      <td>\"During the time men live without a common Pow...</td>\n",
       "      <td>International Relations</td>\n",
       "      <td>Humour</td>\n",
       "      <td>299.00</td>\n",
       "      <td>Paperback</td>\n",
       "      <td>4.8</td>\n",
       "    </tr>\n",
       "    <tr>\n",
       "      <th>3</th>\n",
       "      <td>A Pocket Full of Rye (Miss Marple)</td>\n",
       "      <td>Agatha Christie</td>\n",
       "      <td>Paperback,– 5 Oct 2017</td>\n",
       "      <td>4.1 out of 5 stars</td>\n",
       "      <td>13 customer reviews</td>\n",
       "      <td>A handful of grain is found in the pocket of a...</td>\n",
       "      <td>Contemporary Fiction (Books)</td>\n",
       "      <td>Crime, Thriller &amp; Mystery</td>\n",
       "      <td>180.00</td>\n",
       "      <td>Paperback</td>\n",
       "      <td>4.1</td>\n",
       "    </tr>\n",
       "    <tr>\n",
       "      <th>4</th>\n",
       "      <td>LIFE 70 Years of Extraordinary Photography</td>\n",
       "      <td>Editors of Life</td>\n",
       "      <td>Hardcover,– 10 Oct 2006</td>\n",
       "      <td>5.0 out of 5 stars</td>\n",
       "      <td>1 customer review</td>\n",
       "      <td>For seven decades, \"Life\" has been thrilling t...</td>\n",
       "      <td>Photography Textbooks</td>\n",
       "      <td>Arts, Film &amp; Photography</td>\n",
       "      <td>965.62</td>\n",
       "      <td>Hardcover</td>\n",
       "      <td>5.0</td>\n",
       "    </tr>\n",
       "  </tbody>\n",
       "</table>\n",
       "</div>"
      ],
      "text/plain": [
       "                                        Title           Author  \\\n",
       "0         The Prisoner's Gold (The Hunters 3)   Chris Kuzneski   \n",
       "1          Guru Dutt: A Tragedy in Three Acts     Arun Khopkar   \n",
       "2                Leviathan (Penguin Classics)    Thomas Hobbes   \n",
       "3          A Pocket Full of Rye (Miss Marple)  Agatha Christie   \n",
       "4  LIFE 70 Years of Extraordinary Photography  Editors of Life   \n",
       "\n",
       "                   Edition             Reviews              Ratings  \\\n",
       "0  Paperback,– 10 Mar 2016  4.0 out of 5 stars   8 customer reviews   \n",
       "1   Paperback,– 7 Nov 2012  3.9 out of 5 stars  14 customer reviews   \n",
       "2  Paperback,– 25 Feb 1982  4.8 out of 5 stars   6 customer reviews   \n",
       "3   Paperback,– 5 Oct 2017  4.1 out of 5 stars  13 customer reviews   \n",
       "4  Hardcover,– 10 Oct 2006  5.0 out of 5 stars    1 customer review   \n",
       "\n",
       "                                            Synopsis  \\\n",
       "0  THE HUNTERS return in their third brilliant no...   \n",
       "1  A layered portrait of a troubled genius for wh...   \n",
       "2  \"During the time men live without a common Pow...   \n",
       "3  A handful of grain is found in the pocket of a...   \n",
       "4  For seven decades, \"Life\" has been thrilling t...   \n",
       "\n",
       "                          Genre                          BookCategory   Price  \\\n",
       "0    Action & Adventure (Books)                    Action & Adventure  220.00   \n",
       "1    Cinema & Broadcast (Books)  Biographies, Diaries & True Accounts  202.93   \n",
       "2       International Relations                                Humour  299.00   \n",
       "3  Contemporary Fiction (Books)             Crime, Thriller & Mystery  180.00   \n",
       "4         Photography Textbooks              Arts, Film & Photography  965.62   \n",
       "\n",
       "       style stars  \n",
       "0  Paperback   4.0  \n",
       "1  Paperback   3.9  \n",
       "2  Paperback   4.8  \n",
       "3  Paperback   4.1  \n",
       "4  Hardcover   5.0  "
      ]
     },
     "execution_count": 9,
     "metadata": {},
     "output_type": "execute_result"
    }
   ],
   "source": [
    "df.head()"
   ]
  },
  {
   "cell_type": "code",
   "execution_count": 10,
   "metadata": {},
   "outputs": [],
   "source": [
    "df.drop(['Title','Author','Edition','Reviews','Ratings','Synopsis','Genre'], axis=1, inplace=True)"
   ]
  },
  {
   "cell_type": "code",
   "execution_count": 11,
   "metadata": {},
   "outputs": [
    {
     "name": "stdout",
     "output_type": "stream",
     "text": [
      "<class 'pandas.core.frame.DataFrame'>\n",
      "RangeIndex: 6237 entries, 0 to 6236\n",
      "Data columns (total 4 columns):\n",
      " #   Column        Non-Null Count  Dtype  \n",
      "---  ------        --------------  -----  \n",
      " 0   BookCategory  6237 non-null   object \n",
      " 1   Price         6237 non-null   float64\n",
      " 2   style         6237 non-null   object \n",
      " 3   stars         6237 non-null   object \n",
      "dtypes: float64(1), object(3)\n",
      "memory usage: 195.0+ KB\n"
     ]
    }
   ],
   "source": [
    "df.info()"
   ]
  },
  {
   "cell_type": "code",
   "execution_count": 12,
   "metadata": {},
   "outputs": [],
   "source": [
    "df['stars'] = df['stars'].astype('float')"
   ]
  },
  {
   "cell_type": "code",
   "execution_count": 13,
   "metadata": {},
   "outputs": [
    {
     "data": {
      "text/plain": [
       "Paperback                5193\n",
       "Hardcover                 823\n",
       "Mass Market Paperback     155\n",
       "Sheet music                24\n",
       "Flexibound                 15\n",
       "Cards                       8\n",
       "Spiral-bound                4\n",
       "Tankobon Softcover          3\n",
       "Loose Leaf                  2\n",
       "(Spanish)                   1\n",
       "Leather Bound               1\n",
       "Plastic Comb                1\n",
       "(French)                    1\n",
       "Perfect Paperback           1\n",
       "(German)                    1\n",
       "(Kannada)                   1\n",
       "Product Bundle              1\n",
       "Board book                  1\n",
       "Library Binding             1\n",
       "Name: style, dtype: int64"
      ]
     },
     "execution_count": 13,
     "metadata": {},
     "output_type": "execute_result"
    }
   ],
   "source": [
    "df['style'].value_counts()"
   ]
  },
  {
   "cell_type": "code",
   "execution_count": 14,
   "metadata": {},
   "outputs": [
    {
     "data": {
      "text/plain": [
       "Action & Adventure                      818\n",
       "Crime, Thriller & Mystery               723\n",
       "Biographies, Diaries & True Accounts    596\n",
       "Language, Linguistics & Writing         594\n",
       "Comics & Mangas                         583\n",
       "Romance                                 560\n",
       "Humour                                  540\n",
       "Arts, Film & Photography                517\n",
       "Computing, Internet & Digital Media     510\n",
       "Sports                                  471\n",
       "Politics                                325\n",
       "Name: BookCategory, dtype: int64"
      ]
     },
     "execution_count": 14,
     "metadata": {},
     "output_type": "execute_result"
    }
   ],
   "source": [
    "df['BookCategory'].value_counts()"
   ]
  },
  {
   "cell_type": "code",
   "execution_count": 15,
   "metadata": {},
   "outputs": [],
   "source": [
    "df.replace(to_replace=['Action & Adventure','Paperback','(French)','(Spanish)','(German)','(Kannada)','Perfect Paperback'],value=0,inplace=True)\n",
    "df.replace(to_replace=['Crime, Thriller & Mystery','Hardcover'],value=1,inplace=True)\n",
    "df.replace(to_replace=['Biographies, Diaries & True Accounts','Mass Market Paperback'],value=2,inplace=True)\n",
    "df.replace(to_replace=['Language, Linguistics & Writing','Sheet music'],value=3,inplace=True)\n",
    "df.replace(to_replace=['Comics & Mangas','Flexibound'],value=4,inplace=True)\n",
    "df.replace(to_replace=['Romance','Cards'],value=5,inplace=True)\n",
    "df.replace(to_replace=['Humour','Spiral-bound'],value=6,inplace=True)\n",
    "df.replace(to_replace=['Arts, Film & Photography','Tankobon Softcover'],value=7,inplace=True)\n",
    "df.replace(to_replace=['Computing, Internet & Digital Media','Loose Leaf'],value=8,inplace=True)\n",
    "df.replace(to_replace=['Sports','Board book'],value=9,inplace=True)\n",
    "df.replace(to_replace=['Politics','Library Binding'],value=10,inplace=True)\n",
    "df.replace(to_replace=['Leather Bound'],value=11,inplace=True)\n",
    "df.replace(to_replace=['Product Bundle'],value=12,inplace=True)\n",
    "df.replace(to_replace=['Plastic Comb'],value=13,inplace=True)"
   ]
  },
  {
   "cell_type": "code",
   "execution_count": 16,
   "metadata": {},
   "outputs": [
    {
     "name": "stdout",
     "output_type": "stream",
     "text": [
      "<class 'pandas.core.frame.DataFrame'>\n",
      "RangeIndex: 6237 entries, 0 to 6236\n",
      "Data columns (total 4 columns):\n",
      " #   Column        Non-Null Count  Dtype  \n",
      "---  ------        --------------  -----  \n",
      " 0   BookCategory  6237 non-null   int64  \n",
      " 1   Price         6237 non-null   float64\n",
      " 2   style         6237 non-null   int64  \n",
      " 3   stars         6237 non-null   float64\n",
      "dtypes: float64(2), int64(2)\n",
      "memory usage: 195.0 KB\n"
     ]
    }
   ],
   "source": [
    "df.info()"
   ]
  },
  {
   "cell_type": "code",
   "execution_count": 17,
   "metadata": {},
   "outputs": [
    {
     "data": {
      "text/plain": [
       "<seaborn.axisgrid.PairGrid at 0x24da5e63f88>"
      ]
     },
     "execution_count": 17,
     "metadata": {},
     "output_type": "execute_result"
    },
    {
     "data": {
      "image/png": "[encoded data removed]",
      "text/plain": [
       "<Figure size 720x720 with 20 Axes>"
      ]
     },
     "metadata": {
      "needs_background": "light"
     },
     "output_type": "display_data"
    }
   ],
   "source": [
    "sns.pairplot(df)"
   ]
  },
  {
   "cell_type": "code",
   "execution_count": 18,
   "metadata": {},
   "outputs": [
    {
     "name": "stdout",
     "output_type": "stream",
     "text": [
      "<class 'pandas.core.frame.DataFrame'>\n",
      "RangeIndex: 1560 entries, 0 to 1559\n",
      "Data columns (total 8 columns):\n",
      " #   Column        Non-Null Count  Dtype \n",
      "---  ------        --------------  ----- \n",
      " 0   Title         1560 non-null   object\n",
      " 1   Author        1560 non-null   object\n",
      " 2   Edition       1560 non-null   object\n",
      " 3   Reviews       1560 non-null   object\n",
      " 4   Ratings       1560 non-null   object\n",
      " 5   Synopsis      1560 non-null   object\n",
      " 6   Genre         1560 non-null   object\n",
      " 7   BookCategory  1560 non-null   object\n",
      "dtypes: object(8)\n",
      "memory usage: 97.6+ KB\n"
     ]
    }
   ],
   "source": [
    "test.info()"
   ]
  },
  {
   "cell_type": "code",
   "execution_count": 19,
   "metadata": {},
   "outputs": [
    {
     "data": {
      "text/html": [
       "<div>\n",
       "<style scoped>\n",
       "    .dataframe tbody tr th:only-of-type {\n",
       "        vertical-align: middle;\n",
       "    }\n",
       "\n",
       "    .dataframe tbody tr th {\n",
       "        vertical-align: top;\n",
       "    }\n",
       "\n",
       "    .dataframe thead th {\n",
       "        text-align: right;\n",
       "    }\n",
       "</style>\n",
       "<table border=\"1\" class=\"dataframe\">\n",
       "  <thead>\n",
       "    <tr style=\"text-align: right;\">\n",
       "      <th></th>\n",
       "      <th>0</th>\n",
       "      <th>1</th>\n",
       "    </tr>\n",
       "  </thead>\n",
       "  <tbody>\n",
       "    <tr>\n",
       "      <th>0</th>\n",
       "      <td>Mass Market Paperback</td>\n",
       "      <td>– 1 Oct 1986</td>\n",
       "    </tr>\n",
       "    <tr>\n",
       "      <th>1</th>\n",
       "      <td>Paperback</td>\n",
       "      <td>– Import, 26 Apr 2018</td>\n",
       "    </tr>\n",
       "    <tr>\n",
       "      <th>2</th>\n",
       "      <td>Paperback</td>\n",
       "      <td>– 17 Mar 2011</td>\n",
       "    </tr>\n",
       "    <tr>\n",
       "      <th>3</th>\n",
       "      <td>Paperback</td>\n",
       "      <td>– 2016</td>\n",
       "    </tr>\n",
       "    <tr>\n",
       "      <th>4</th>\n",
       "      <td>Paperback</td>\n",
       "      <td>– 26 Dec 2011</td>\n",
       "    </tr>\n",
       "    <tr>\n",
       "      <th>...</th>\n",
       "      <td>...</td>\n",
       "      <td>...</td>\n",
       "    </tr>\n",
       "    <tr>\n",
       "      <th>1555</th>\n",
       "      <td>Paperback</td>\n",
       "      <td>– 14 Apr 2011</td>\n",
       "    </tr>\n",
       "    <tr>\n",
       "      <th>1556</th>\n",
       "      <td>Paperback</td>\n",
       "      <td>– 8 May 2013</td>\n",
       "    </tr>\n",
       "    <tr>\n",
       "      <th>1557</th>\n",
       "      <td>Paperback</td>\n",
       "      <td>– 6 Sep 2011</td>\n",
       "    </tr>\n",
       "    <tr>\n",
       "      <th>1558</th>\n",
       "      <td>Paperback</td>\n",
       "      <td>– 22 Sep 2009</td>\n",
       "    </tr>\n",
       "    <tr>\n",
       "      <th>1559</th>\n",
       "      <td>Paperback</td>\n",
       "      <td>– 16 Sep 2016</td>\n",
       "    </tr>\n",
       "  </tbody>\n",
       "</table>\n",
       "<p>1560 rows × 2 columns</p>\n",
       "</div>"
      ],
      "text/plain": [
       "                          0                      1\n",
       "0     Mass Market Paperback           – 1 Oct 1986\n",
       "1                 Paperback  – Import, 26 Apr 2018\n",
       "2                 Paperback          – 17 Mar 2011\n",
       "3                 Paperback                 – 2016\n",
       "4                 Paperback          – 26 Dec 2011\n",
       "...                     ...                    ...\n",
       "1555              Paperback          – 14 Apr 2011\n",
       "1556              Paperback           – 8 May 2013\n",
       "1557              Paperback           – 6 Sep 2011\n",
       "1558              Paperback          – 22 Sep 2009\n",
       "1559              Paperback          – 16 Sep 2016\n",
       "\n",
       "[1560 rows x 2 columns]"
      ]
     },
     "execution_count": 19,
     "metadata": {},
     "output_type": "execute_result"
    }
   ],
   "source": [
    "edit = test[\"Edition\"].str.split(\",\", n = 1, expand = True)\n",
    "edit"
   ]
  },
  {
   "cell_type": "code",
   "execution_count": 20,
   "metadata": {},
   "outputs": [],
   "source": [
    "test['style'] = edit[0]"
   ]
  },
  {
   "cell_type": "code",
   "execution_count": 21,
   "metadata": {},
   "outputs": [
    {
     "data": {
      "text/html": [
       "<div>\n",
       "<style scoped>\n",
       "    .dataframe tbody tr th:only-of-type {\n",
       "        vertical-align: middle;\n",
       "    }\n",
       "\n",
       "    .dataframe tbody tr th {\n",
       "        vertical-align: top;\n",
       "    }\n",
       "\n",
       "    .dataframe thead th {\n",
       "        text-align: right;\n",
       "    }\n",
       "</style>\n",
       "<table border=\"1\" class=\"dataframe\">\n",
       "  <thead>\n",
       "    <tr style=\"text-align: right;\">\n",
       "      <th></th>\n",
       "      <th>0</th>\n",
       "      <th>1</th>\n",
       "    </tr>\n",
       "  </thead>\n",
       "  <tbody>\n",
       "    <tr>\n",
       "      <th>0</th>\n",
       "      <td>4.4</td>\n",
       "      <td>out of 5 stars</td>\n",
       "    </tr>\n",
       "    <tr>\n",
       "      <th>1</th>\n",
       "      <td>5.0</td>\n",
       "      <td>out of 5 stars</td>\n",
       "    </tr>\n",
       "    <tr>\n",
       "      <th>2</th>\n",
       "      <td>5.0</td>\n",
       "      <td>out of 5 stars</td>\n",
       "    </tr>\n",
       "    <tr>\n",
       "      <th>3</th>\n",
       "      <td>4.1</td>\n",
       "      <td>out of 5 stars</td>\n",
       "    </tr>\n",
       "    <tr>\n",
       "      <th>4</th>\n",
       "      <td>4.4</td>\n",
       "      <td>out of 5 stars</td>\n",
       "    </tr>\n",
       "    <tr>\n",
       "      <th>...</th>\n",
       "      <td>...</td>\n",
       "      <td>...</td>\n",
       "    </tr>\n",
       "    <tr>\n",
       "      <th>1555</th>\n",
       "      <td>5.0</td>\n",
       "      <td>out of 5 stars</td>\n",
       "    </tr>\n",
       "    <tr>\n",
       "      <th>1556</th>\n",
       "      <td>3.6</td>\n",
       "      <td>out of 5 stars</td>\n",
       "    </tr>\n",
       "    <tr>\n",
       "      <th>1557</th>\n",
       "      <td>4.0</td>\n",
       "      <td>out of 5 stars</td>\n",
       "    </tr>\n",
       "    <tr>\n",
       "      <th>1558</th>\n",
       "      <td>3.5</td>\n",
       "      <td>out of 5 stars</td>\n",
       "    </tr>\n",
       "    <tr>\n",
       "      <th>1559</th>\n",
       "      <td>4.5</td>\n",
       "      <td>out of 5 stars</td>\n",
       "    </tr>\n",
       "  </tbody>\n",
       "</table>\n",
       "<p>1560 rows × 2 columns</p>\n",
       "</div>"
      ],
      "text/plain": [
       "        0               1\n",
       "0     4.4  out of 5 stars\n",
       "1     5.0  out of 5 stars\n",
       "2     5.0  out of 5 stars\n",
       "3     4.1  out of 5 stars\n",
       "4     4.4  out of 5 stars\n",
       "...   ...             ...\n",
       "1555  5.0  out of 5 stars\n",
       "1556  3.6  out of 5 stars\n",
       "1557  4.0  out of 5 stars\n",
       "1558  3.5  out of 5 stars\n",
       "1559  4.5  out of 5 stars\n",
       "\n",
       "[1560 rows x 2 columns]"
      ]
     },
     "execution_count": 21,
     "metadata": {},
     "output_type": "execute_result"
    }
   ],
   "source": [
    "views = test[\"Reviews\"].str.split(\" \", n = 1, expand = True)\n",
    "views"
   ]
  },
  {
   "cell_type": "code",
   "execution_count": 22,
   "metadata": {},
   "outputs": [],
   "source": [
    "test['stars'] = views[0]"
   ]
  },
  {
   "cell_type": "code",
   "execution_count": 23,
   "metadata": {},
   "outputs": [
    {
     "data": {
      "text/html": [
       "<div>\n",
       "<style scoped>\n",
       "    .dataframe tbody tr th:only-of-type {\n",
       "        vertical-align: middle;\n",
       "    }\n",
       "\n",
       "    .dataframe tbody tr th {\n",
       "        vertical-align: top;\n",
       "    }\n",
       "\n",
       "    .dataframe thead th {\n",
       "        text-align: right;\n",
       "    }\n",
       "</style>\n",
       "<table border=\"1\" class=\"dataframe\">\n",
       "  <thead>\n",
       "    <tr style=\"text-align: right;\">\n",
       "      <th></th>\n",
       "      <th>Title</th>\n",
       "      <th>Author</th>\n",
       "      <th>Edition</th>\n",
       "      <th>Reviews</th>\n",
       "      <th>Ratings</th>\n",
       "      <th>Synopsis</th>\n",
       "      <th>Genre</th>\n",
       "      <th>BookCategory</th>\n",
       "      <th>style</th>\n",
       "      <th>stars</th>\n",
       "    </tr>\n",
       "  </thead>\n",
       "  <tbody>\n",
       "    <tr>\n",
       "      <th>0</th>\n",
       "      <td>The Complete Sherlock Holmes: 2 Boxes sets</td>\n",
       "      <td>Sir Arthur Conan Doyle</td>\n",
       "      <td>Mass Market Paperback,– 1 Oct 1986</td>\n",
       "      <td>4.4 out of 5 stars</td>\n",
       "      <td>960 customer reviews</td>\n",
       "      <td>A collection of entire body of work of the She...</td>\n",
       "      <td>Short Stories (Books)</td>\n",
       "      <td>Crime, Thriller &amp; Mystery</td>\n",
       "      <td>Mass Market Paperback</td>\n",
       "      <td>4.4</td>\n",
       "    </tr>\n",
       "    <tr>\n",
       "      <th>1</th>\n",
       "      <td>Learn Docker - Fundamentals of Docker 18.x: Ev...</td>\n",
       "      <td>Gabriel N. Schenker</td>\n",
       "      <td>Paperback,– Import, 26 Apr 2018</td>\n",
       "      <td>5.0 out of 5 stars</td>\n",
       "      <td>1 customer review</td>\n",
       "      <td>Enhance your software deployment workflow usin...</td>\n",
       "      <td>Operating Systems Textbooks</td>\n",
       "      <td>Computing, Internet &amp; Digital Media</td>\n",
       "      <td>Paperback</td>\n",
       "      <td>5.0</td>\n",
       "    </tr>\n",
       "    <tr>\n",
       "      <th>2</th>\n",
       "      <td>Big Girl</td>\n",
       "      <td>Danielle Steel</td>\n",
       "      <td>Paperback,– 17 Mar 2011</td>\n",
       "      <td>5.0 out of 5 stars</td>\n",
       "      <td>4 customer reviews</td>\n",
       "      <td>'Watch out, world. Here I come!'\\nFor Victoria...</td>\n",
       "      <td>Romance (Books)</td>\n",
       "      <td>Romance</td>\n",
       "      <td>Paperback</td>\n",
       "      <td>5.0</td>\n",
       "    </tr>\n",
       "    <tr>\n",
       "      <th>3</th>\n",
       "      <td>Think Python: How to Think Like a Computer Sci...</td>\n",
       "      <td>Allen B. Downey</td>\n",
       "      <td>Paperback,– 2016</td>\n",
       "      <td>4.1 out of 5 stars</td>\n",
       "      <td>11 customer reviews</td>\n",
       "      <td>If you want to learn how to program, working w...</td>\n",
       "      <td>Programming &amp; Software Development (Books)</td>\n",
       "      <td>Computing, Internet &amp; Digital Media</td>\n",
       "      <td>Paperback</td>\n",
       "      <td>4.1</td>\n",
       "    </tr>\n",
       "    <tr>\n",
       "      <th>4</th>\n",
       "      <td>Oxford Word Skills: Advanced - Idioms &amp; Phrasa...</td>\n",
       "      <td>Redman Gairns</td>\n",
       "      <td>Paperback,– 26 Dec 2011</td>\n",
       "      <td>4.4 out of 5 stars</td>\n",
       "      <td>9 customer reviews</td>\n",
       "      <td>Learn and practise the verbs, prepositions and...</td>\n",
       "      <td>Linguistics (Books)</td>\n",
       "      <td>Language, Linguistics &amp; Writing</td>\n",
       "      <td>Paperback</td>\n",
       "      <td>4.4</td>\n",
       "    </tr>\n",
       "  </tbody>\n",
       "</table>\n",
       "</div>"
      ],
      "text/plain": [
       "                                               Title                  Author  \\\n",
       "0         The Complete Sherlock Holmes: 2 Boxes sets  Sir Arthur Conan Doyle   \n",
       "1  Learn Docker - Fundamentals of Docker 18.x: Ev...     Gabriel N. Schenker   \n",
       "2                                           Big Girl          Danielle Steel   \n",
       "3  Think Python: How to Think Like a Computer Sci...         Allen B. Downey   \n",
       "4  Oxford Word Skills: Advanced - Idioms & Phrasa...           Redman Gairns   \n",
       "\n",
       "                              Edition             Reviews  \\\n",
       "0  Mass Market Paperback,– 1 Oct 1986  4.4 out of 5 stars   \n",
       "1     Paperback,– Import, 26 Apr 2018  5.0 out of 5 stars   \n",
       "2             Paperback,– 17 Mar 2011  5.0 out of 5 stars   \n",
       "3                    Paperback,– 2016  4.1 out of 5 stars   \n",
       "4             Paperback,– 26 Dec 2011  4.4 out of 5 stars   \n",
       "\n",
       "                Ratings                                           Synopsis  \\\n",
       "0  960 customer reviews  A collection of entire body of work of the She...   \n",
       "1     1 customer review  Enhance your software deployment workflow usin...   \n",
       "2    4 customer reviews  'Watch out, world. Here I come!'\\nFor Victoria...   \n",
       "3   11 customer reviews  If you want to learn how to program, working w...   \n",
       "4    9 customer reviews  Learn and practise the verbs, prepositions and...   \n",
       "\n",
       "                                        Genre  \\\n",
       "0                       Short Stories (Books)   \n",
       "1                 Operating Systems Textbooks   \n",
       "2                             Romance (Books)   \n",
       "3  Programming & Software Development (Books)   \n",
       "4                         Linguistics (Books)   \n",
       "\n",
       "                          BookCategory                  style stars  \n",
       "0            Crime, Thriller & Mystery  Mass Market Paperback   4.4  \n",
       "1  Computing, Internet & Digital Media              Paperback   5.0  \n",
       "2                              Romance              Paperback   5.0  \n",
       "3  Computing, Internet & Digital Media              Paperback   4.1  \n",
       "4      Language, Linguistics & Writing              Paperback   4.4  "
      ]
     },
     "execution_count": 23,
     "metadata": {},
     "output_type": "execute_result"
    }
   ],
   "source": [
    "test.head()"
   ]
  },
  {
   "cell_type": "code",
   "execution_count": 24,
   "metadata": {},
   "outputs": [],
   "source": [
    "test.drop(['Title','Author','Edition','Reviews','Ratings','Synopsis','Genre'], axis=1, inplace=True)"
   ]
  },
  {
   "cell_type": "code",
   "execution_count": 25,
   "metadata": {},
   "outputs": [
    {
     "name": "stdout",
     "output_type": "stream",
     "text": [
      "<class 'pandas.core.frame.DataFrame'>\n",
      "RangeIndex: 1560 entries, 0 to 1559\n",
      "Data columns (total 3 columns):\n",
      " #   Column        Non-Null Count  Dtype \n",
      "---  ------        --------------  ----- \n",
      " 0   BookCategory  1560 non-null   object\n",
      " 1   style         1560 non-null   object\n",
      " 2   stars         1560 non-null   object\n",
      "dtypes: object(3)\n",
      "memory usage: 36.7+ KB\n"
     ]
    }
   ],
   "source": [
    "test.info()"
   ]
  },
  {
   "cell_type": "code",
   "execution_count": 26,
   "metadata": {},
   "outputs": [],
   "source": [
    "test['stars'] = test['stars'].astype('float')"
   ]
  },
  {
   "cell_type": "code",
   "execution_count": 27,
   "metadata": {},
   "outputs": [],
   "source": [
    "test.replace(to_replace=['Action & Adventure','Paperback','(French)','(Spanish)','(German)','(Kannada)','Perfect Paperback','(Chinese)'],value=0,inplace=True)\n",
    "test.replace(to_replace=['Crime, Thriller & Mystery','Hardcover'],value=1,inplace=True)\n",
    "test.replace(to_replace=['Biographies, Diaries & True Accounts','Mass Market Paperback'],value=2,inplace=True)\n",
    "test.replace(to_replace=['Language, Linguistics & Writing','Sheet music'],value=3,inplace=True)\n",
    "test.replace(to_replace=['Comics & Mangas','Flexibound'],value=4,inplace=True)\n",
    "test.replace(to_replace=['Romance','Cards'],value=5,inplace=True)\n",
    "test.replace(to_replace=['Humour','Spiral-bound'],value=6,inplace=True)\n",
    "test.replace(to_replace=['Arts, Film & Photography','Tankobon Softcover'],value=7,inplace=True)\n",
    "test.replace(to_replace=['Computing, Internet & Digital Media','Loose Leaf'],value=8,inplace=True)\n",
    "test.replace(to_replace=['Sports','Board book'],value=9,inplace=True)\n",
    "test.replace(to_replace=['Politics','Library Binding'],value=10,inplace=True)\n",
    "test.replace(to_replace=['Leather Bound'],value=11,inplace=True)\n",
    "test.replace(to_replace=['Product Bundle'],value=12,inplace=True)\n",
    "test.replace(to_replace=['Plastic Comb'],value=13,inplace=True)"
   ]
  },
  {
   "cell_type": "code",
   "execution_count": 28,
   "metadata": {},
   "outputs": [
    {
     "name": "stdout",
     "output_type": "stream",
     "text": [
      "<class 'pandas.core.frame.DataFrame'>\n",
      "RangeIndex: 1560 entries, 0 to 1559\n",
      "Data columns (total 3 columns):\n",
      " #   Column        Non-Null Count  Dtype  \n",
      "---  ------        --------------  -----  \n",
      " 0   BookCategory  1560 non-null   int64  \n",
      " 1   style         1560 non-null   int64  \n",
      " 2   stars         1560 non-null   float64\n",
      "dtypes: float64(1), int64(2)\n",
      "memory usage: 36.7 KB\n"
     ]
    }
   ],
   "source": [
    "test.info()"
   ]
  },
  {
   "cell_type": "code",
   "execution_count": 29,
   "metadata": {},
   "outputs": [],
   "source": [
    "X = df.drop(['Price'], axis=1).values\n",
    "y = df['Price'].values"
   ]
  },
  {
   "cell_type": "code",
   "execution_count": 30,
   "metadata": {},
   "outputs": [],
   "source": [
    "X_train, X_test, y_train, y_test=train_test_split(X,y,test_size=0.25, random_state=42)"
   ]
  },
  {
   "cell_type": "code",
   "execution_count": 31,
   "metadata": {},
   "outputs": [],
   "source": [
    "scaler = StandardScaler()"
   ]
  },
  {
   "cell_type": "code",
   "execution_count": 32,
   "metadata": {},
   "outputs": [],
   "source": [
    "X_train = scaler.fit_transform(X_train)\n",
    "X_test = scaler.transform(X_test)"
   ]
  },
  {
   "cell_type": "code",
   "execution_count": 33,
   "metadata": {},
   "outputs": [
    {
     "data": {
      "text/plain": [
       "LinearRegression()"
      ]
     },
     "execution_count": 33,
     "metadata": {},
     "output_type": "execute_result"
    }
   ],
   "source": [
    "regressor=LinearRegression(fit_intercept=True)\n",
    "regressor.fit(X_train, y_train)"
   ]
  },
  {
   "cell_type": "code",
   "execution_count": 34,
   "metadata": {},
   "outputs": [
    {
     "name": "stdout",
     "output_type": "stream",
     "text": [
      "Multiple Linear Regression coeff: [148.86964252 124.69877266  62.88130045]\n",
      "Multiple Linear Regression Constant: 561.6871776780001\n"
     ]
    }
   ],
   "source": [
    "print(f\"Multiple Linear Regression coeff: {regressor.coef_}\")\n",
    "print(f\"Multiple Linear Regression Constant: {regressor.intercept_}\")"
   ]
  },
  {
   "cell_type": "code",
   "execution_count": 35,
   "metadata": {},
   "outputs": [],
   "source": [
    "y_predict=regressor.predict(X_test)"
   ]
  },
  {
   "cell_type": "code",
   "execution_count": 36,
   "metadata": {},
   "outputs": [
    {
     "data": {
      "image/png": "[encoded data removed]",
      "text/plain": [
       "<Figure size 432x288 with 1 Axes>"
      ]
     },
     "metadata": {
      "needs_background": "light"
     },
     "output_type": "display_data"
    }
   ],
   "source": [
    "plt.scatter(y_test, y_predict,color='red')\n",
    "plt.ylabel('Model Predictions')\n",
    "plt.xlabel('True Values y')\n",
    "plt.title('Multiple Linear Regression')\n",
    "plt.show()"
   ]
  },
  {
   "cell_type": "code",
   "execution_count": 37,
   "metadata": {},
   "outputs": [
    {
     "data": {
      "text/plain": [
       "1560"
      ]
     },
     "execution_count": 37,
     "metadata": {},
     "output_type": "execute_result"
    }
   ],
   "source": [
    "n=len(X_test)\n",
    "n"
   ]
  },
  {
   "cell_type": "code",
   "execution_count": 38,
   "metadata": {},
   "outputs": [
    {
     "data": {
      "text/plain": [
       "3"
      ]
     },
     "execution_count": 38,
     "metadata": {},
     "output_type": "execute_result"
    }
   ],
   "source": [
    "k=X_test.shape[1]\n",
    "k"
   ]
  },
  {
   "cell_type": "code",
   "execution_count": 39,
   "metadata": {},
   "outputs": [
    {
     "data": {
      "text/plain": [
       "0.0637260268779144"
      ]
     },
     "execution_count": 39,
     "metadata": {},
     "output_type": "execute_result"
    }
   ],
   "source": [
    "r2=r2_score(y_test, y_predict)\n",
    "r2"
   ]
  },
  {
   "cell_type": "code",
   "execution_count": 40,
   "metadata": {},
   "outputs": [
    {
     "data": {
      "text/plain": [
       "0.06192087140274338"
      ]
     },
     "execution_count": 40,
     "metadata": {},
     "output_type": "execute_result"
    }
   ],
   "source": [
    "adj_r2=1-(1-r2)*(n-1)/(n-k-1)\n",
    "adj_r2"
   ]
  },
  {
   "cell_type": "code",
   "execution_count": 41,
   "metadata": {},
   "outputs": [
    {
     "data": {
      "text/plain": [
       "Ridge(alpha=50)"
      ]
     },
     "execution_count": 41,
     "metadata": {},
     "output_type": "execute_result"
    }
   ],
   "source": [
    "# Ridge \n",
    "regressor_ridge=Ridge(alpha=50)\n",
    "regressor_ridge.fit(X_train, y_train)"
   ]
  },
  {
   "cell_type": "code",
   "execution_count": 42,
   "metadata": {},
   "outputs": [
    {
     "name": "stdout",
     "output_type": "stream",
     "text": [
      "Coeff:[147.35356751 123.43952534  62.29726416]\n",
      "Constant:561.6871776780001\n"
     ]
    }
   ],
   "source": [
    "print(f'Coeff:{regressor_ridge.coef_}')\n",
    "print(f'Constant:{regressor_ridge.intercept_}')"
   ]
  },
  {
   "cell_type": "code",
   "execution_count": 43,
   "metadata": {},
   "outputs": [],
   "source": [
    "y_predict=regressor_ridge.predict(X_test)"
   ]
  },
  {
   "cell_type": "code",
   "execution_count": 44,
   "metadata": {},
   "outputs": [
    {
     "data": {
      "image/png": "[encoded data removed]",
      "text/plain": [
       "<Figure size 432x288 with 1 Axes>"
      ]
     },
     "metadata": {
      "needs_background": "light"
     },
     "output_type": "display_data"
    }
   ],
   "source": [
    "plt.scatter(y_test, y_predict,color='red')\n",
    "plt.ylabel('Model Predictions')\n",
    "plt.xlabel('True Values y')\n",
    "plt.title('Multiple Linear Regression')\n",
    "plt.show()"
   ]
  },
  {
   "cell_type": "code",
   "execution_count": 45,
   "metadata": {},
   "outputs": [
    {
     "data": {
      "text/plain": [
       "0.06409766326032051"
      ]
     },
     "execution_count": 45,
     "metadata": {},
     "output_type": "execute_result"
    }
   ],
   "source": [
    "r2=r2_score(y_test, y_predict)\n",
    "r2"
   ]
  },
  {
   "cell_type": "code",
   "execution_count": 46,
   "metadata": {},
   "outputs": [
    {
     "data": {
      "text/plain": [
       "0.06229322430773765"
      ]
     },
     "execution_count": 46,
     "metadata": {},
     "output_type": "execute_result"
    }
   ],
   "source": [
    "adj_r2=1-(1-r2)*(n-1)/(n-k-1)\n",
    "adj_r2"
   ]
  },
  {
   "cell_type": "code",
   "execution_count": 47,
   "metadata": {},
   "outputs": [
    {
     "data": {
      "text/plain": [
       "337.4428448705261"
      ]
     },
     "execution_count": 47,
     "metadata": {},
     "output_type": "execute_result"
    }
   ],
   "source": [
    "mean_absolute_error(y_test, y_predict)"
   ]
  },
  {
   "cell_type": "code",
   "execution_count": 48,
   "metadata": {},
   "outputs": [
    {
     "data": {
      "text/plain": [
       "Lasso(alpha=500)"
      ]
     },
     "execution_count": 48,
     "metadata": {},
     "output_type": "execute_result"
    }
   ],
   "source": [
    "# Lasso\n",
    "regressor_lasso=Lasso(alpha=500)\n",
    "regressor_lasso.fit(X_train, y_train)"
   ]
  },
  {
   "cell_type": "code",
   "execution_count": 49,
   "metadata": {},
   "outputs": [
    {
     "name": "stdout",
     "output_type": "stream",
     "text": [
      "Coeff:[0. 0. 0.]\n",
      "Constant:561.6871776779988\n"
     ]
    }
   ],
   "source": [
    "print(f'Coeff:{regressor_lasso.coef_}')\n",
    "print(f'Constant:{regressor_lasso.intercept_}')"
   ]
  },
  {
   "cell_type": "code",
   "execution_count": 50,
   "metadata": {},
   "outputs": [],
   "source": [
    "y_predict=regressor_lasso.predict(X_test)"
   ]
  },
  {
   "cell_type": "code",
   "execution_count": 51,
   "metadata": {},
   "outputs": [
    {
     "data": {
      "image/png": "[encoded data removed]",
      "text/plain": [
       "<Figure size 432x288 with 1 Axes>"
      ]
     },
     "metadata": {
      "needs_background": "light"
     },
     "output_type": "display_data"
    }
   ],
   "source": [
    "plt.scatter(y_test, y_predict,color='red')\n",
    "plt.ylabel('Model Predictions')\n",
    "plt.xlabel('True Values y')\n",
    "plt.title('Multiple Linear Regression')\n",
    "plt.show()"
   ]
  },
  {
   "cell_type": "code",
   "execution_count": 52,
   "metadata": {},
   "outputs": [
    {
     "data": {
      "text/plain": [
       "-3.7714119327736384e-05"
      ]
     },
     "execution_count": 52,
     "metadata": {},
     "output_type": "execute_result"
    }
   ],
   "source": [
    "r2=r2_score(y_test, y_predict)\n",
    "r2"
   ]
  },
  {
   "cell_type": "code",
   "execution_count": 53,
   "metadata": {},
   "outputs": [
    {
     "data": {
      "text/plain": [
       "-0.00196580739847807"
      ]
     },
     "execution_count": 53,
     "metadata": {},
     "output_type": "execute_result"
    }
   ],
   "source": [
    "adj_r2=1-(1-r2)*(n-1)/(n-k-1)\n",
    "adj_r2"
   ]
  },
  {
   "cell_type": "code",
   "execution_count": 54,
   "metadata": {},
   "outputs": [],
   "source": [
    "import xgboost as xgb"
   ]
  },
  {
   "cell_type": "code",
   "execution_count": 55,
   "metadata": {},
   "outputs": [],
   "source": [
    "X_train = X_train.astype('int')\n",
    "X_test = X_test.astype('int')"
   ]
  },
  {
   "cell_type": "code",
   "execution_count": 56,
   "metadata": {},
   "outputs": [],
   "source": [
    "model = xgb.XGBClassifier()"
   ]
  },
  {
   "cell_type": "code",
   "execution_count": 57,
   "metadata": {},
   "outputs": [
    {
     "data": {
      "text/plain": [
       "XGBClassifier(base_score=0.5, booster='gbtree', colsample_bylevel=1,\n",
       "              colsample_bynode=1, colsample_bytree=1, gamma=0, gpu_id=-1,\n",
       "              importance_type='gain', interaction_constraints='',\n",
       "              learning_rate=0.300000012, max_delta_step=0, max_depth=6,\n",
       "              min_child_weight=1, missing=nan, monotone_constraints='()',\n",
       "              n_estimators=100, n_jobs=0, num_parallel_tree=1,\n",
       "              objective='multi:softprob', random_state=0, reg_alpha=0,\n",
       "              reg_lambda=1, scale_pos_weight=None, subsample=1,\n",
       "              tree_method='exact', validate_parameters=1, verbosity=None)"
      ]
     },
     "execution_count": 57,
     "metadata": {},
     "output_type": "execute_result"
    }
   ],
   "source": [
    "model.fit(X_train, y_train)"
   ]
  },
  {
   "cell_type": "code",
   "execution_count": 58,
   "metadata": {},
   "outputs": [],
   "source": [
    "y_predict=model.predict(X_test)"
   ]
  },
  {
   "cell_type": "code",
   "execution_count": 59,
   "metadata": {},
   "outputs": [
    {
     "data": {
      "text/plain": [
       "<matplotlib.axes._subplots.AxesSubplot at 0x24da8b961c8>"
      ]
     },
     "execution_count": 59,
     "metadata": {},
     "output_type": "execute_result"
    },
    {
     "data": {
      "image/png": "[encoded data removed]",
      "text/plain": [
       "<Figure size 432x288 with 1 Axes>"
      ]
     },
     "metadata": {
      "needs_background": "light"
     },
     "output_type": "display_data"
    }
   ],
   "source": [
    "sns.distplot((y_predict-y_test))"
   ]
  },
  {
   "cell_type": "code",
   "execution_count": 60,
   "metadata": {},
   "outputs": [
    {
     "data": {
      "text/plain": [
       "-0.09501309464214547"
      ]
     },
     "execution_count": 60,
     "metadata": {},
     "output_type": "execute_result"
    }
   ],
   "source": [
    "r2=r2_score(y_test, y_predict)\n",
    "r2"
   ]
  },
  {
   "cell_type": "code",
   "execution_count": 61,
   "metadata": {},
   "outputs": [],
   "source": [
    "dl = Sequential()\n",
    "dl.add(Dense(3, activation='relu'))\n",
    "dl.add(Dense(3, activation='relu'))\n",
    "dl.add(Dense(3, activation='relu'))\n",
    "dl.add(Dense(3, activation='relu'))\n",
    "dl.add(Dense(1))\n",
    "dl.compile(optimizer='adam', loss='mse')"
   ]
  },
  {
   "cell_type": "code",
   "execution_count": 62,
   "metadata": {},
   "outputs": [
    {
     "name": "stdout",
     "output_type": "stream",
     "text": [
      "Train on 4677 samples, validate on 1560 samples\n",
      "Epoch 1/400\n",
      "4677/4677 [==============================] - 4s 831us/sample - loss: 814842.1619 - val_loss: 717841.6628\n",
      "Epoch 2/400\n",
      "4677/4677 [==============================] - 0s 22us/sample - loss: 814752.2181 - val_loss: 717771.4410\n",
      "Epoch 3/400\n",
      "4677/4677 [==============================] - 0s 21us/sample - loss: 814674.6661 - val_loss: 717690.4933\n",
      "Epoch 4/400\n",
      "4677/4677 [==============================] - 0s 21us/sample - loss: 814584.9994 - val_loss: 717594.1080\n",
      "Epoch 5/400\n",
      "4677/4677 [==============================] - 0s 21us/sample - loss: 814479.5983 - val_loss: 717483.8875\n",
      "Epoch 6/400\n",
      "4677/4677 [==============================] - 0s 22us/sample - loss: 814359.6982 - val_loss: 717356.2692\n",
      "Epoch 7/400\n",
      "4677/4677 [==============================] - 0s 20us/sample - loss: 814223.2479 - val_loss: 717213.6051\n",
      "Epoch 8/400\n",
      "4677/4677 [==============================] - 0s 22us/sample - loss: 814071.1375 - val_loss: 717055.5907\n",
      "Epoch 9/400\n",
      "4677/4677 [==============================] - 0s 20us/sample - loss: 813903.5568 - val_loss: 716880.1407\n",
      "Epoch 10/400\n",
      "4677/4677 [==============================] - 0s 21us/sample - loss: 813719.8904 - val_loss: 716690.3619\n",
      "Epoch 11/400\n",
      "4677/4677 [==============================] - 0s 20us/sample - loss: 813519.2786 - val_loss: 716484.2824\n",
      "Epoch 12/400\n",
      "4677/4677 [==============================] - 0s 22us/sample - loss: 813297.5444 - val_loss: 716231.5157\n",
      "Epoch 13/400\n",
      "4677/4677 [==============================] - 0s 20us/sample - loss: 812974.7909 - val_loss: 715844.1772\n",
      "Epoch 14/400\n",
      "4677/4677 [==============================] - 0s 22us/sample - loss: 812530.1544 - val_loss: 715338.2115\n",
      "Epoch 15/400\n",
      "4677/4677 [==============================] - 0s 20us/sample - loss: 811935.2252 - val_loss: 714633.7603\n",
      "Epoch 16/400\n",
      "4677/4677 [==============================] - 0s 22us/sample - loss: 811021.4602 - val_loss: 713500.9692\n",
      "Epoch 17/400\n",
      "4677/4677 [==============================] - 0s 21us/sample - loss: 809460.0680 - val_loss: 711537.0074\n",
      "Epoch 18/400\n",
      "4677/4677 [==============================] - 0s 22us/sample - loss: 806935.0443 - val_loss: 708488.3760\n",
      "Epoch 19/400\n",
      "4677/4677 [==============================] - 0s 20us/sample - loss: 803121.4406 - val_loss: 704118.5128\n",
      "Epoch 20/400\n",
      "4677/4677 [==============================] - 0s 22us/sample - loss: 797390.4785 - val_loss: 697511.7311\n",
      "Epoch 21/400\n",
      "4677/4677 [==============================] - 0s 20us/sample - loss: 788916.1812 - val_loss: 687492.2798\n",
      "Epoch 22/400\n",
      "4677/4677 [==============================] - 0s 21us/sample - loss: 775771.4560 - val_loss: 671308.4997\n",
      "Epoch 23/400\n",
      "4677/4677 [==============================] - 0s 22us/sample - loss: 754009.4709 - val_loss: 645908.8138\n",
      "Epoch 24/400\n",
      "4677/4677 [==============================] - 0s 22us/sample - loss: 723190.6090 - val_loss: 611472.4000\n",
      "Epoch 25/400\n",
      "4677/4677 [==============================] - 0s 21us/sample - loss: 682977.7887 - val_loss: 570167.7577\n",
      "Epoch 26/400\n",
      "4677/4677 [==============================] - 0s 21us/sample - loss: 636110.4443 - val_loss: 524868.1574\n",
      "Epoch 27/400\n",
      "4677/4677 [==============================] - 0s 22us/sample - loss: 587180.9142 - val_loss: 481060.0215\n",
      "Epoch 28/400\n",
      "4677/4677 [==============================] - 0s 21us/sample - loss: 541334.9206 - val_loss: 444439.8971\n",
      "Epoch 29/400\n",
      "4677/4677 [==============================] - 0s 21us/sample - loss: 505437.4167 - val_loss: 418132.6689\n",
      "Epoch 30/400\n",
      "4677/4677 [==============================] - 0s 20us/sample - loss: 481749.6996 - val_loss: 403160.5782\n",
      "Epoch 31/400\n",
      "4677/4677 [==============================] - 0s 21us/sample - loss: 468519.0985 - val_loss: 396433.1324\n",
      "Epoch 32/400\n",
      "4677/4677 [==============================] - 0s 22us/sample - loss: 462709.7114 - val_loss: 393785.7279\n",
      "Epoch 33/400\n",
      "4677/4677 [==============================] - 0s 21us/sample - loss: 459862.1360 - val_loss: 392441.1061\n",
      "Epoch 34/400\n",
      "4677/4677 [==============================] - 0s 24us/sample - loss: 458515.8223 - val_loss: 391729.1897\n",
      "Epoch 35/400\n",
      "4677/4677 [==============================] - 0s 20us/sample - loss: 457781.6580 - val_loss: 390984.2529\n",
      "Epoch 36/400\n",
      "4677/4677 [==============================] - 0s 20us/sample - loss: 457226.6767 - val_loss: 390487.2740\n",
      "Epoch 37/400\n",
      "4677/4677 [==============================] - 0s 22us/sample - loss: 456881.2462 - val_loss: 390049.1721\n",
      "Epoch 38/400\n",
      "4677/4677 [==============================] - 0s 22us/sample - loss: 456496.9599 - val_loss: 389262.9946\n",
      "Epoch 39/400\n",
      "4677/4677 [==============================] - 0s 22us/sample - loss: 456286.5424 - val_loss: 388849.8901\n",
      "Epoch 40/400\n",
      "4677/4677 [==============================] - 0s 21us/sample - loss: 455868.8107 - val_loss: 388560.2638\n",
      "Epoch 41/400\n",
      "4677/4677 [==============================] - 0s 24us/sample - loss: 455957.5370 - val_loss: 387910.4119\n",
      "Epoch 42/400\n",
      "4677/4677 [==============================] - 0s 21us/sample - loss: 455673.9714 - val_loss: 387942.2285\n",
      "Epoch 43/400\n",
      "4677/4677 [==============================] - 0s 21us/sample - loss: 455244.4006 - val_loss: 387458.9016\n",
      "Epoch 44/400\n",
      "4677/4677 [==============================] - 0s 27us/sample - loss: 455131.3556 - val_loss: 386879.6731\n",
      "Epoch 45/400\n",
      "4677/4677 [==============================] - 0s 22us/sample - loss: 455056.3725 - val_loss: 386584.1244\n",
      "Epoch 46/400\n",
      "4677/4677 [==============================] - 0s 21us/sample - loss: 454901.4153 - val_loss: 386630.2846\n",
      "Epoch 47/400\n",
      "4677/4677 [==============================] - 0s 24us/sample - loss: 454718.7533 - val_loss: 386312.9654\n",
      "Epoch 48/400\n",
      "4677/4677 [==============================] - 0s 24us/sample - loss: 454595.5951 - val_loss: 386136.1337\n",
      "Epoch 49/400\n",
      "4677/4677 [==============================] - 0s 22us/sample - loss: 454655.3810 - val_loss: 385943.1465\n",
      "Epoch 50/400\n",
      "4677/4677 [==============================] - 0s 21us/sample - loss: 454412.6281 - val_loss: 385605.9196\n",
      "Epoch 51/400\n",
      "4677/4677 [==============================] - 0s 22us/sample - loss: 454384.2466 - val_loss: 385380.3401\n",
      "Epoch 52/400\n",
      "4677/4677 [==============================] - 0s 20us/sample - loss: 454410.9913 - val_loss: 385259.4920\n",
      "Epoch 53/400\n",
      "4677/4677 [==============================] - 0s 22us/sample - loss: 454235.4477 - val_loss: 385097.7910\n",
      "Epoch 54/400\n",
      "4677/4677 [==============================] - 0s 19us/sample - loss: 454121.8851 - val_loss: 385082.3215\n",
      "Epoch 55/400\n",
      "4677/4677 [==============================] - 0s 20us/sample - loss: 454069.4132 - val_loss: 384839.6731\n",
      "Epoch 56/400\n",
      "4677/4677 [==============================] - 0s 22us/sample - loss: 454010.3384 - val_loss: 384625.9080\n",
      "Epoch 57/400\n",
      "4677/4677 [==============================] - 0s 22us/sample - loss: 453902.7617 - val_loss: 384657.7628\n",
      "Epoch 58/400\n",
      "4677/4677 [==============================] - 0s 20us/sample - loss: 453912.5244 - val_loss: 384733.2920\n",
      "Epoch 59/400\n",
      "4677/4677 [==============================] - 0s 23us/sample - loss: 453756.3603 - val_loss: 384405.4026\n",
      "Epoch 60/400\n",
      "4677/4677 [==============================] - 0s 20us/sample - loss: 453722.1568 - val_loss: 384312.8551\n",
      "Epoch 61/400\n",
      "4677/4677 [==============================] - 0s 20us/sample - loss: 453636.3006 - val_loss: 384119.4394\n",
      "Epoch 62/400\n",
      "4677/4677 [==============================] - 0s 21us/sample - loss: 453640.5511 - val_loss: 384016.6554\n",
      "Epoch 63/400\n",
      "4677/4677 [==============================] - 0s 20us/sample - loss: 453647.2396 - val_loss: 383824.9522\n",
      "Epoch 64/400\n",
      "4677/4677 [==============================] - 0s 20us/sample - loss: 453644.2310 - val_loss: 383889.5529\n",
      "Epoch 65/400\n",
      "4677/4677 [==============================] - 0s 20us/sample - loss: 453546.0274 - val_loss: 383764.9817\n",
      "Epoch 66/400\n",
      "4677/4677 [==============================] - 0s 20us/sample - loss: 453451.9947 - val_loss: 383807.5936\n",
      "Epoch 67/400\n",
      "4677/4677 [==============================] - 0s 21us/sample - loss: 453426.9888 - val_loss: 383508.1885\n",
      "Epoch 68/400\n",
      "4677/4677 [==============================] - 0s 20us/sample - loss: 453321.4699 - val_loss: 383537.0567\n",
      "Epoch 69/400\n",
      "4677/4677 [==============================] - 0s 20us/sample - loss: 453330.1006 - val_loss: 383549.7526\n",
      "Epoch 70/400\n"
     ]
    },
    {
     "name": "stdout",
     "output_type": "stream",
     "text": [
      "4677/4677 [==============================] - 0s 20us/sample - loss: 453264.0043 - val_loss: 383476.3564\n",
      "Epoch 71/400\n",
      "4677/4677 [==============================] - 0s 20us/sample - loss: 453378.9268 - val_loss: 383109.6590\n",
      "Epoch 72/400\n",
      "4677/4677 [==============================] - 0s 21us/sample - loss: 453151.1553 - val_loss: 383579.2256\n",
      "Epoch 73/400\n",
      "4677/4677 [==============================] - 0s 20us/sample - loss: 453273.1407 - val_loss: 383449.4176\n",
      "Epoch 74/400\n",
      "4677/4677 [==============================] - 0s 19us/sample - loss: 453209.0292 - val_loss: 383405.0112\n",
      "Epoch 75/400\n",
      "4677/4677 [==============================] - 0s 21us/sample - loss: 453234.5903 - val_loss: 383341.4599\n",
      "Epoch 76/400\n",
      "4677/4677 [==============================] - 0s 21us/sample - loss: 453076.1740 - val_loss: 383074.8516\n",
      "Epoch 77/400\n",
      "4677/4677 [==============================] - 0s 20us/sample - loss: 453117.5008 - val_loss: 382908.6138\n",
      "Epoch 78/400\n",
      "4677/4677 [==============================] - 0s 22us/sample - loss: 453044.2052 - val_loss: 382840.4048\n",
      "Epoch 79/400\n",
      "4677/4677 [==============================] - 0s 20us/sample - loss: 452944.0381 - val_loss: 382982.7292\n",
      "Epoch 80/400\n",
      "4677/4677 [==============================] - 0s 25us/sample - loss: 452984.2339 - val_loss: 382873.0808\n",
      "Epoch 81/400\n",
      "4677/4677 [==============================] - 0s 20us/sample - loss: 452960.3201 - val_loss: 382718.5817\n",
      "Epoch 82/400\n",
      "4677/4677 [==============================] - 0s 20us/sample - loss: 452920.1695 - val_loss: 382872.8420\n",
      "Epoch 83/400\n",
      "4677/4677 [==============================] - 0s 21us/sample - loss: 452767.4005 - val_loss: 382681.8500\n",
      "Epoch 84/400\n",
      "4677/4677 [==============================] - 0s 20us/sample - loss: 452796.6425 - val_loss: 382625.4003\n",
      "Epoch 85/400\n",
      "4677/4677 [==============================] - 0s 21us/sample - loss: 452844.7129 - val_loss: 382492.6122\n",
      "Epoch 86/400\n",
      "4677/4677 [==============================] - 0s 20us/sample - loss: 452708.6835 - val_loss: 382714.4054\n",
      "Epoch 87/400\n",
      "4677/4677 [==============================] - 0s 20us/sample - loss: 452770.3742 - val_loss: 382543.4343\n",
      "Epoch 88/400\n",
      "4677/4677 [==============================] - 0s 20us/sample - loss: 452694.6930 - val_loss: 382592.7657\n",
      "Epoch 89/400\n",
      "4677/4677 [==============================] - 0s 21us/sample - loss: 452697.2435 - val_loss: 382380.8067\n",
      "Epoch 90/400\n",
      "4677/4677 [==============================] - 0s 20us/sample - loss: 452615.5324 - val_loss: 382500.0279\n",
      "Epoch 91/400\n",
      "4677/4677 [==============================] - 0s 20us/sample - loss: 452665.0328 - val_loss: 382377.2596\n",
      "Epoch 92/400\n",
      "4677/4677 [==============================] - 0s 19us/sample - loss: 452561.6955 - val_loss: 382488.1279\n",
      "Epoch 93/400\n",
      "4677/4677 [==============================] - 0s 20us/sample - loss: 452540.4862 - val_loss: 382356.7490\n",
      "Epoch 94/400\n",
      "4677/4677 [==============================] - 0s 21us/sample - loss: 452573.2789 - val_loss: 382421.9074\n",
      "Epoch 95/400\n",
      "4677/4677 [==============================] - 0s 20us/sample - loss: 452522.4301 - val_loss: 382317.0224\n",
      "Epoch 96/400\n",
      "4677/4677 [==============================] - 0s 20us/sample - loss: 452492.5624 - val_loss: 382207.1067\n",
      "Epoch 97/400\n",
      "4677/4677 [==============================] - 0s 20us/sample - loss: 452519.6775 - val_loss: 382300.1093\n",
      "Epoch 98/400\n",
      "4677/4677 [==============================] - 0s 21us/sample - loss: 452474.3231 - val_loss: 382258.9567\n",
      "Epoch 99/400\n",
      "4677/4677 [==============================] - 0s 20us/sample - loss: 452403.4566 - val_loss: 382289.5946\n",
      "Epoch 100/400\n",
      "4677/4677 [==============================] - 0s 21us/sample - loss: 452542.5477 - val_loss: 382245.3676\n",
      "Epoch 101/400\n",
      "4677/4677 [==============================] - 0s 20us/sample - loss: 452547.9274 - val_loss: 382375.9093\n",
      "Epoch 102/400\n",
      "4677/4677 [==============================] - 0s 20us/sample - loss: 452407.6881 - val_loss: 382239.7131\n",
      "Epoch 103/400\n",
      "4677/4677 [==============================] - 0s 20us/sample - loss: 452339.9466 - val_loss: 382179.6628\n",
      "Epoch 104/400\n",
      "4677/4677 [==============================] - 0s 21us/sample - loss: 452366.0573 - val_loss: 382148.8452\n",
      "Epoch 105/400\n",
      "4677/4677 [==============================] - 0s 21us/sample - loss: 452369.7461 - val_loss: 382240.5840\n",
      "Epoch 106/400\n",
      "4677/4677 [==============================] - 0s 20us/sample - loss: 452312.0946 - val_loss: 382234.1907\n",
      "Epoch 107/400\n",
      "4677/4677 [==============================] - 0s 22us/sample - loss: 452277.5370 - val_loss: 382113.9135\n",
      "Epoch 108/400\n",
      "4677/4677 [==============================] - 0s 20us/sample - loss: 452285.1414 - val_loss: 382144.6788\n",
      "Epoch 109/400\n",
      "4677/4677 [==============================] - 0s 19us/sample - loss: 452434.2993 - val_loss: 382243.8580\n",
      "Epoch 110/400\n",
      "4677/4677 [==============================] - 0s 20us/sample - loss: 452248.4418 - val_loss: 382115.4163\n",
      "Epoch 111/400\n",
      "4677/4677 [==============================] - 0s 21us/sample - loss: 452301.9599 - val_loss: 382098.1356\n",
      "Epoch 112/400\n",
      "4677/4677 [==============================] - 0s 21us/sample - loss: 452235.5490 - val_loss: 382165.8949\n",
      "Epoch 113/400\n",
      "4677/4677 [==============================] - 0s 21us/sample - loss: 452277.6442 - val_loss: 382008.9183\n",
      "Epoch 114/400\n",
      "4677/4677 [==============================] - 0s 21us/sample - loss: 452227.8061 - val_loss: 382130.0997\n",
      "Epoch 115/400\n",
      "4677/4677 [==============================] - 0s 22us/sample - loss: 452229.6838 - val_loss: 382105.6769\n",
      "Epoch 116/400\n",
      "4677/4677 [==============================] - 0s 21us/sample - loss: 452428.4860 - val_loss: 382192.9881\n",
      "Epoch 117/400\n",
      "4677/4677 [==============================] - 0s 22us/sample - loss: 452124.7359 - val_loss: 382036.1529\n",
      "Epoch 118/400\n",
      "4677/4677 [==============================] - 0s 20us/sample - loss: 452228.4577 - val_loss: 382132.4785\n",
      "Epoch 119/400\n",
      "4677/4677 [==============================] - 0s 20us/sample - loss: 452159.5396 - val_loss: 382009.3843\n",
      "Epoch 120/400\n",
      "4677/4677 [==============================] - 0s 20us/sample - loss: 452223.8078 - val_loss: 382064.6304\n",
      "Epoch 121/400\n",
      "4677/4677 [==============================] - 0s 20us/sample - loss: 452160.7698 - val_loss: 382050.4186\n",
      "Epoch 122/400\n",
      "4677/4677 [==============================] - 0s 20us/sample - loss: 452111.4625 - val_loss: 382149.9042\n",
      "Epoch 123/400\n",
      "4677/4677 [==============================] - 0s 20us/sample - loss: 452133.1279 - val_loss: 382225.0497\n",
      "Epoch 124/400\n",
      "4677/4677 [==============================] - 0s 31us/sample - loss: 452215.1471 - val_loss: 381906.4260\n",
      "Epoch 125/400\n",
      "4677/4677 [==============================] - 0s 22us/sample - loss: 452085.7676 - val_loss: 382140.6240\n",
      "Epoch 126/400\n",
      "4677/4677 [==============================] - 0s 20us/sample - loss: 452092.8742 - val_loss: 382302.1298\n",
      "Epoch 127/400\n",
      "4677/4677 [==============================] - 0s 21us/sample - loss: 452111.6556 - val_loss: 382363.6381\n",
      "Epoch 128/400\n",
      "4677/4677 [==============================] - 0s 21us/sample - loss: 452227.9785 - val_loss: 382033.2702\n",
      "Epoch 129/400\n",
      "4677/4677 [==============================] - 0s 21us/sample - loss: 452133.8959 - val_loss: 382459.5163\n",
      "Epoch 130/400\n",
      "4677/4677 [==============================] - 0s 21us/sample - loss: 452038.6984 - val_loss: 382266.4022\n",
      "Epoch 131/400\n",
      "4677/4677 [==============================] - 0s 20us/sample - loss: 452032.7975 - val_loss: 382198.3410\n",
      "Epoch 132/400\n",
      "4677/4677 [==============================] - 0s 20us/sample - loss: 452054.0993 - val_loss: 382201.6035\n",
      "Epoch 133/400\n",
      "4677/4677 [==============================] - 0s 20us/sample - loss: 452026.3193 - val_loss: 382122.5920\n",
      "Epoch 134/400\n",
      "4677/4677 [==============================] - 0s 21us/sample - loss: 452060.5387 - val_loss: 382227.2875\n",
      "Epoch 135/400\n",
      "4677/4677 [==============================] - 0s 20us/sample - loss: 452035.2874 - val_loss: 382310.3228\n",
      "Epoch 136/400\n",
      "4677/4677 [==============================] - 0s 21us/sample - loss: 451981.3923 - val_loss: 382177.1788\n",
      "Epoch 137/400\n",
      "4677/4677 [==============================] - 0s 20us/sample - loss: 452101.1279 - val_loss: 382101.1753\n",
      "Epoch 138/400\n",
      "4677/4677 [==============================] - 0s 19us/sample - loss: 452033.1983 - val_loss: 382165.6253\n",
      "Epoch 139/400\n",
      "4677/4677 [==============================] - 0s 21us/sample - loss: 451986.0389 - val_loss: 382228.5077\n"
     ]
    },
    {
     "name": "stdout",
     "output_type": "stream",
     "text": [
      "Epoch 140/400\n",
      "4677/4677 [==============================] - 0s 21us/sample - loss: 452030.9260 - val_loss: 382017.6676\n",
      "Epoch 141/400\n",
      "4677/4677 [==============================] - 0s 20us/sample - loss: 451906.9904 - val_loss: 382280.5160\n",
      "Epoch 142/400\n",
      "4677/4677 [==============================] - 0s 21us/sample - loss: 452030.2460 - val_loss: 382349.4474\n",
      "Epoch 143/400\n",
      "4677/4677 [==============================] - 0s 21us/sample - loss: 452000.6376 - val_loss: 382291.4535\n",
      "Epoch 144/400\n",
      "4677/4677 [==============================] - 0s 20us/sample - loss: 452088.2035 - val_loss: 381957.8907\n",
      "Epoch 145/400\n",
      "4677/4677 [==============================] - 0s 19us/sample - loss: 451955.2441 - val_loss: 382293.8968\n",
      "Epoch 146/400\n",
      "4677/4677 [==============================] - 0s 20us/sample - loss: 451927.9311 - val_loss: 382188.1311\n",
      "Epoch 147/400\n",
      "4677/4677 [==============================] - 0s 20us/sample - loss: 452018.6622 - val_loss: 382189.9256\n",
      "Epoch 148/400\n",
      "4677/4677 [==============================] - 0s 21us/sample - loss: 451940.0084 - val_loss: 382100.0106\n",
      "Epoch 149/400\n",
      "4677/4677 [==============================] - 0s 20us/sample - loss: 451959.3594 - val_loss: 382051.6035\n",
      "Epoch 150/400\n",
      "4677/4677 [==============================] - 0s 19us/sample - loss: 451888.1642 - val_loss: 382368.9958\n",
      "Epoch 151/400\n",
      "4677/4677 [==============================] - 0s 21us/sample - loss: 452047.9508 - val_loss: 382105.1285\n",
      "Epoch 152/400\n",
      "4677/4677 [==============================] - 0s 21us/sample - loss: 451920.0042 - val_loss: 382285.7266\n",
      "Epoch 153/400\n",
      "4677/4677 [==============================] - 0s 21us/sample - loss: 451922.4761 - val_loss: 382098.0965\n",
      "Epoch 154/400\n",
      "4677/4677 [==============================] - 0s 22us/sample - loss: 451925.9692 - val_loss: 382220.2869\n",
      "Epoch 155/400\n",
      "4677/4677 [==============================] - 0s 20us/sample - loss: 451970.8960 - val_loss: 382308.3087\n",
      "Epoch 156/400\n",
      "4677/4677 [==============================] - 0s 20us/sample - loss: 451878.6142 - val_loss: 382073.0603\n",
      "Epoch 157/400\n",
      "4677/4677 [==============================] - 0s 20us/sample - loss: 451863.3476 - val_loss: 382090.9183\n",
      "Epoch 158/400\n",
      "4677/4677 [==============================] - 0s 21us/sample - loss: 451846.9040 - val_loss: 382121.1119\n",
      "Epoch 159/400\n",
      "4677/4677 [==============================] - 0s 20us/sample - loss: 451862.9127 - val_loss: 382172.8247\n",
      "Epoch 160/400\n",
      "4677/4677 [==============================] - 0s 20us/sample - loss: 451927.9584 - val_loss: 382144.6420\n",
      "Epoch 161/400\n",
      "4677/4677 [==============================] - 0s 20us/sample - loss: 451860.9192 - val_loss: 382175.8715\n",
      "Epoch 162/400\n",
      "4677/4677 [==============================] - 0s 21us/sample - loss: 451921.4667 - val_loss: 382224.2462\n",
      "Epoch 163/400\n",
      "4677/4677 [==============================] - 0s 21us/sample - loss: 451878.5720 - val_loss: 382029.9779\n",
      "Epoch 164/400\n",
      "4677/4677 [==============================] - 0s 21us/sample - loss: 451900.5083 - val_loss: 382022.8128\n",
      "Epoch 165/400\n",
      "4677/4677 [==============================] - 0s 20us/sample - loss: 451893.4823 - val_loss: 382246.0673\n",
      "Epoch 166/400\n",
      "4677/4677 [==============================] - 0s 20us/sample - loss: 452054.4328 - val_loss: 382047.8147\n",
      "Epoch 167/400\n",
      "4677/4677 [==============================] - 0s 19us/sample - loss: 451862.2840 - val_loss: 382057.8747\n",
      "Epoch 168/400\n",
      "4677/4677 [==============================] - 0s 21us/sample - loss: 451872.7381 - val_loss: 382134.8846\n",
      "Epoch 169/400\n",
      "4677/4677 [==============================] - 0s 20us/sample - loss: 451820.0603 - val_loss: 382209.7920\n",
      "Epoch 170/400\n",
      "4677/4677 [==============================] - 0s 20us/sample - loss: 451845.3993 - val_loss: 382151.5564\n",
      "Epoch 171/400\n",
      "4677/4677 [==============================] - 0s 20us/sample - loss: 451780.5423 - val_loss: 382092.7240\n",
      "Epoch 172/400\n",
      "4677/4677 [==============================] - 0s 21us/sample - loss: 451817.2990 - val_loss: 382115.7083\n",
      "Epoch 173/400\n",
      "4677/4677 [==============================] - 0s 21us/sample - loss: 451914.2825 - val_loss: 382240.0420\n",
      "Epoch 174/400\n",
      "4677/4677 [==============================] - 0s 21us/sample - loss: 451889.1027 - val_loss: 382055.3292\n",
      "Epoch 175/400\n",
      "4677/4677 [==============================] - 0s 20us/sample - loss: 451861.3747 - val_loss: 382290.5651\n",
      "Epoch 176/400\n",
      "4677/4677 [==============================] - 0s 21us/sample - loss: 451785.8478 - val_loss: 382171.4131\n",
      "Epoch 177/400\n",
      "4677/4677 [==============================] - 0s 21us/sample - loss: 451771.2344 - val_loss: 382173.2218\n",
      "Epoch 178/400\n",
      "4677/4677 [==============================] - 0s 20us/sample - loss: 451815.1633 - val_loss: 382093.6644\n",
      "Epoch 179/400\n",
      "4677/4677 [==============================] - 0s 20us/sample - loss: 451802.2813 - val_loss: 382221.2471\n",
      "Epoch 180/400\n",
      "4677/4677 [==============================] - 0s 20us/sample - loss: 451840.5895 - val_loss: 382222.9958\n",
      "Epoch 181/400\n",
      "4677/4677 [==============================] - 0s 22us/sample - loss: 451768.6372 - val_loss: 382150.9058\n",
      "Epoch 182/400\n",
      "4677/4677 [==============================] - 0s 20us/sample - loss: 451807.1723 - val_loss: 382054.2478\n",
      "Epoch 183/400\n",
      "4677/4677 [==============================] - 0s 20us/sample - loss: 451754.7717 - val_loss: 382123.7407\n",
      "Epoch 184/400\n",
      "4677/4677 [==============================] - 0s 20us/sample - loss: 451835.5735 - val_loss: 382089.3837\n",
      "Epoch 185/400\n",
      "4677/4677 [==============================] - 0s 20us/sample - loss: 451776.7768 - val_loss: 382111.3208\n",
      "Epoch 186/400\n",
      "4677/4677 [==============================] - 0s 21us/sample - loss: 451763.5066 - val_loss: 382124.1224\n",
      "Epoch 187/400\n",
      "4677/4677 [==============================] - 0s 20us/sample - loss: 451747.6003 - val_loss: 382226.0798\n",
      "Epoch 188/400\n",
      "4677/4677 [==============================] - 0s 20us/sample - loss: 451858.1220 - val_loss: 382188.9324\n",
      "Epoch 189/400\n",
      "4677/4677 [==============================] - 0s 22us/sample - loss: 451817.5485 - val_loss: 382107.4612\n",
      "Epoch 190/400\n",
      "4677/4677 [==============================] - 0s 20us/sample - loss: 451873.9863 - val_loss: 382259.1228\n",
      "Epoch 191/400\n",
      "4677/4677 [==============================] - 0s 20us/sample - loss: 451741.3501 - val_loss: 382167.9474\n",
      "Epoch 192/400\n",
      "4677/4677 [==============================] - 0s 20us/sample - loss: 451756.9683 - val_loss: 382051.9163\n",
      "Epoch 193/400\n",
      "4677/4677 [==============================] - 0s 19us/sample - loss: 451770.4897 - val_loss: 382106.5010\n",
      "Epoch 194/400\n",
      "4677/4677 [==============================] - 0s 21us/sample - loss: 451728.8842 - val_loss: 382142.5016\n",
      "Epoch 195/400\n",
      "4677/4677 [==============================] - 0s 20us/sample - loss: 451745.0678 - val_loss: 382161.1894\n",
      "Epoch 196/400\n",
      "4677/4677 [==============================] - 0s 22us/sample - loss: 451859.9731 - val_loss: 382337.5228\n",
      "Epoch 197/400\n",
      "4677/4677 [==============================] - 0s 21us/sample - loss: 451774.4937 - val_loss: 382150.4151\n",
      "Epoch 198/400\n",
      "4677/4677 [==============================] - 0s 20us/sample - loss: 451799.7673 - val_loss: 382054.6317\n",
      "Epoch 199/400\n",
      "4677/4677 [==============================] - 0s 21us/sample - loss: 451978.1771 - val_loss: 382295.7574\n",
      "Epoch 200/400\n",
      "4677/4677 [==============================] - 0s 20us/sample - loss: 451740.7191 - val_loss: 382178.2157\n",
      "Epoch 201/400\n",
      "4677/4677 [==============================] - 0s 20us/sample - loss: 451720.7191 - val_loss: 382176.5061\n",
      "Epoch 202/400\n",
      "4677/4677 [==============================] - 0s 20us/sample - loss: 451730.5868 - val_loss: 382237.2497\n",
      "Epoch 203/400\n",
      "4677/4677 [==============================] - 0s 22us/sample - loss: 451715.1330 - val_loss: 382193.3551\n",
      "Epoch 204/400\n",
      "4677/4677 [==============================] - 0s 20us/sample - loss: 451828.0222 - val_loss: 382122.1631\n",
      "Epoch 205/400\n",
      "4677/4677 [==============================] - 0s 20us/sample - loss: 451758.8394 - val_loss: 382325.5702\n",
      "Epoch 206/400\n",
      "4677/4677 [==============================] - 0s 21us/sample - loss: 451696.8928 - val_loss: 382282.3599\n",
      "Epoch 207/400\n",
      "4677/4677 [==============================] - 0s 21us/sample - loss: 451722.6837 - val_loss: 382212.6183\n",
      "Epoch 208/400\n",
      "4677/4677 [==============================] - 0s 20us/sample - loss: 451747.3162 - val_loss: 382242.2013\n",
      "Epoch 209/400\n"
     ]
    },
    {
     "name": "stdout",
     "output_type": "stream",
     "text": [
      "4677/4677 [==============================] - 0s 21us/sample - loss: 451698.4423 - val_loss: 382188.2478\n",
      "Epoch 210/400\n",
      "4677/4677 [==============================] - 0s 19us/sample - loss: 451745.8349 - val_loss: 382178.9407\n",
      "Epoch 211/400\n",
      "4677/4677 [==============================] - 0s 20us/sample - loss: 451795.0419 - val_loss: 382027.5170\n",
      "Epoch 212/400\n",
      "4677/4677 [==============================] - 0s 20us/sample - loss: 451824.9800 - val_loss: 382260.5740\n",
      "Epoch 213/400\n",
      "4677/4677 [==============================] - 0s 21us/sample - loss: 451710.6116 - val_loss: 382127.0298\n",
      "Epoch 214/400\n",
      "4677/4677 [==============================] - 0s 20us/sample - loss: 451701.3311 - val_loss: 382208.0189\n",
      "Epoch 215/400\n",
      "4677/4677 [==============================] - 0s 19us/sample - loss: 451678.8049 - val_loss: 382156.0933\n",
      "Epoch 216/400\n",
      "4677/4677 [==============================] - 0s 20us/sample - loss: 451712.7819 - val_loss: 382125.3138\n",
      "Epoch 217/400\n",
      "4677/4677 [==============================] - 0s 20us/sample - loss: 451774.7654 - val_loss: 382222.1061\n",
      "Epoch 218/400\n",
      "4677/4677 [==============================] - 0s 21us/sample - loss: 451736.1219 - val_loss: 382259.1208\n",
      "Epoch 219/400\n",
      "4677/4677 [==============================] - 0s 20us/sample - loss: 451812.6720 - val_loss: 382094.2500\n",
      "Epoch 220/400\n",
      "4677/4677 [==============================] - 0s 30us/sample - loss: 451745.7309 - val_loss: 382066.1808\n",
      "Epoch 221/400\n",
      "4677/4677 [==============================] - 0s 31us/sample - loss: 451761.7254 - val_loss: 382163.4128\n",
      "Epoch 222/400\n",
      "4677/4677 [==============================] - 0s 21us/sample - loss: 451869.0128 - val_loss: 382091.2997\n",
      "Epoch 223/400\n",
      "4677/4677 [==============================] - 0s 20us/sample - loss: 451716.0849 - val_loss: 382169.9843\n",
      "Epoch 224/400\n",
      "4677/4677 [==============================] - 0s 21us/sample - loss: 451752.3652 - val_loss: 382354.4529\n",
      "Epoch 225/400\n",
      "4677/4677 [==============================] - 0s 20us/sample - loss: 451660.4799 - val_loss: 382186.6272\n",
      "Epoch 226/400\n",
      "4677/4677 [==============================] - 0s 20us/sample - loss: 451751.2668 - val_loss: 382263.7683\n",
      "Epoch 227/400\n",
      "4677/4677 [==============================] - 0s 20us/sample - loss: 451872.4269 - val_loss: 382123.0256\n",
      "Epoch 228/400\n",
      "4677/4677 [==============================] - 0s 21us/sample - loss: 451733.0980 - val_loss: 382336.5356\n",
      "Epoch 229/400\n",
      "4677/4677 [==============================] - 0s 22us/sample - loss: 451709.5120 - val_loss: 382215.8910\n",
      "Epoch 230/400\n",
      "4677/4677 [==============================] - 0s 20us/sample - loss: 451729.6164 - val_loss: 382216.5772\n",
      "Epoch 231/400\n",
      "4677/4677 [==============================] - 0s 21us/sample - loss: 451695.9765 - val_loss: 382196.7987\n",
      "Epoch 232/400\n",
      "4677/4677 [==============================] - 0s 21us/sample - loss: 451714.8847 - val_loss: 382067.5465\n",
      "Epoch 233/400\n",
      "4677/4677 [==============================] - 0s 20us/sample - loss: 451658.8506 - val_loss: 382267.9756\n",
      "Epoch 234/400\n",
      "4677/4677 [==============================] - 0s 20us/sample - loss: 451678.6175 - val_loss: 382180.2163\n",
      "Epoch 235/400\n",
      "4677/4677 [==============================] - 0s 20us/sample - loss: 451663.5654 - val_loss: 382235.5183\n",
      "Epoch 236/400\n",
      "4677/4677 [==============================] - 0s 21us/sample - loss: 451740.0113 - val_loss: 382257.6811\n",
      "Epoch 237/400\n",
      "4677/4677 [==============================] - 0s 21us/sample - loss: 451772.2246 - val_loss: 382159.6679\n",
      "Epoch 238/400\n",
      "4677/4677 [==============================] - 0s 20us/sample - loss: 451720.7198 - val_loss: 382116.0369\n",
      "Epoch 239/400\n",
      "4677/4677 [==============================] - 0s 21us/sample - loss: 451678.0059 - val_loss: 382239.2035\n",
      "Epoch 240/400\n",
      "4677/4677 [==============================] - 0s 19us/sample - loss: 451730.5728 - val_loss: 382258.1830\n",
      "Epoch 241/400\n",
      "4677/4677 [==============================] - 0s 21us/sample - loss: 451829.9664 - val_loss: 382045.3910\n",
      "Epoch 242/400\n",
      "4677/4677 [==============================] - 0s 21us/sample - loss: 451662.8615 - val_loss: 382183.3965\n",
      "Epoch 243/400\n",
      "4677/4677 [==============================] - 0s 20us/sample - loss: 451670.2474 - val_loss: 382156.3811\n",
      "Epoch 244/400\n",
      "4677/4677 [==============================] - 0s 21us/sample - loss: 451710.0508 - val_loss: 382265.2292\n",
      "Epoch 245/400\n",
      "4677/4677 [==============================] - 0s 22us/sample - loss: 451772.2762 - val_loss: 382182.3590\n",
      "Epoch 246/400\n",
      "4677/4677 [==============================] - 0s 21us/sample - loss: 451705.7944 - val_loss: 382192.2330\n",
      "Epoch 247/400\n",
      "4677/4677 [==============================] - 0s 19us/sample - loss: 451642.2184 - val_loss: 382374.9952\n",
      "Epoch 248/400\n",
      "4677/4677 [==============================] - 0s 19us/sample - loss: 451843.0721 - val_loss: 382349.2144\n",
      "Epoch 249/400\n",
      "4677/4677 [==============================] - 0s 20us/sample - loss: 451744.2964 - val_loss: 382346.7785\n",
      "Epoch 250/400\n",
      "4677/4677 [==============================] - 0s 21us/sample - loss: 451663.1853 - val_loss: 382228.7051\n",
      "Epoch 251/400\n",
      "4677/4677 [==============================] - 0s 20us/sample - loss: 451728.4152 - val_loss: 382187.5256\n",
      "Epoch 252/400\n",
      "4677/4677 [==============================] - 0s 20us/sample - loss: 451664.9114 - val_loss: 382198.5308\n",
      "Epoch 253/400\n",
      "4677/4677 [==============================] - 0s 19us/sample - loss: 451738.9477 - val_loss: 382273.6138\n",
      "Epoch 254/400\n",
      "4677/4677 [==============================] - 0s 21us/sample - loss: 451713.8909 - val_loss: 382236.6256\n",
      "Epoch 255/400\n",
      "4677/4677 [==============================] - 0s 22us/sample - loss: 451738.6004 - val_loss: 382222.0901\n",
      "Epoch 256/400\n",
      "4677/4677 [==============================] - 0s 21us/sample - loss: 451675.4710 - val_loss: 382167.3923\n",
      "Epoch 257/400\n",
      "4677/4677 [==============================] - 0s 20us/sample - loss: 451714.8423 - val_loss: 382085.8244\n",
      "Epoch 258/400\n",
      "4677/4677 [==============================] - 0s 20us/sample - loss: 451751.4228 - val_loss: 382377.5782\n",
      "Epoch 259/400\n",
      "4677/4677 [==============================] - 0s 20us/sample - loss: 451731.1751 - val_loss: 382367.1612\n",
      "Epoch 260/400\n",
      "4677/4677 [==============================] - 0s 20us/sample - loss: 451737.4004 - val_loss: 382411.9385\n",
      "Epoch 261/400\n",
      "4677/4677 [==============================] - 0s 20us/sample - loss: 451666.3026 - val_loss: 382194.9946\n",
      "Epoch 262/400\n",
      "4677/4677 [==============================] - 0s 21us/sample - loss: 451665.7558 - val_loss: 382270.2577\n",
      "Epoch 263/400\n",
      "4677/4677 [==============================] - 0s 20us/sample - loss: 451722.5220 - val_loss: 382155.7513\n",
      "Epoch 264/400\n",
      "4677/4677 [==============================] - 0s 19us/sample - loss: 451720.9189 - val_loss: 382267.5692\n",
      "Epoch 265/400\n",
      "4677/4677 [==============================] - 0s 20us/sample - loss: 451764.9898 - val_loss: 382302.0170\n",
      "Epoch 266/400\n",
      "4677/4677 [==============================] - 0s 20us/sample - loss: 452017.0336 - val_loss: 382003.2439\n",
      "Epoch 267/400\n",
      "4677/4677 [==============================] - 0s 21us/sample - loss: 451863.6320 - val_loss: 382368.1856\n",
      "Epoch 268/400\n",
      "4677/4677 [==============================] - 0s 21us/sample - loss: 451704.1047 - val_loss: 382372.8228\n",
      "Epoch 269/400\n",
      "4677/4677 [==============================] - 0s 20us/sample - loss: 451743.7098 - val_loss: 382101.5939\n",
      "Epoch 270/400\n",
      "4677/4677 [==============================] - 0s 21us/sample - loss: 451696.5431 - val_loss: 382147.4567\n",
      "Epoch 271/400\n",
      "4677/4677 [==============================] - 0s 20us/sample - loss: 451706.8664 - val_loss: 382408.3718\n",
      "Epoch 272/400\n",
      "4677/4677 [==============================] - 0s 19us/sample - loss: 451641.2013 - val_loss: 382349.1478\n",
      "Epoch 273/400\n",
      "4677/4677 [==============================] - 0s 21us/sample - loss: 451820.6257 - val_loss: 382175.2337\n",
      "Epoch 274/400\n",
      "4677/4677 [==============================] - 0s 20us/sample - loss: 451802.1914 - val_loss: 382410.2202\n",
      "Epoch 275/400\n",
      "4677/4677 [==============================] - 0s 23us/sample - loss: 451637.0722 - val_loss: 382268.9234\n",
      "Epoch 276/400\n",
      "4677/4677 [==============================] - 0s 22us/sample - loss: 451663.2206 - val_loss: 382265.0846\n",
      "Epoch 277/400\n",
      "4677/4677 [==============================] - 0s 23us/sample - loss: 451688.3832 - val_loss: 382170.1580\n",
      "Epoch 278/400\n"
     ]
    },
    {
     "name": "stdout",
     "output_type": "stream",
     "text": [
      "4677/4677 [==============================] - 0s 20us/sample - loss: 451800.8306 - val_loss: 382161.6939\n",
      "Epoch 279/400\n",
      "4677/4677 [==============================] - 0s 22us/sample - loss: 451713.1240 - val_loss: 382166.7141\n",
      "Epoch 280/400\n",
      "4677/4677 [==============================] - 0s 19us/sample - loss: 451646.5241 - val_loss: 382314.7769\n",
      "Epoch 281/400\n",
      "4677/4677 [==============================] - 0s 21us/sample - loss: 451749.5236 - val_loss: 382262.0003\n",
      "Epoch 282/400\n",
      "4677/4677 [==============================] - 0s 19us/sample - loss: 451649.2168 - val_loss: 382188.9337\n",
      "Epoch 283/400\n",
      "4677/4677 [==============================] - 0s 21us/sample - loss: 451764.0870 - val_loss: 382193.5971\n",
      "Epoch 284/400\n",
      "4677/4677 [==============================] - 0s 22us/sample - loss: 451652.0171 - val_loss: 382275.6756\n",
      "Epoch 285/400\n",
      "4677/4677 [==============================] - 0s 20us/sample - loss: 451635.4347 - val_loss: 382246.4689\n",
      "Epoch 286/400\n",
      "4677/4677 [==============================] - 0s 22us/sample - loss: 451670.4741 - val_loss: 382232.7734\n",
      "Epoch 287/400\n",
      "4677/4677 [==============================] - 0s 20us/sample - loss: 451651.6397 - val_loss: 382096.9157\n",
      "Epoch 288/400\n",
      "4677/4677 [==============================] - 0s 20us/sample - loss: 451615.9288 - val_loss: 382154.3756\n",
      "Epoch 289/400\n",
      "4677/4677 [==============================] - 0s 21us/sample - loss: 451686.3881 - val_loss: 382296.0978\n",
      "Epoch 290/400\n",
      "4677/4677 [==============================] - 0s 21us/sample - loss: 451722.1003 - val_loss: 382213.4715\n",
      "Epoch 291/400\n",
      "4677/4677 [==============================] - 0s 22us/sample - loss: 451774.8430 - val_loss: 382053.2186\n",
      "Epoch 292/400\n",
      "4677/4677 [==============================] - 0s 21us/sample - loss: 451637.4390 - val_loss: 382225.7035\n",
      "Epoch 293/400\n",
      "4677/4677 [==============================] - 0s 23us/sample - loss: 451739.6511 - val_loss: 382090.5571\n",
      "Epoch 294/400\n",
      "4677/4677 [==============================] - 0s 20us/sample - loss: 451691.1105 - val_loss: 382465.7144\n",
      "Epoch 295/400\n",
      "4677/4677 [==============================] - 0s 20us/sample - loss: 451669.2290 - val_loss: 382293.7721\n",
      "Epoch 296/400\n",
      "4677/4677 [==============================] - 0s 23us/sample - loss: 451674.2766 - val_loss: 382244.2702\n",
      "Epoch 297/400\n",
      "4677/4677 [==============================] - 0s 25us/sample - loss: 451697.7346 - val_loss: 382329.0705\n",
      "Epoch 298/400\n",
      "4677/4677 [==============================] - 0s 25us/sample - loss: 451669.2255 - val_loss: 382342.1593\n",
      "Epoch 299/400\n",
      "4677/4677 [==============================] - 0s 23us/sample - loss: 451732.4916 - val_loss: 382337.1740\n",
      "Epoch 300/400\n",
      "4677/4677 [==============================] - 0s 26us/sample - loss: 451809.1400 - val_loss: 382068.7474\n",
      "Epoch 301/400\n",
      "4677/4677 [==============================] - 0s 20us/sample - loss: 451637.8276 - val_loss: 382316.4125\n",
      "Epoch 302/400\n",
      "4677/4677 [==============================] - 0s 20us/sample - loss: 451688.2108 - val_loss: 382486.2106\n",
      "Epoch 303/400\n",
      "4677/4677 [==============================] - 0s 22us/sample - loss: 451749.0415 - val_loss: 382191.1462\n",
      "Epoch 304/400\n",
      "4677/4677 [==============================] - 0s 20us/sample - loss: 451770.8834 - val_loss: 382265.0510\n",
      "Epoch 305/400\n",
      "4677/4677 [==============================] - 0s 22us/sample - loss: 451716.9347 - val_loss: 382280.0734\n",
      "Epoch 306/400\n",
      "4677/4677 [==============================] - 0s 20us/sample - loss: 451720.8526 - val_loss: 382248.8910\n",
      "Epoch 307/400\n",
      "4677/4677 [==============================] - 0s 20us/sample - loss: 451722.8677 - val_loss: 382279.1760\n",
      "Epoch 308/400\n",
      "4677/4677 [==============================] - 0s 21us/sample - loss: 451713.4305 - val_loss: 382267.9833\n",
      "Epoch 309/400\n",
      "4677/4677 [==============================] - 0s 21us/sample - loss: 451716.8303 - val_loss: 382211.4298\n",
      "Epoch 310/400\n",
      "4677/4677 [==============================] - 0s 20us/sample - loss: 451657.7866 - val_loss: 382354.4016\n",
      "Epoch 311/400\n",
      "4677/4677 [==============================] - 0s 20us/sample - loss: 451784.0484 - val_loss: 382212.7551\n",
      "Epoch 312/400\n",
      "4677/4677 [==============================] - 0s 21us/sample - loss: 451655.1899 - val_loss: 382403.1907\n",
      "Epoch 313/400\n",
      "4677/4677 [==============================] - 0s 20us/sample - loss: 451658.4830 - val_loss: 382329.4356\n",
      "Epoch 314/400\n",
      "4677/4677 [==============================] - 0s 22us/sample - loss: 451776.2728 - val_loss: 382207.8824\n",
      "Epoch 315/400\n",
      "4677/4677 [==============================] - 0s 20us/sample - loss: 451638.1479 - val_loss: 382198.1631\n",
      "Epoch 316/400\n",
      "4677/4677 [==============================] - 0s 21us/sample - loss: 451627.3216 - val_loss: 382166.6292\n",
      "Epoch 317/400\n",
      "4677/4677 [==============================] - 0s 20us/sample - loss: 451660.2938 - val_loss: 382209.3958\n",
      "Epoch 318/400\n",
      "4677/4677 [==============================] - 0s 20us/sample - loss: 451648.1359 - val_loss: 382302.8292\n",
      "Epoch 319/400\n",
      "4677/4677 [==============================] - 0s 20us/sample - loss: 451654.1047 - val_loss: 382274.5654\n",
      "Epoch 320/400\n",
      "4677/4677 [==============================] - 0s 23us/sample - loss: 451650.6166 - val_loss: 382218.1285\n",
      "Epoch 321/400\n",
      "4677/4677 [==============================] - 0s 25us/sample - loss: 451902.3035 - val_loss: 382420.1167\n",
      "Epoch 322/400\n",
      "4677/4677 [==============================] - 0s 21us/sample - loss: 451613.7050 - val_loss: 382250.0103\n",
      "Epoch 323/400\n",
      "4677/4677 [==============================] - 0s 24us/sample - loss: 451696.7899 - val_loss: 382090.5561\n",
      "Epoch 324/400\n",
      "4677/4677 [==============================] - 0s 21us/sample - loss: 451621.8687 - val_loss: 382375.7151\n",
      "Epoch 325/400\n",
      "4677/4677 [==============================] - 0s 20us/sample - loss: 451737.7577 - val_loss: 382448.6462\n",
      "Epoch 326/400\n",
      "4677/4677 [==============================] - 0s 21us/sample - loss: 451582.8522 - val_loss: 382276.6452\n",
      "Epoch 327/400\n",
      "4677/4677 [==============================] - 0s 23us/sample - loss: 451650.1269 - val_loss: 382205.3372\n",
      "Epoch 328/400\n",
      "4677/4677 [==============================] - 0s 21us/sample - loss: 451642.0743 - val_loss: 382247.1603\n",
      "Epoch 329/400\n",
      "4677/4677 [==============================] - 0s 20us/sample - loss: 451721.5562 - val_loss: 382440.1462\n",
      "Epoch 330/400\n",
      "4677/4677 [==============================] - 0s 20us/sample - loss: 451636.8173 - val_loss: 382236.1654\n",
      "Epoch 331/400\n",
      "4677/4677 [==============================] - 0s 22us/sample - loss: 451597.2893 - val_loss: 382282.6920\n",
      "Epoch 332/400\n",
      "4677/4677 [==============================] - 0s 26us/sample - loss: 451645.9282 - val_loss: 382336.6420\n",
      "Epoch 333/400\n",
      "4677/4677 [==============================] - 0s 28us/sample - loss: 451694.0081 - val_loss: 382260.1676\n",
      "Epoch 334/400\n",
      "4677/4677 [==============================] - 0s 21us/sample - loss: 451692.4092 - val_loss: 382221.1728\n",
      "Epoch 335/400\n",
      "4677/4677 [==============================] - 0s 21us/sample - loss: 451686.7576 - val_loss: 382381.7128\n",
      "Epoch 336/400\n",
      "4677/4677 [==============================] - 0s 20us/sample - loss: 451670.7936 - val_loss: 382391.7042\n",
      "Epoch 337/400\n",
      "4677/4677 [==============================] - 0s 22us/sample - loss: 451694.5094 - val_loss: 382411.6436\n",
      "Epoch 338/400\n",
      "4677/4677 [==============================] - 0s 21us/sample - loss: 451666.5625 - val_loss: 382284.5192\n",
      "Epoch 339/400\n",
      "4677/4677 [==============================] - 0s 21us/sample - loss: 451621.8316 - val_loss: 382329.1321\n",
      "Epoch 340/400\n",
      "4677/4677 [==============================] - 0s 21us/sample - loss: 451640.3628 - val_loss: 382255.2721\n",
      "Epoch 341/400\n",
      "4677/4677 [==============================] - 0s 22us/sample - loss: 451638.1790 - val_loss: 382228.4183\n",
      "Epoch 342/400\n",
      "4677/4677 [==============================] - 0s 26us/sample - loss: 451802.0300 - val_loss: 382082.5474\n",
      "Epoch 343/400\n",
      "4677/4677 [==============================] - 0s 23us/sample - loss: 451633.0675 - val_loss: 382310.4747\n",
      "Epoch 344/400\n",
      "4677/4677 [==============================] - 0s 20us/sample - loss: 451621.7968 - val_loss: 382285.3715\n",
      "Epoch 345/400\n",
      "4677/4677 [==============================] - 0s 24us/sample - loss: 451626.7781 - val_loss: 382264.0423\n",
      "Epoch 346/400\n",
      "4677/4677 [==============================] - 0s 20us/sample - loss: 451707.9091 - val_loss: 382184.4910\n",
      "Epoch 347/400\n"
     ]
    },
    {
     "name": "stdout",
     "output_type": "stream",
     "text": [
      "4677/4677 [==============================] - 0s 20us/sample - loss: 451655.2776 - val_loss: 382330.5859\n",
      "Epoch 348/400\n",
      "4677/4677 [==============================] - 0s 21us/sample - loss: 451621.7231 - val_loss: 382289.8606\n",
      "Epoch 349/400\n",
      "4677/4677 [==============================] - 0s 21us/sample - loss: 451624.5514 - val_loss: 382236.6875\n",
      "Epoch 350/400\n",
      "4677/4677 [==============================] - 0s 20us/sample - loss: 451648.5450 - val_loss: 382128.5843\n",
      "Epoch 351/400\n",
      "4677/4677 [==============================] - 0s 19us/sample - loss: 451690.4106 - val_loss: 382373.9426\n",
      "Epoch 352/400\n",
      "4677/4677 [==============================] - 0s 21us/sample - loss: 451744.9867 - val_loss: 382093.7997\n",
      "Epoch 353/400\n",
      "4677/4677 [==============================] - 0s 23us/sample - loss: 451642.1825 - val_loss: 382368.8821\n",
      "Epoch 354/400\n",
      "4677/4677 [==============================] - 0s 20us/sample - loss: 451653.8959 - val_loss: 382416.6769\n",
      "Epoch 355/400\n",
      "4677/4677 [==============================] - 0s 25us/sample - loss: 451591.6116 - val_loss: 382219.7244\n",
      "Epoch 356/400\n",
      "4677/4677 [==============================] - 0s 20us/sample - loss: 451604.0218 - val_loss: 382197.8577\n",
      "Epoch 357/400\n",
      "4677/4677 [==============================] - 0s 21us/sample - loss: 451665.0951 - val_loss: 382104.0372\n",
      "Epoch 358/400\n",
      "4677/4677 [==============================] - 0s 20us/sample - loss: 451568.4211 - val_loss: 382524.5369\n",
      "Epoch 359/400\n",
      "4677/4677 [==============================] - 0s 21us/sample - loss: 451639.7437 - val_loss: 382355.6708\n",
      "Epoch 360/400\n",
      "4677/4677 [==============================] - 0s 21us/sample - loss: 451691.3865 - val_loss: 382195.8920\n",
      "Epoch 361/400\n",
      "4677/4677 [==============================] - 0s 21us/sample - loss: 451732.9706 - val_loss: 382331.4013\n",
      "Epoch 362/400\n",
      "4677/4677 [==============================] - 0s 20us/sample - loss: 451742.3842 - val_loss: 382132.8090\n",
      "Epoch 363/400\n",
      "4677/4677 [==============================] - 0s 23us/sample - loss: 451618.8897 - val_loss: 382382.5205\n",
      "Epoch 364/400\n",
      "4677/4677 [==============================] - 0s 22us/sample - loss: 451636.8826 - val_loss: 382395.8599\n",
      "Epoch 365/400\n",
      "4677/4677 [==============================] - 0s 22us/sample - loss: 451677.5953 - val_loss: 382223.9478\n",
      "Epoch 366/400\n",
      "4677/4677 [==============================] - 0s 21us/sample - loss: 451655.5705 - val_loss: 382258.5029\n",
      "Epoch 367/400\n",
      "4677/4677 [==============================] - 0s 20us/sample - loss: 451649.8833 - val_loss: 382307.1894\n",
      "Epoch 368/400\n",
      "4677/4677 [==============================] - 0s 21us/sample - loss: 451679.7009 - val_loss: 382446.5196\n",
      "Epoch 369/400\n",
      "4677/4677 [==============================] - 0s 22us/sample - loss: 451635.4986 - val_loss: 382185.9333\n",
      "Epoch 370/400\n",
      "4677/4677 [==============================] - 0s 19us/sample - loss: 451673.5145 - val_loss: 382326.9349\n",
      "Epoch 371/400\n",
      "4677/4677 [==============================] - 0s 21us/sample - loss: 451663.4495 - val_loss: 382255.4830\n",
      "Epoch 372/400\n",
      "4677/4677 [==============================] - 0s 22us/sample - loss: 451674.6804 - val_loss: 382298.2654\n",
      "Epoch 373/400\n",
      "4677/4677 [==============================] - 0s 21us/sample - loss: 451642.3628 - val_loss: 382387.2465\n",
      "Epoch 374/400\n",
      "4677/4677 [==============================] - 0s 23us/sample - loss: 451647.3391 - val_loss: 382227.4183\n",
      "Epoch 375/400\n",
      "4677/4677 [==============================] - 0s 20us/sample - loss: 451618.6941 - val_loss: 382258.7987\n",
      "Epoch 376/400\n",
      "4677/4677 [==============================] - 0s 20us/sample - loss: 451708.7022 - val_loss: 382166.4628\n",
      "Epoch 377/400\n",
      "4677/4677 [==============================] - 0s 21us/sample - loss: 451664.9429 - val_loss: 382211.1548\n",
      "Epoch 378/400\n",
      "4677/4677 [==============================] - 0s 20us/sample - loss: 451653.1814 - val_loss: 382438.3811\n",
      "Epoch 379/400\n",
      "4677/4677 [==============================] - 0s 21us/sample - loss: 451721.7344 - val_loss: 382183.0324\n",
      "Epoch 380/400\n",
      "4677/4677 [==============================] - 0s 21us/sample - loss: 451641.9235 - val_loss: 382350.9603\n",
      "Epoch 381/400\n",
      "4677/4677 [==============================] - 0s 21us/sample - loss: 451688.7942 - val_loss: 382289.4638\n",
      "Epoch 382/400\n",
      "4677/4677 [==============================] - 0s 21us/sample - loss: 451654.5692 - val_loss: 382422.1465\n",
      "Epoch 383/400\n",
      "4677/4677 [==============================] - 0s 20us/sample - loss: 451638.6501 - val_loss: 382280.6462\n",
      "Epoch 384/400\n",
      "4677/4677 [==============================] - 0s 20us/sample - loss: 451624.3334 - val_loss: 382280.3619\n",
      "Epoch 385/400\n",
      "4677/4677 [==============================] - 0s 24us/sample - loss: 451602.6602 - val_loss: 382294.7144\n",
      "Epoch 386/400\n",
      "4677/4677 [==============================] - 0s 20us/sample - loss: 451701.0946 - val_loss: 382345.2426\n",
      "Epoch 387/400\n",
      "4677/4677 [==============================] - 0s 20us/sample - loss: 451705.2038 - val_loss: 382258.7462\n",
      "Epoch 388/400\n",
      "4677/4677 [==============================] - 0s 21us/sample - loss: 451627.4379 - val_loss: 382237.6679\n",
      "Epoch 389/400\n",
      "4677/4677 [==============================] - 0s 22us/sample - loss: 451690.5899 - val_loss: 382230.7897\n",
      "Epoch 390/400\n",
      "4677/4677 [==============================] - 0s 20us/sample - loss: 451625.9547 - val_loss: 382200.0670\n",
      "Epoch 391/400\n",
      "4677/4677 [==============================] - 0s 20us/sample - loss: 451695.4849 - val_loss: 382331.8548\n",
      "Epoch 392/400\n",
      "4677/4677 [==============================] - 0s 19us/sample - loss: 451623.4359 - val_loss: 382196.0128\n",
      "Epoch 393/400\n",
      "4677/4677 [==============================] - 0s 20us/sample - loss: 451616.1518 - val_loss: 382224.4042\n",
      "Epoch 394/400\n",
      "4677/4677 [==============================] - 0s 21us/sample - loss: 451627.4893 - val_loss: 382144.0978\n",
      "Epoch 395/400\n",
      "4677/4677 [==============================] - 0s 21us/sample - loss: 451710.2613 - val_loss: 382043.8702\n",
      "Epoch 396/400\n",
      "4677/4677 [==============================] - 0s 20us/sample - loss: 451727.6695 - val_loss: 382283.6769\n",
      "Epoch 397/400\n",
      "4677/4677 [==============================] - 0s 20us/sample - loss: 451605.2087 - val_loss: 382187.6830\n",
      "Epoch 398/400\n",
      "4677/4677 [==============================] - 0s 22us/sample - loss: 451637.2088 - val_loss: 382215.4510\n",
      "Epoch 399/400\n",
      "4677/4677 [==============================] - 0s 22us/sample - loss: 451657.4428 - val_loss: 382214.9054\n",
      "Epoch 400/400\n",
      "4677/4677 [==============================] - 0s 20us/sample - loss: 451623.2558 - val_loss: 382251.6013\n"
     ]
    },
    {
     "data": {
      "text/plain": [
       "<tensorflow.python.keras.callbacks.History at 0x24da867e648>"
      ]
     },
     "execution_count": 62,
     "metadata": {},
     "output_type": "execute_result"
    }
   ],
   "source": [
    "dl.fit(x=X_train, y=y_train, validation_data=(X_test, y_test),epochs=400, batch_size=128)"
   ]
  },
  {
   "cell_type": "code",
   "execution_count": 63,
   "metadata": {},
   "outputs": [],
   "source": [
    "y_predict = dl.predict(X_test)"
   ]
  },
  {
   "cell_type": "code",
   "execution_count": 64,
   "metadata": {},
   "outputs": [
    {
     "data": {
      "text/plain": [
       "<matplotlib.axes._subplots.AxesSubplot at 0x24daa68cc48>"
      ]
     },
     "execution_count": 64,
     "metadata": {},
     "output_type": "execute_result"
    },
    {
     "data": {
      "image/png": "[encoded data removed]",
      "text/plain": [
       "<Figure size 432x288 with 1 Axes>"
      ]
     },
     "metadata": {
      "needs_background": "light"
     },
     "output_type": "display_data"
    }
   ],
   "source": [
    "sns.distplot((y_predict-y_test))"
   ]
  },
  {
   "cell_type": "code",
   "execution_count": 65,
   "metadata": {},
   "outputs": [
    {
     "data": {
      "text/plain": [
       "0.06027859479769426"
      ]
     },
     "execution_count": 65,
     "metadata": {},
     "output_type": "execute_result"
    }
   ],
   "source": [
    "r2=r2_score(y_test, y_predict)\n",
    "r2"
   ]
  },
  {
   "cell_type": "code",
   "execution_count": 66,
   "metadata": {},
   "outputs": [
    {
     "data": {
      "text/plain": [
       "336.8702356403058"
      ]
     },
     "execution_count": 66,
     "metadata": {},
     "output_type": "execute_result"
    }
   ],
   "source": [
    "mean_absolute_error(y_test, y_predict)"
   ]
  },
  {
   "cell_type": "code",
   "execution_count": 67,
   "metadata": {},
   "outputs": [],
   "source": [
    "#y_predict=model.predict(test)"
   ]
  },
  {
   "cell_type": "code",
   "execution_count": 68,
   "metadata": {},
   "outputs": [],
   "source": [
    "#y_predict.shape"
   ]
  },
  {
   "cell_type": "code",
   "execution_count": 69,
   "metadata": {},
   "outputs": [],
   "source": [
    "#y_predict"
   ]
  },
  {
   "cell_type": "code",
   "execution_count": 70,
   "metadata": {},
   "outputs": [],
   "source": [
    "#predict=pd.DataFrame(data=y_predict)"
   ]
  },
  {
   "cell_type": "code",
   "execution_count": 71,
   "metadata": {},
   "outputs": [],
   "source": [
    "#predict.head()"
   ]
  },
  {
   "cell_type": "code",
   "execution_count": 72,
   "metadata": {},
   "outputs": [],
   "source": [
    "#predict.to_csv('solution1.csv',index=False)"
   ]
  },
  {
   "cell_type": "code",
   "execution_count": null,
   "metadata": {},
   "outputs": [],
   "source": []
  }
 ],
 "metadata": {
  "kernelspec": {
   "display_name": "Python 3",
   "language": "python",
   "name": "python3"
  },
  "language_info": {
   "codemirror_mode": {
    "name": "ipython",
    "version": 3
   },
   "file_extension": ".py",
   "mimetype": "text/x-python",
   "name": "python",
   "nbconvert_exporter": "python",
   "pygments_lexer": "ipython3",
   "version": "3.7.6"
  }
 },
 "nbformat": 4,
 "nbformat_minor": 4
}
