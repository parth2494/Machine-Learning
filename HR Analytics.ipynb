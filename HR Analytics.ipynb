{
 "cells": [
  {
   "cell_type": "code",
   "execution_count": 1,
   "metadata": {},
   "outputs": [],
   "source": [
    "import pandas as pd\n",
    "from pandas_profiling import ProfileReport\n",
    "import numpy as np\n",
    "import seaborn as sns\n",
    "import matplotlib.pyplot as plt\n",
    "from matplotlib.colors import ListedColormap\n",
    "from sklearn.preprocessing import StandardScaler\n",
    "from sklearn.model_selection import train_test_split, GridSearchCV\n",
    "from sklearn.linear_model import LogisticRegression\n",
    "from sklearn.metrics import classification_report, confusion_matrix\n",
    "from sklearn.ensemble import RandomForestClassifier"
   ]
  },
  {
   "cell_type": "code",
   "execution_count": 2,
   "metadata": {},
   "outputs": [],
   "source": [
    "df=pd.read_csv(\"train.csv\")\n",
    "test=pd.read_csv('test.csv')"
   ]
  },
  {
   "cell_type": "code",
   "execution_count": 3,
   "metadata": {},
   "outputs": [
    {
     "name": "stdout",
     "output_type": "stream",
     "text": [
      "<class 'pandas.core.frame.DataFrame'>\n",
      "RangeIndex: 54808 entries, 0 to 54807\n",
      "Data columns (total 14 columns):\n",
      " #   Column                Non-Null Count  Dtype  \n",
      "---  ------                --------------  -----  \n",
      " 0   employee_id           54808 non-null  int64  \n",
      " 1   department            54808 non-null  object \n",
      " 2   region                54808 non-null  object \n",
      " 3   education             52399 non-null  object \n",
      " 4   gender                54808 non-null  object \n",
      " 5   recruitment_channel   54808 non-null  object \n",
      " 6   no_of_trainings       54808 non-null  int64  \n",
      " 7   age                   54808 non-null  int64  \n",
      " 8   previous_year_rating  50684 non-null  float64\n",
      " 9   length_of_service     54808 non-null  int64  \n",
      " 10  KPIs_met >80%         54808 non-null  int64  \n",
      " 11  awards_won?           54808 non-null  int64  \n",
      " 12  avg_training_score    54808 non-null  int64  \n",
      " 13  is_promoted           54808 non-null  int64  \n",
      "dtypes: float64(1), int64(8), object(5)\n",
      "memory usage: 5.9+ MB\n"
     ]
    }
   ],
   "source": [
    "df.info()"
   ]
  },
  {
   "cell_type": "code",
   "execution_count": 4,
   "metadata": {},
   "outputs": [
    {
     "data": {
      "text/html": [
       "<div>\n",
       "<style scoped>\n",
       "    .dataframe tbody tr th:only-of-type {\n",
       "        vertical-align: middle;\n",
       "    }\n",
       "\n",
       "    .dataframe tbody tr th {\n",
       "        vertical-align: top;\n",
       "    }\n",
       "\n",
       "    .dataframe thead th {\n",
       "        text-align: right;\n",
       "    }\n",
       "</style>\n",
       "<table border=\"1\" class=\"dataframe\">\n",
       "  <thead>\n",
       "    <tr style=\"text-align: right;\">\n",
       "      <th></th>\n",
       "      <th>employee_id</th>\n",
       "      <th>no_of_trainings</th>\n",
       "      <th>age</th>\n",
       "      <th>previous_year_rating</th>\n",
       "      <th>length_of_service</th>\n",
       "      <th>KPIs_met &gt;80%</th>\n",
       "      <th>awards_won?</th>\n",
       "      <th>avg_training_score</th>\n",
       "      <th>is_promoted</th>\n",
       "    </tr>\n",
       "  </thead>\n",
       "  <tbody>\n",
       "    <tr>\n",
       "      <th>count</th>\n",
       "      <td>54808.000000</td>\n",
       "      <td>54808.000000</td>\n",
       "      <td>54808.000000</td>\n",
       "      <td>50684.000000</td>\n",
       "      <td>54808.000000</td>\n",
       "      <td>54808.000000</td>\n",
       "      <td>54808.000000</td>\n",
       "      <td>54808.000000</td>\n",
       "      <td>54808.000000</td>\n",
       "    </tr>\n",
       "    <tr>\n",
       "      <th>mean</th>\n",
       "      <td>39195.830627</td>\n",
       "      <td>1.253011</td>\n",
       "      <td>34.803915</td>\n",
       "      <td>3.329256</td>\n",
       "      <td>5.865512</td>\n",
       "      <td>0.351974</td>\n",
       "      <td>0.023172</td>\n",
       "      <td>63.386750</td>\n",
       "      <td>0.085170</td>\n",
       "    </tr>\n",
       "    <tr>\n",
       "      <th>std</th>\n",
       "      <td>22586.581449</td>\n",
       "      <td>0.609264</td>\n",
       "      <td>7.660169</td>\n",
       "      <td>1.259993</td>\n",
       "      <td>4.265094</td>\n",
       "      <td>0.477590</td>\n",
       "      <td>0.150450</td>\n",
       "      <td>13.371559</td>\n",
       "      <td>0.279137</td>\n",
       "    </tr>\n",
       "    <tr>\n",
       "      <th>min</th>\n",
       "      <td>1.000000</td>\n",
       "      <td>1.000000</td>\n",
       "      <td>20.000000</td>\n",
       "      <td>1.000000</td>\n",
       "      <td>1.000000</td>\n",
       "      <td>0.000000</td>\n",
       "      <td>0.000000</td>\n",
       "      <td>39.000000</td>\n",
       "      <td>0.000000</td>\n",
       "    </tr>\n",
       "    <tr>\n",
       "      <th>25%</th>\n",
       "      <td>19669.750000</td>\n",
       "      <td>1.000000</td>\n",
       "      <td>29.000000</td>\n",
       "      <td>3.000000</td>\n",
       "      <td>3.000000</td>\n",
       "      <td>0.000000</td>\n",
       "      <td>0.000000</td>\n",
       "      <td>51.000000</td>\n",
       "      <td>0.000000</td>\n",
       "    </tr>\n",
       "    <tr>\n",
       "      <th>50%</th>\n",
       "      <td>39225.500000</td>\n",
       "      <td>1.000000</td>\n",
       "      <td>33.000000</td>\n",
       "      <td>3.000000</td>\n",
       "      <td>5.000000</td>\n",
       "      <td>0.000000</td>\n",
       "      <td>0.000000</td>\n",
       "      <td>60.000000</td>\n",
       "      <td>0.000000</td>\n",
       "    </tr>\n",
       "    <tr>\n",
       "      <th>75%</th>\n",
       "      <td>58730.500000</td>\n",
       "      <td>1.000000</td>\n",
       "      <td>39.000000</td>\n",
       "      <td>4.000000</td>\n",
       "      <td>7.000000</td>\n",
       "      <td>1.000000</td>\n",
       "      <td>0.000000</td>\n",
       "      <td>76.000000</td>\n",
       "      <td>0.000000</td>\n",
       "    </tr>\n",
       "    <tr>\n",
       "      <th>max</th>\n",
       "      <td>78298.000000</td>\n",
       "      <td>10.000000</td>\n",
       "      <td>60.000000</td>\n",
       "      <td>5.000000</td>\n",
       "      <td>37.000000</td>\n",
       "      <td>1.000000</td>\n",
       "      <td>1.000000</td>\n",
       "      <td>99.000000</td>\n",
       "      <td>1.000000</td>\n",
       "    </tr>\n",
       "  </tbody>\n",
       "</table>\n",
       "</div>"
      ],
      "text/plain": [
       "        employee_id  no_of_trainings           age  previous_year_rating  \\\n",
       "count  54808.000000     54808.000000  54808.000000          50684.000000   \n",
       "mean   39195.830627         1.253011     34.803915              3.329256   \n",
       "std    22586.581449         0.609264      7.660169              1.259993   \n",
       "min        1.000000         1.000000     20.000000              1.000000   \n",
       "25%    19669.750000         1.000000     29.000000              3.000000   \n",
       "50%    39225.500000         1.000000     33.000000              3.000000   \n",
       "75%    58730.500000         1.000000     39.000000              4.000000   \n",
       "max    78298.000000        10.000000     60.000000              5.000000   \n",
       "\n",
       "       length_of_service  KPIs_met >80%   awards_won?  avg_training_score  \\\n",
       "count       54808.000000   54808.000000  54808.000000        54808.000000   \n",
       "mean            5.865512       0.351974      0.023172           63.386750   \n",
       "std             4.265094       0.477590      0.150450           13.371559   \n",
       "min             1.000000       0.000000      0.000000           39.000000   \n",
       "25%             3.000000       0.000000      0.000000           51.000000   \n",
       "50%             5.000000       0.000000      0.000000           60.000000   \n",
       "75%             7.000000       1.000000      0.000000           76.000000   \n",
       "max            37.000000       1.000000      1.000000           99.000000   \n",
       "\n",
       "        is_promoted  \n",
       "count  54808.000000  \n",
       "mean       0.085170  \n",
       "std        0.279137  \n",
       "min        0.000000  \n",
       "25%        0.000000  \n",
       "50%        0.000000  \n",
       "75%        0.000000  \n",
       "max        1.000000  "
      ]
     },
     "execution_count": 4,
     "metadata": {},
     "output_type": "execute_result"
    }
   ],
   "source": [
    "df.describe()"
   ]
  },
  {
   "cell_type": "code",
   "execution_count": 5,
   "metadata": {},
   "outputs": [],
   "source": [
    "df.dropna(inplace=True)"
   ]
  },
  {
   "cell_type": "code",
   "execution_count": 6,
   "metadata": {},
   "outputs": [
    {
     "name": "stdout",
     "output_type": "stream",
     "text": [
      "<class 'pandas.core.frame.DataFrame'>\n",
      "Int64Index: 48660 entries, 0 to 54807\n",
      "Data columns (total 14 columns):\n",
      " #   Column                Non-Null Count  Dtype  \n",
      "---  ------                --------------  -----  \n",
      " 0   employee_id           48660 non-null  int64  \n",
      " 1   department            48660 non-null  object \n",
      " 2   region                48660 non-null  object \n",
      " 3   education             48660 non-null  object \n",
      " 4   gender                48660 non-null  object \n",
      " 5   recruitment_channel   48660 non-null  object \n",
      " 6   no_of_trainings       48660 non-null  int64  \n",
      " 7   age                   48660 non-null  int64  \n",
      " 8   previous_year_rating  48660 non-null  float64\n",
      " 9   length_of_service     48660 non-null  int64  \n",
      " 10  KPIs_met >80%         48660 non-null  int64  \n",
      " 11  awards_won?           48660 non-null  int64  \n",
      " 12  avg_training_score    48660 non-null  int64  \n",
      " 13  is_promoted           48660 non-null  int64  \n",
      "dtypes: float64(1), int64(8), object(5)\n",
      "memory usage: 5.6+ MB\n"
     ]
    }
   ],
   "source": [
    "df.info()"
   ]
  },
  {
   "cell_type": "code",
   "execution_count": 7,
   "metadata": {},
   "outputs": [],
   "source": [
    "male=pd.get_dummies(df['gender'],drop_first=True)"
   ]
  },
  {
   "cell_type": "code",
   "execution_count": 8,
   "metadata": {},
   "outputs": [],
   "source": [
    "df.drop(['gender'],axis=1,inplace=True)"
   ]
  },
  {
   "cell_type": "code",
   "execution_count": 9,
   "metadata": {},
   "outputs": [],
   "source": [
    "df=pd.concat([df,male],axis=1)"
   ]
  },
  {
   "cell_type": "code",
   "execution_count": 10,
   "metadata": {},
   "outputs": [],
   "source": [
    "df.drop(['employee_id','department','region','recruitment_channel'],axis=1,inplace=True)"
   ]
  },
  {
   "cell_type": "code",
   "execution_count": 11,
   "metadata": {},
   "outputs": [],
   "source": [
    "df.replace(to_replace=[\"Bachelor's\"],value=1,inplace=True)\n",
    "df.replace(to_replace=['Below Secondary'],value=2,inplace=True)\n",
    "df.replace(to_replace=[\"Master's & above\"],value=3,inplace=True)"
   ]
  },
  {
   "cell_type": "code",
   "execution_count": 12,
   "metadata": {},
   "outputs": [
    {
     "name": "stdout",
     "output_type": "stream",
     "text": [
      "<class 'pandas.core.frame.DataFrame'>\n",
      "Int64Index: 48660 entries, 0 to 54807\n",
      "Data columns (total 10 columns):\n",
      " #   Column                Non-Null Count  Dtype  \n",
      "---  ------                --------------  -----  \n",
      " 0   education             48660 non-null  int64  \n",
      " 1   no_of_trainings       48660 non-null  int64  \n",
      " 2   age                   48660 non-null  int64  \n",
      " 3   previous_year_rating  48660 non-null  float64\n",
      " 4   length_of_service     48660 non-null  int64  \n",
      " 5   KPIs_met >80%         48660 non-null  int64  \n",
      " 6   awards_won?           48660 non-null  int64  \n",
      " 7   avg_training_score    48660 non-null  int64  \n",
      " 8   is_promoted           48660 non-null  int64  \n",
      " 9   m                     48660 non-null  uint8  \n",
      "dtypes: float64(1), int64(8), uint8(1)\n",
      "memory usage: 3.8 MB\n"
     ]
    }
   ],
   "source": [
    "df.info()"
   ]
  },
  {
   "cell_type": "code",
   "execution_count": 13,
   "metadata": {},
   "outputs": [
    {
     "name": "stdout",
     "output_type": "stream",
     "text": [
      "<class 'pandas.core.frame.DataFrame'>\n",
      "RangeIndex: 23490 entries, 0 to 23489\n",
      "Data columns (total 13 columns):\n",
      " #   Column                Non-Null Count  Dtype  \n",
      "---  ------                --------------  -----  \n",
      " 0   employee_id           23490 non-null  int64  \n",
      " 1   department            23490 non-null  object \n",
      " 2   region                23490 non-null  object \n",
      " 3   education             22456 non-null  object \n",
      " 4   gender                23490 non-null  object \n",
      " 5   recruitment_channel   23490 non-null  object \n",
      " 6   no_of_trainings       23490 non-null  int64  \n",
      " 7   age                   23490 non-null  int64  \n",
      " 8   previous_year_rating  21678 non-null  float64\n",
      " 9   length_of_service     23490 non-null  int64  \n",
      " 10  KPIs_met >80%         23490 non-null  int64  \n",
      " 11  awards_won?           23490 non-null  int64  \n",
      " 12  avg_training_score    23490 non-null  int64  \n",
      "dtypes: float64(1), int64(7), object(5)\n",
      "memory usage: 2.3+ MB\n"
     ]
    }
   ],
   "source": [
    "test.info()"
   ]
  },
  {
   "cell_type": "code",
   "execution_count": 14,
   "metadata": {},
   "outputs": [],
   "source": [
    "male=pd.get_dummies(test['gender'],drop_first=True)"
   ]
  },
  {
   "cell_type": "code",
   "execution_count": 15,
   "metadata": {},
   "outputs": [],
   "source": [
    "test.drop(['gender'],axis=1,inplace=True)"
   ]
  },
  {
   "cell_type": "code",
   "execution_count": 16,
   "metadata": {},
   "outputs": [],
   "source": [
    "test=pd.concat([test,male],axis=1)"
   ]
  },
  {
   "cell_type": "code",
   "execution_count": 17,
   "metadata": {},
   "outputs": [],
   "source": [
    "test.drop(['employee_id','department','region','recruitment_channel'],axis=1,inplace=True)"
   ]
  },
  {
   "cell_type": "code",
   "execution_count": 18,
   "metadata": {},
   "outputs": [],
   "source": [
    "test.replace(to_replace=[\"Bachelor's\"],value=1,inplace=True)\n",
    "test.replace(to_replace=['Below Secondary'],value=2,inplace=True)\n",
    "test.replace(to_replace=[\"Master's & above\"],value=3,inplace=True)"
   ]
  },
  {
   "cell_type": "code",
   "execution_count": 19,
   "metadata": {},
   "outputs": [
    {
     "data": {
      "text/plain": [
       "0    1.0\n",
       "dtype: float64"
      ]
     },
     "execution_count": 19,
     "metadata": {},
     "output_type": "execute_result"
    }
   ],
   "source": [
    "test['education'].mode()"
   ]
  },
  {
   "cell_type": "code",
   "execution_count": 20,
   "metadata": {},
   "outputs": [
    {
     "data": {
      "text/plain": [
       "0    3.0\n",
       "dtype: float64"
      ]
     },
     "execution_count": 20,
     "metadata": {},
     "output_type": "execute_result"
    }
   ],
   "source": [
    "test['previous_year_rating'].mode()"
   ]
  },
  {
   "cell_type": "code",
   "execution_count": 21,
   "metadata": {},
   "outputs": [],
   "source": [
    "test['previous_year_rating'].replace(np.nan,3,inplace=True)\n",
    "test['education'].replace(np.nan,1,inplace=True)"
   ]
  },
  {
   "cell_type": "code",
   "execution_count": 22,
   "metadata": {},
   "outputs": [
    {
     "name": "stdout",
     "output_type": "stream",
     "text": [
      "<class 'pandas.core.frame.DataFrame'>\n",
      "RangeIndex: 23490 entries, 0 to 23489\n",
      "Data columns (total 9 columns):\n",
      " #   Column                Non-Null Count  Dtype  \n",
      "---  ------                --------------  -----  \n",
      " 0   education             23490 non-null  float64\n",
      " 1   no_of_trainings       23490 non-null  int64  \n",
      " 2   age                   23490 non-null  int64  \n",
      " 3   previous_year_rating  23490 non-null  float64\n",
      " 4   length_of_service     23490 non-null  int64  \n",
      " 5   KPIs_met >80%         23490 non-null  int64  \n",
      " 6   awards_won?           23490 non-null  int64  \n",
      " 7   avg_training_score    23490 non-null  int64  \n",
      " 8   m                     23490 non-null  uint8  \n",
      "dtypes: float64(2), int64(6), uint8(1)\n",
      "memory usage: 1.5 MB\n"
     ]
    }
   ],
   "source": [
    "test.info()"
   ]
  },
  {
   "cell_type": "code",
   "execution_count": 23,
   "metadata": {},
   "outputs": [
    {
     "data": {
      "text/html": [
       "<div>\n",
       "<style scoped>\n",
       "    .dataframe tbody tr th:only-of-type {\n",
       "        vertical-align: middle;\n",
       "    }\n",
       "\n",
       "    .dataframe tbody tr th {\n",
       "        vertical-align: top;\n",
       "    }\n",
       "\n",
       "    .dataframe thead th {\n",
       "        text-align: right;\n",
       "    }\n",
       "</style>\n",
       "<table border=\"1\" class=\"dataframe\">\n",
       "  <thead>\n",
       "    <tr style=\"text-align: right;\">\n",
       "      <th></th>\n",
       "      <th>education</th>\n",
       "      <th>no_of_trainings</th>\n",
       "      <th>age</th>\n",
       "      <th>previous_year_rating</th>\n",
       "      <th>length_of_service</th>\n",
       "      <th>KPIs_met &gt;80%</th>\n",
       "      <th>awards_won?</th>\n",
       "      <th>avg_training_score</th>\n",
       "      <th>is_promoted</th>\n",
       "      <th>m</th>\n",
       "    </tr>\n",
       "  </thead>\n",
       "  <tbody>\n",
       "    <tr>\n",
       "      <th>0</th>\n",
       "      <td>3</td>\n",
       "      <td>1</td>\n",
       "      <td>35</td>\n",
       "      <td>5.0</td>\n",
       "      <td>8</td>\n",
       "      <td>1</td>\n",
       "      <td>0</td>\n",
       "      <td>49</td>\n",
       "      <td>0</td>\n",
       "      <td>0</td>\n",
       "    </tr>\n",
       "    <tr>\n",
       "      <th>1</th>\n",
       "      <td>1</td>\n",
       "      <td>1</td>\n",
       "      <td>30</td>\n",
       "      <td>5.0</td>\n",
       "      <td>4</td>\n",
       "      <td>0</td>\n",
       "      <td>0</td>\n",
       "      <td>60</td>\n",
       "      <td>0</td>\n",
       "      <td>1</td>\n",
       "    </tr>\n",
       "    <tr>\n",
       "      <th>2</th>\n",
       "      <td>1</td>\n",
       "      <td>1</td>\n",
       "      <td>34</td>\n",
       "      <td>3.0</td>\n",
       "      <td>7</td>\n",
       "      <td>0</td>\n",
       "      <td>0</td>\n",
       "      <td>50</td>\n",
       "      <td>0</td>\n",
       "      <td>1</td>\n",
       "    </tr>\n",
       "    <tr>\n",
       "      <th>3</th>\n",
       "      <td>1</td>\n",
       "      <td>2</td>\n",
       "      <td>39</td>\n",
       "      <td>1.0</td>\n",
       "      <td>10</td>\n",
       "      <td>0</td>\n",
       "      <td>0</td>\n",
       "      <td>50</td>\n",
       "      <td>0</td>\n",
       "      <td>1</td>\n",
       "    </tr>\n",
       "    <tr>\n",
       "      <th>4</th>\n",
       "      <td>1</td>\n",
       "      <td>1</td>\n",
       "      <td>45</td>\n",
       "      <td>3.0</td>\n",
       "      <td>2</td>\n",
       "      <td>0</td>\n",
       "      <td>0</td>\n",
       "      <td>73</td>\n",
       "      <td>0</td>\n",
       "      <td>1</td>\n",
       "    </tr>\n",
       "  </tbody>\n",
       "</table>\n",
       "</div>"
      ],
      "text/plain": [
       "   education  no_of_trainings  age  previous_year_rating  length_of_service  \\\n",
       "0          3                1   35                   5.0                  8   \n",
       "1          1                1   30                   5.0                  4   \n",
       "2          1                1   34                   3.0                  7   \n",
       "3          1                2   39                   1.0                 10   \n",
       "4          1                1   45                   3.0                  2   \n",
       "\n",
       "   KPIs_met >80%  awards_won?  avg_training_score  is_promoted  m  \n",
       "0              1            0                  49            0  0  \n",
       "1              0            0                  60            0  1  \n",
       "2              0            0                  50            0  1  \n",
       "3              0            0                  50            0  1  \n",
       "4              0            0                  73            0  1  "
      ]
     },
     "execution_count": 23,
     "metadata": {},
     "output_type": "execute_result"
    }
   ],
   "source": [
    "df.head()"
   ]
  },
  {
   "cell_type": "code",
   "execution_count": 24,
   "metadata": {},
   "outputs": [
    {
     "data": {
      "text/html": [
       "<div>\n",
       "<style scoped>\n",
       "    .dataframe tbody tr th:only-of-type {\n",
       "        vertical-align: middle;\n",
       "    }\n",
       "\n",
       "    .dataframe tbody tr th {\n",
       "        vertical-align: top;\n",
       "    }\n",
       "\n",
       "    .dataframe thead th {\n",
       "        text-align: right;\n",
       "    }\n",
       "</style>\n",
       "<table border=\"1\" class=\"dataframe\">\n",
       "  <thead>\n",
       "    <tr style=\"text-align: right;\">\n",
       "      <th></th>\n",
       "      <th>education</th>\n",
       "      <th>no_of_trainings</th>\n",
       "      <th>age</th>\n",
       "      <th>previous_year_rating</th>\n",
       "      <th>length_of_service</th>\n",
       "      <th>KPIs_met &gt;80%</th>\n",
       "      <th>awards_won?</th>\n",
       "      <th>avg_training_score</th>\n",
       "      <th>m</th>\n",
       "    </tr>\n",
       "  </thead>\n",
       "  <tbody>\n",
       "    <tr>\n",
       "      <th>0</th>\n",
       "      <td>1.0</td>\n",
       "      <td>1</td>\n",
       "      <td>24</td>\n",
       "      <td>3.0</td>\n",
       "      <td>1</td>\n",
       "      <td>1</td>\n",
       "      <td>0</td>\n",
       "      <td>77</td>\n",
       "      <td>1</td>\n",
       "    </tr>\n",
       "    <tr>\n",
       "      <th>1</th>\n",
       "      <td>1.0</td>\n",
       "      <td>1</td>\n",
       "      <td>31</td>\n",
       "      <td>3.0</td>\n",
       "      <td>5</td>\n",
       "      <td>0</td>\n",
       "      <td>0</td>\n",
       "      <td>51</td>\n",
       "      <td>0</td>\n",
       "    </tr>\n",
       "    <tr>\n",
       "      <th>2</th>\n",
       "      <td>1.0</td>\n",
       "      <td>1</td>\n",
       "      <td>31</td>\n",
       "      <td>1.0</td>\n",
       "      <td>4</td>\n",
       "      <td>0</td>\n",
       "      <td>0</td>\n",
       "      <td>47</td>\n",
       "      <td>1</td>\n",
       "    </tr>\n",
       "    <tr>\n",
       "      <th>3</th>\n",
       "      <td>1.0</td>\n",
       "      <td>3</td>\n",
       "      <td>31</td>\n",
       "      <td>2.0</td>\n",
       "      <td>9</td>\n",
       "      <td>0</td>\n",
       "      <td>0</td>\n",
       "      <td>65</td>\n",
       "      <td>0</td>\n",
       "    </tr>\n",
       "    <tr>\n",
       "      <th>4</th>\n",
       "      <td>1.0</td>\n",
       "      <td>1</td>\n",
       "      <td>30</td>\n",
       "      <td>4.0</td>\n",
       "      <td>7</td>\n",
       "      <td>0</td>\n",
       "      <td>0</td>\n",
       "      <td>61</td>\n",
       "      <td>1</td>\n",
       "    </tr>\n",
       "  </tbody>\n",
       "</table>\n",
       "</div>"
      ],
      "text/plain": [
       "   education  no_of_trainings  age  previous_year_rating  length_of_service  \\\n",
       "0        1.0                1   24                   3.0                  1   \n",
       "1        1.0                1   31                   3.0                  5   \n",
       "2        1.0                1   31                   1.0                  4   \n",
       "3        1.0                3   31                   2.0                  9   \n",
       "4        1.0                1   30                   4.0                  7   \n",
       "\n",
       "   KPIs_met >80%  awards_won?  avg_training_score  m  \n",
       "0              1            0                  77  1  \n",
       "1              0            0                  51  0  \n",
       "2              0            0                  47  1  \n",
       "3              0            0                  65  0  \n",
       "4              0            0                  61  1  "
      ]
     },
     "execution_count": 24,
     "metadata": {},
     "output_type": "execute_result"
    }
   ],
   "source": [
    "test.head()"
   ]
  },
  {
   "cell_type": "code",
   "execution_count": 25,
   "metadata": {},
   "outputs": [],
   "source": [
    "X=df.drop(['is_promoted'], axis=1).values\n",
    "y=df['is_promoted'].values"
   ]
  },
  {
   "cell_type": "code",
   "execution_count": 26,
   "metadata": {},
   "outputs": [],
   "source": [
    "X_train, X_test, y_train, y_test=train_test_split(X,y,test_size=0.2, random_state=10)"
   ]
  },
  {
   "cell_type": "code",
   "execution_count": 27,
   "metadata": {},
   "outputs": [
    {
     "name": "stderr",
     "output_type": "stream",
     "text": [
      "c:\\users\\hp\\appdata\\local\\programs\\python\\python37\\lib\\site-packages\\sklearn\\linear_model\\_logistic.py:764: ConvergenceWarning: lbfgs failed to converge (status=1):\n",
      "STOP: TOTAL NO. of ITERATIONS REACHED LIMIT.\n",
      "\n",
      "Increase the number of iterations (max_iter) or scale the data as shown in:\n",
      "    https://scikit-learn.org/stable/modules/preprocessing.html\n",
      "Please also refer to the documentation for alternative solver options:\n",
      "    https://scikit-learn.org/stable/modules/linear_model.html#logistic-regression\n",
      "  extra_warning_msg=_LOGISTIC_SOLVER_CONVERGENCE_MSG)\n"
     ]
    },
    {
     "data": {
      "text/plain": [
       "LogisticRegression(random_state=0)"
      ]
     },
     "execution_count": 27,
     "metadata": {},
     "output_type": "execute_result"
    }
   ],
   "source": [
    "# Logestic\n",
    "log_reg=LogisticRegression(random_state=0)\n",
    "log_reg.fit(X_train, y_train)"
   ]
  },
  {
   "cell_type": "code",
   "execution_count": 28,
   "metadata": {},
   "outputs": [],
   "source": [
    "y_predict_train=log_reg.predict(X_train)"
   ]
  },
  {
   "cell_type": "code",
   "execution_count": 29,
   "metadata": {},
   "outputs": [],
   "source": [
    "cm=confusion_matrix(y_train, y_predict_train)"
   ]
  },
  {
   "cell_type": "code",
   "execution_count": 30,
   "metadata": {},
   "outputs": [
    {
     "data": {
      "text/plain": [
       "<matplotlib.axes._subplots.AxesSubplot at 0x2adbfa34888>"
      ]
     },
     "execution_count": 30,
     "metadata": {},
     "output_type": "execute_result"
    },
    {
     "data": {
      "image/png": "[encoded data removed]",
      "text/plain": [
       "<Figure size 576x396 with 2 Axes>"
      ]
     },
     "metadata": {},
     "output_type": "display_data"
    }
   ],
   "source": [
    "sns.heatmap(cm, annot=True, fmt='d')"
   ]
  },
  {
   "cell_type": "code",
   "execution_count": 31,
   "metadata": {},
   "outputs": [
    {
     "name": "stdout",
     "output_type": "stream",
     "text": [
      "              precision    recall  f1-score   support\n",
      "\n",
      "           0       0.92      0.99      0.95     35559\n",
      "           1       0.49      0.09      0.15      3369\n",
      "\n",
      "    accuracy                           0.91     38928\n",
      "   macro avg       0.71      0.54      0.55     38928\n",
      "weighted avg       0.88      0.91      0.88     38928\n",
      "\n"
     ]
    }
   ],
   "source": [
    "print(classification_report(y_train, y_predict_train))"
   ]
  },
  {
   "cell_type": "code",
   "execution_count": 32,
   "metadata": {},
   "outputs": [],
   "source": [
    "y_predict=log_reg.predict(X_test)"
   ]
  },
  {
   "cell_type": "code",
   "execution_count": 33,
   "metadata": {},
   "outputs": [],
   "source": [
    "cm=confusion_matrix(y_test, y_predict)"
   ]
  },
  {
   "cell_type": "code",
   "execution_count": 34,
   "metadata": {},
   "outputs": [
    {
     "data": {
      "text/plain": [
       "<matplotlib.axes._subplots.AxesSubplot at 0x2adbf8efb08>"
      ]
     },
     "execution_count": 34,
     "metadata": {},
     "output_type": "execute_result"
    },
    {
     "data": {
      "image/png": "[encoded data removed]",
      "text/plain": [
       "<Figure size 576x396 with 2 Axes>"
      ]
     },
     "metadata": {},
     "output_type": "display_data"
    }
   ],
   "source": [
    "sns.heatmap(cm, annot=True, fmt='d')"
   ]
  },
  {
   "cell_type": "code",
   "execution_count": 35,
   "metadata": {},
   "outputs": [
    {
     "name": "stdout",
     "output_type": "stream",
     "text": [
      "              precision    recall  f1-score   support\n",
      "\n",
      "           0       0.92      0.99      0.95      8869\n",
      "           1       0.53      0.09      0.15       863\n",
      "\n",
      "    accuracy                           0.91      9732\n",
      "   macro avg       0.72      0.54      0.55      9732\n",
      "weighted avg       0.88      0.91      0.88      9732\n",
      "\n"
     ]
    }
   ],
   "source": [
    "print(classification_report(y_test, y_predict))"
   ]
  },
  {
   "cell_type": "code",
   "execution_count": 36,
   "metadata": {},
   "outputs": [],
   "source": [
    "# Grid Search\n",
    "param_grid={\n",
    "    'penalty':['l2'],\n",
    "    'C':np.logspace(-4,4,20),\n",
    "    'solver':['liblinear', 'newton-cg','sag', 'saga']\n",
    "}"
   ]
  },
  {
   "cell_type": "code",
   "execution_count": 37,
   "metadata": {},
   "outputs": [],
   "source": [
    "clf=GridSearchCV(log_reg, param_grid=param_grid, cv=10, verbose=True, n_jobs=-1)"
   ]
  },
  {
   "cell_type": "code",
   "execution_count": 38,
   "metadata": {},
   "outputs": [
    {
     "name": "stdout",
     "output_type": "stream",
     "text": [
      "Fitting 10 folds for each of 80 candidates, totalling 800 fits\n"
     ]
    },
    {
     "name": "stderr",
     "output_type": "stream",
     "text": [
      "[Parallel(n_jobs=-1)]: Using backend LokyBackend with 4 concurrent workers.\n",
      "[Parallel(n_jobs=-1)]: Done  42 tasks      | elapsed:   21.4s\n",
      "[Parallel(n_jobs=-1)]: Done 192 tasks      | elapsed:  1.6min\n",
      "[Parallel(n_jobs=-1)]: Done 442 tasks      | elapsed:  3.9min\n",
      "[Parallel(n_jobs=-1)]: Done 792 tasks      | elapsed:  7.2min\n",
      "[Parallel(n_jobs=-1)]: Done 800 out of 800 | elapsed:  7.3min finished\n"
     ]
    }
   ],
   "source": [
    "best_clf=clf.fit(X_train, y_train)"
   ]
  },
  {
   "cell_type": "code",
   "execution_count": 39,
   "metadata": {},
   "outputs": [
    {
     "name": "stdout",
     "output_type": "stream",
     "text": [
      "{'C': 0.03359818286283781, 'penalty': 'l2', 'solver': 'newton-cg'}\n"
     ]
    }
   ],
   "source": [
    "print(best_clf.best_params_)"
   ]
  },
  {
   "cell_type": "code",
   "execution_count": 40,
   "metadata": {},
   "outputs": [],
   "source": [
    "y_predict=best_clf.predict(X_test)"
   ]
  },
  {
   "cell_type": "code",
   "execution_count": 41,
   "metadata": {},
   "outputs": [],
   "source": [
    "cm=confusion_matrix(y_test, y_predict)"
   ]
  },
  {
   "cell_type": "code",
   "execution_count": 42,
   "metadata": {},
   "outputs": [
    {
     "data": {
      "text/plain": [
       "<matplotlib.axes._subplots.AxesSubplot at 0x2adbf9abb48>"
      ]
     },
     "execution_count": 42,
     "metadata": {},
     "output_type": "execute_result"
    },
    {
     "data": {
      "image/png": "[encoded data removed]",
      "text/plain": [
       "<Figure size 576x396 with 2 Axes>"
      ]
     },
     "metadata": {},
     "output_type": "display_data"
    }
   ],
   "source": [
    "sns.heatmap(cm,annot=True,fmt='d')"
   ]
  },
  {
   "cell_type": "code",
   "execution_count": 43,
   "metadata": {},
   "outputs": [
    {
     "name": "stdout",
     "output_type": "stream",
     "text": [
      "              precision    recall  f1-score   support\n",
      "\n",
      "           0       0.92      1.00      0.95      8869\n",
      "           1       0.62      0.05      0.09       863\n",
      "\n",
      "    accuracy                           0.91      9732\n",
      "   macro avg       0.77      0.52      0.52      9732\n",
      "weighted avg       0.89      0.91      0.88      9732\n",
      "\n"
     ]
    }
   ],
   "source": [
    "print(classification_report(y_test, y_predict))"
   ]
  },
  {
   "cell_type": "markdown",
   "metadata": {},
   "source": [
    "# XGBoost Classifier"
   ]
  },
  {
   "cell_type": "code",
   "execution_count": 44,
   "metadata": {},
   "outputs": [],
   "source": [
    "import xgboost as xgb"
   ]
  },
  {
   "cell_type": "code",
   "execution_count": 45,
   "metadata": {},
   "outputs": [],
   "source": [
    "import lightgbm as lgb\n",
    "from sklearn.metrics import accuracy_score\n",
    "# import packages for hyperparameters tuning\n",
    "from hyperopt import STATUS_OK, Trials, fmin, hp, tpe\n",
    "from sklearn.model_selection import train_test_split, RandomizedSearchCV, StratifiedKFold, KFold, GridSearchCV\n",
    "from sklearn.metrics import f1_score, roc_auc_score,accuracy_score,confusion_matrix, precision_recall_curve, auc, roc_curve, recall_score, classification_report "
   ]
  },
  {
   "cell_type": "code",
   "execution_count": 46,
   "metadata": {},
   "outputs": [],
   "source": [
    "X_train = X_train.astype('int')\n",
    "X_test = X_test.astype('int')"
   ]
  },
  {
   "cell_type": "code",
   "execution_count": 47,
   "metadata": {},
   "outputs": [],
   "source": [
    "space={ 'max_depth': hp.quniform(\"max_depth\", 3,18,1),\n",
    "        'gamma': hp.uniform ('gamma', 1,9),\n",
    "        'reg_alpha' : hp.quniform('reg_alpha', 40,180,1),\n",
    "        'reg_lambda' : hp.uniform('reg_lambda', 0,1),\n",
    "        'colsample_bytree' : hp.uniform('colsample_bytree', 0.5,1),\n",
    "        'min_child_weight' : hp.quniform('min_child_weight', 0, 10, 1),\n",
    "        'n_estimators': 300,\n",
    "        'seed': 0\n",
    "      }"
   ]
  },
  {
   "cell_type": "code",
   "execution_count": 48,
   "metadata": {},
   "outputs": [],
   "source": [
    "def objective(space):\n",
    "    clf=xgb.XGBClassifier(\n",
    "                    n_estimators =space['n_estimators'], max_depth = int(space['max_depth']), gamma = space['gamma'],\n",
    "                    reg_alpha = int(space['reg_alpha']),min_child_weight=int(space['min_child_weight']),\n",
    "                    colsample_bytree=int(space['colsample_bytree']))\n",
    "    \n",
    "    evaluation = [( X_train, y_train), ( X_test, y_test)]\n",
    "    \n",
    "    clf.fit(X_train, y_train,\n",
    "            eval_set=evaluation, eval_metric=\"auc\",\n",
    "            early_stopping_rounds=10,verbose=False)\n",
    "    \n",
    "\n",
    "    y_predict = clf.predict(X_test)\n",
    "    y_score = clf.predict_proba(X_test)[:,1]\n",
    "    accuracy = accuracy_score(y_test, y_predict>0.5)\n",
    "    Roc_Auc_Score = roc_auc_score(y_test, y_score)\n",
    "    print (\"ROC-AUC Score:\",Roc_Auc_Score)\n",
    "    print (\"SCORE:\", accuracy)\n",
    "    return {'loss': -Roc_Auc_Score, 'status': STATUS_OK }\n"
   ]
  },
  {
   "cell_type": "code",
   "execution_count": 49,
   "metadata": {},
   "outputs": [],
   "source": [
    "trials = Trials()"
   ]
  },
  {
   "cell_type": "code",
   "execution_count": 50,
   "metadata": {},
   "outputs": [
    {
     "name": "stdout",
     "output_type": "stream",
     "text": [
      "ROC-AUC Score:                                                                                                         \n",
      "0.8125352187570674                                                                                                     \n",
      "SCORE:                                                                                                                 \n",
      "0.9199547883271681                                                                                                     \n",
      "ROC-AUC Score:                                                                                                         \n",
      "0.8112011358322705                                                                                                     \n",
      "SCORE:                                                                                                                 \n",
      "0.9161528976572133                                                                                                     \n",
      "ROC-AUC Score:                                                                                                         \n",
      "0.8127269498991827                                                                                                     \n",
      "SCORE:                                                                                                                 \n",
      "0.9127620221948212                                                                                                     \n",
      "ROC-AUC Score:                                                                                                         \n",
      "0.8108760747886026                                                                                                     \n",
      "SCORE:                                                                                                                 \n",
      "0.9196465269214961                                                                                                     \n",
      "ROC-AUC Score:                                                                                                         \n",
      "0.8116140600398722                                                                                                     \n",
      "SCORE:                                                                                                                 \n",
      "0.9161528976572133                                                                                                     \n",
      "ROC-AUC Score:                                                                                                         \n",
      "0.8109665509834336                                                                                                     \n",
      "SCORE:                                                                                                                 \n",
      "0.9183107274969173                                                                                                     \n",
      "ROC-AUC Score:                                                                                                         \n",
      "0.8103110068569851                                                                                                     \n",
      "SCORE:                                                                                                                 \n",
      "0.9143033292231812                                                                                                     \n",
      "ROC-AUC Score:                                                                                                         \n",
      "0.810421276760866                                                                                                      \n",
      "SCORE:                                                                                                                 \n",
      "0.9127620221948212                                                                                                     \n",
      "ROC-AUC Score:                                                                                                         \n",
      "0.8115938743761878                                                                                                     \n",
      "SCORE:                                                                                                                 \n",
      "0.9143033292231812                                                                                                     \n",
      "ROC-AUC Score:                                                                                                         \n",
      "0.80970426108255                                                                                                       \n",
      "SCORE:                                                                                                                 \n",
      "0.9183107274969173                                                                                                     \n",
      "ROC-AUC Score:                                                                                                         \n",
      "0.8115711410073783                                                                                                     \n",
      "SCORE:                                                                                                                 \n",
      "0.91563912864776                                                                                                       \n",
      "ROC-AUC Score:                                                                                                         \n",
      "0.8096747338334065                                                                                                     \n",
      "SCORE:                                                                                                                 \n",
      "0.9196465269214961                                                                                                     \n",
      "ROC-AUC Score:                                                                                                         \n",
      "0.8117407267126361                                                                                                     \n",
      "SCORE:                                                                                                                 \n",
      "0.9200575421290588                                                                                                     \n",
      "ROC-AUC Score:                                                                                                         \n",
      "0.8118734686822366                                                                                                     \n",
      "SCORE:                                                                                                                 \n",
      "0.91563912864776                                                                                                       \n",
      "ROC-AUC Score:                                                                                                         \n",
      "0.8104539396470868                                                                                                     \n",
      "SCORE:                                                                                                                 \n",
      "0.91563912864776                                                                                                       \n",
      "ROC-AUC Score:                                                                                                         \n",
      "0.8094663446193187                                                                                                     \n",
      "SCORE:                                                                                                                 \n",
      "0.9183107274969173                                                                                                     \n",
      "ROC-AUC Score:                                                                                                         \n",
      "0.8098515053736327                                                                                                     \n",
      "SCORE:                                                                                                                 \n",
      "0.9196465269214961                                                                                                     \n"
     ]
    },
    {
     "name": "stdout",
     "output_type": "stream",
     "text": [
      "ROC-AUC Score:                                                                                                         \n",
      "0.8116140600398722                                                                                                     \n",
      "SCORE:                                                                                                                 \n",
      "0.9161528976572133                                                                                                     \n",
      "ROC-AUC Score:                                                                                                         \n",
      "0.8107705736661097                                                                                                     \n",
      "SCORE:                                                                                                                 \n",
      "0.9199547883271681                                                                                                     \n",
      "ROC-AUC Score:                                                                                                         \n",
      "0.8093176631612422                                                                                                     \n",
      "SCORE:                                                                                                                 \n",
      "0.9136868064118372                                                                                                     \n",
      "ROC-AUC Score:                                                                                                         \n",
      "0.8120335821504905                                                                                                     \n",
      "SCORE:                                                                                                                 \n",
      "0.9199547883271681                                                                                                     \n",
      "ROC-AUC Score:                                                                                                         \n",
      "0.8124934755884774                                                                                                     \n",
      "SCORE:                                                                                                                 \n",
      "0.9215988491574189                                                                                                     \n",
      "ROC-AUC Score:                                                                                                         \n",
      "0.8127191108064897                                                                                                     \n",
      "SCORE:                                                                                                                 \n",
      "0.9143033292231812                                                                                                     \n",
      "ROC-AUC Score:                                                                                                         \n",
      "0.8127191108064897                                                                                                     \n",
      "SCORE:                                                                                                                 \n",
      "0.9143033292231812                                                                                                     \n",
      "ROC-AUC Score:                                                                                                         \n",
      "0.8115749299021798                                                                                                     \n",
      "SCORE:                                                                                                                 \n",
      "0.9161528976572133                                                                                                     \n",
      "ROC-AUC Score:                                                                                                         \n",
      "0.8127191108064897                                                                                                     \n",
      "SCORE:                                                                                                                 \n",
      "0.9136868064118372                                                                                                     \n",
      "ROC-AUC Score:                                                                                                         \n",
      "0.8127191108064897                                                                                                     \n",
      "SCORE:                                                                                                                 \n",
      "0.9143033292231812                                                                                                     \n",
      "ROC-AUC Score:                                                                                                         \n",
      "0.8115267194821181                                                                                                     \n",
      "SCORE:                                                                                                                 \n",
      "0.9157418824496506                                                                                                     \n",
      "ROC-AUC Score:                                                                                                         \n",
      "0.8127329598702473                                                                                                     \n",
      "SCORE:                                                                                                                 \n",
      "0.9127620221948212                                                                                                     \n",
      "ROC-AUC Score:                                                                                                         \n",
      "0.8115938743761878                                                                                                     \n",
      "SCORE:                                                                                                                 \n",
      "0.9143033292231812                                                                                                     \n",
      "ROC-AUC Score:                                                                                                         \n",
      "0.8127329598702473                                                                                                     \n",
      "SCORE:                                                                                                                 \n",
      "0.9127620221948212                                                                                                     \n",
      "ROC-AUC Score:                                                                                                         \n",
      "0.8104761504097167                                                                                                     \n",
      "SCORE:                                                                                                                 \n",
      "0.9152281134401973                                                                                                     \n",
      "ROC-AUC Score:                                                                                                         \n",
      "0.8094400183330245                                                                                                     \n",
      "SCORE:                                                                                                                 \n",
      "0.9136868064118372                                                                                                     \n",
      "ROC-AUC Score:                                                                                                         \n",
      "0.8114973228845195                                                                                                     \n",
      "SCORE:                                                                                                                 \n",
      "0.9157418824496506                                                                                                     \n"
     ]
    },
    {
     "name": "stdout",
     "output_type": "stream",
     "text": [
      "ROC-AUC Score:                                                                                                         \n",
      "0.8127269498991827                                                                                                     \n",
      "SCORE:                                                                                                                 \n",
      "0.9127620221948212                                                                                                     \n",
      "ROC-AUC Score:                                                                                                         \n",
      "0.8113615759293865                                                                                                     \n",
      "SCORE:                                                                                                                 \n",
      "0.9161528976572133                                                                                                     \n",
      "ROC-AUC Score:                                                                                                         \n",
      "0.8114333689532995                                                                                                     \n",
      "SCORE:                                                                                                                 \n",
      "0.9203658035347307                                                                                                     \n",
      "ROC-AUC Score:                                                                                                         \n",
      "0.8118800012594808                                                                                                     \n",
      "SCORE:                                                                                                                 \n",
      "0.91563912864776                                                                                                       \n",
      "ROC-AUC Score:                                                                                                         \n",
      "0.8104761504097167                                                                                                     \n",
      "SCORE:                                                                                                                 \n",
      "0.9152281134401973                                                                                                     \n",
      "ROC-AUC Score:                                                                                                         \n",
      "0.8128472799720196                                                                                                     \n",
      "SCORE:                                                                                                                 \n",
      "0.9127620221948212                                                                                                     \n",
      "ROC-AUC Score:                                                                                                         \n",
      "0.810034809491103                                                                                                      \n",
      "SCORE:                                                                                                                 \n",
      "0.9136868064118372                                                                                                     \n",
      "ROC-AUC Score:                                                                                                         \n",
      "0.8105013661578792                                                                                                     \n",
      "SCORE:                                                                                                                 \n",
      "0.91563912864776                                                                                                       \n",
      "ROC-AUC Score:                                                                                                         \n",
      "0.8128472799720196                                                                                                     \n",
      "SCORE:                                                                                                                 \n",
      "0.9127620221948212                                                                                                     \n",
      "ROC-AUC Score:                                                                                                         \n",
      "0.8111034738024707                                                                                                     \n",
      "SCORE:                                                                                                                 \n",
      "0.9152281134401973                                                                                                     \n",
      "ROC-AUC Score:                                                                                                         \n",
      "0.8102699822718918                                                                                                     \n",
      "SCORE:                                                                                                                 \n",
      "0.9183107274969173                                                                                                     \n",
      "ROC-AUC Score:                                                                                                         \n",
      "0.8128472799720196                                                                                                     \n",
      "SCORE:                                                                                                                 \n",
      "0.9127620221948212                                                                                                     \n",
      "ROC-AUC Score:                                                                                                         \n",
      "0.8107102779781465                                                                                                     \n",
      "SCORE:                                                                                                                 \n",
      "0.91563912864776                                                                                                       \n",
      "ROC-AUC Score:                                                                                                         \n",
      "0.8111237901177                                                                                                        \n",
      "SCORE:                                                                                                                 \n",
      "0.9161528976572133                                                                                                     \n",
      "ROC-AUC Score:                                                                                                         \n",
      "0.8127192414580346                                                                                                     \n",
      "SCORE:                                                                                                                 \n",
      "0.9127620221948212                                                                                                     \n",
      "ROC-AUC Score:                                                                                                         \n",
      "0.8108248593830084                                                                                                     \n",
      "SCORE:                                                                                                                 \n",
      "0.9143033292231812                                                                                                     \n",
      "ROC-AUC Score:                                                                                                         \n",
      "0.8116665166351427                                                                                                     \n",
      "SCORE:                                                                                                                 \n",
      "0.9199547883271681                                                                                                     \n"
     ]
    },
    {
     "name": "stdout",
     "output_type": "stream",
     "text": [
      "ROC-AUC Score:                                                                                                         \n",
      "0.8095781823417383                                                                                                     \n",
      "SCORE:                                                                                                                 \n",
      "0.9196465269214961                                                                                                     \n",
      "ROC-AUC Score:                                                                                                         \n",
      "0.8119508797225797                                                                                                     \n",
      "SCORE:                                                                                                                 \n",
      "0.9152281134401973                                                                                                     \n",
      "ROC-AUC Score:                                                                                                         \n",
      "0.8115711410073783                                                                                                     \n",
      "SCORE:                                                                                                                 \n",
      "0.91563912864776                                                                                                       \n",
      "ROC-AUC Score:                                                                                                         \n",
      "0.8096936783074146                                                                                                     \n",
      "SCORE:                                                                                                                 \n",
      "0.9183107274969173                                                                                                     \n",
      "ROC-AUC Score:                                                                                                         \n",
      "0.809576222568565                                                                                                      \n",
      "SCORE:                                                                                                                 \n",
      "0.9136868064118372                                                                                                     \n",
      "ROC-AUC Score:                                                                                                         \n",
      "0.8108879640791868                                                                                                     \n",
      "SCORE:                                                                                                                 \n",
      "0.9143033292231812                                                                                                     \n",
      "ROC-AUC Score:                                                                                                         \n",
      "0.8110315501270129                                                                                                     \n",
      "SCORE:                                                                                                                 \n",
      "0.91563912864776                                                                                                       \n",
      "ROC-AUC Score:                                                                                                         \n",
      "0.8115146342142165                                                                                                     \n",
      "SCORE:                                                                                                                 \n",
      "0.9161528976572133                                                                                                     \n",
      "ROC-AUC Score:                                                                                                         \n",
      "0.8128472799720196                                                                                                     \n",
      "SCORE:                                                                                                                 \n",
      "0.9127620221948212                                                                                                     \n",
      "ROC-AUC Score:                                                                                                         \n",
      "0.8104481909791119                                                                                                     \n",
      "SCORE:                                                                                                                 \n",
      "0.9200575421290588                                                                                                     \n",
      "ROC-AUC Score:                                                                                                         \n",
      "0.8127191108064897                                                                                                     \n",
      "SCORE:                                                                                                                 \n",
      "0.9127620221948212                                                                                                     \n",
      "ROC-AUC Score:                                                                                                         \n",
      "0.8109206269654076                                                                                                     \n",
      "SCORE:                                                                                                                 \n",
      "0.91563912864776                                                                                                       \n",
      "ROC-AUC Score:                                                                                                         \n",
      "0.8131799841310634                                                                                                     \n",
      "SCORE:                                                                                                                 \n",
      "0.9203658035347307                                                                                                     \n",
      "ROC-AUC Score:                                                                                                         \n",
      "0.8121674346582227                                                                                                     \n",
      "SCORE:                                                                                                                 \n",
      "0.9197492807233868                                                                                                     \n",
      "ROC-AUC Score:                                                                                                         \n",
      "0.8109665509834336                                                                                                     \n",
      "SCORE:                                                                                                                 \n",
      "0.9183107274969173                                                                                                     \n",
      "ROC-AUC Score:                                                                                                         \n",
      "0.8116645568619694                                                                                                     \n",
      "SCORE:                                                                                                                 \n",
      "0.9199547883271681                                                                                                     \n",
      "ROC-AUC Score:                                                                                                         \n",
      "0.8108643814753356                                                                                                     \n",
      "SCORE:                                                                                                                 \n",
      "0.9161528976572133                                                                                                     \n"
     ]
    },
    {
     "name": "stdout",
     "output_type": "stream",
     "text": [
      "ROC-AUC Score:                                                                                                         \n",
      "0.8121793892745797                                                                                                     \n",
      "SCORE:                                                                                                                 \n",
      "0.9199547883271681                                                                                                     \n",
      "ROC-AUC Score:                                                                                                         \n",
      "0.8118872524202219                                                                                                     \n",
      "SCORE:                                                                                                                 \n",
      "0.9199547883271681                                                                                                     \n",
      "ROC-AUC Score:                                                                                                         \n",
      "0.810609545637042                                                                                                      \n",
      "SCORE:                                                                                                                 \n",
      "0.9196465269214961                                                                                                     \n",
      "ROC-AUC Score:                                                                                                         \n",
      "0.8119659699760137                                                                                                     \n",
      "SCORE:                                                                                                                 \n",
      "0.9199547883271681                                                                                                     \n",
      "ROC-AUC Score:                                                                                                         \n",
      "0.8120771544407088                                                                                                     \n",
      "SCORE:                                                                                                                 \n",
      "0.9200575421290588                                                                                                     \n",
      "ROC-AUC Score:                                                                                                         \n",
      "0.8096266540648897                                                                                                     \n",
      "SCORE:                                                                                                                 \n",
      "0.9183107274969173                                                                                                     \n",
      "ROC-AUC Score:                                                                                                         \n",
      "0.8127269498991827                                                                                                     \n",
      "SCORE:                                                                                                                 \n",
      "0.9127620221948212                                                                                                     \n",
      "ROC-AUC Score:                                                                                                         \n",
      "0.8102735098636037                                                                                                     \n",
      "SCORE:                                                                                                                 \n",
      "0.9183107274969173                                                                                                     \n",
      "ROC-AUC Score:                                                                                                         \n",
      "0.811097006550999                                                                                                      \n",
      "SCORE:                                                                                                                 \n",
      "0.9161528976572133                                                                                                     \n",
      "ROC-AUC Score:                                                                                                         \n",
      "0.8110591176029831                                                                                                     \n",
      "SCORE:                                                                                                                 \n",
      "0.9196465269214961                                                                                                     \n",
      "ROC-AUC Score:                                                                                                         \n",
      "0.8113760782508685                                                                                                     \n",
      "SCORE:                                                                                                                 \n",
      "0.9161528976572133                                                                                                     \n",
      "ROC-AUC Score:                                                                                                         \n",
      "0.8116307834376173                                                                                                     \n",
      "SCORE:                                                                                                                 \n",
      "0.9161528976572133                                                                                                     \n",
      "ROC-AUC Score:                                                                                                         \n",
      "0.8120968828239861                                                                                                     \n",
      "SCORE:                                                                                                                 \n",
      "0.9197492807233868                                                                                                     \n",
      "ROC-AUC Score:                                                                                                         \n",
      "0.8125380930910548                                                                                                     \n",
      "SCORE:                                                                                                                 \n",
      "0.9199547883271681                                                                                                     \n",
      "ROC-AUC Score:                                                                                                         \n",
      "0.8127191108064897                                                                                                     \n",
      "SCORE:                                                                                                                 \n",
      "0.9143033292231812                                                                                                     \n",
      "ROC-AUC Score:                                                                                                         \n",
      "0.8128472799720196                                                                                                     \n",
      "SCORE:                                                                                                                 \n",
      "0.9127620221948212                                                                                                     \n",
      "ROC-AUC Score:                                                                                                         \n",
      "0.8093176631612422                                                                                                     \n",
      "SCORE:                                                                                                                 \n",
      "0.9136868064118372                                                                                                     \n"
     ]
    },
    {
     "name": "stdout",
     "output_type": "stream",
     "text": [
      "ROC-AUC Score:                                                                                                         \n",
      "0.8101280946941493                                                                                                     \n",
      "SCORE:                                                                                                                 \n",
      "0.9196465269214961                                                                                                     \n",
      "ROC-AUC Score:                                                                                                         \n",
      "0.8105013661578792                                                                                                     \n",
      "SCORE:                                                                                                                 \n",
      "0.91563912864776                                                                                                       \n",
      "ROC-AUC Score:                                                                                                         \n",
      "0.8096679399530725                                                                                                     \n",
      "SCORE:                                                                                                                 \n",
      "0.9196465269214961                                                                                                     \n",
      "ROC-AUC Score:                                                                                                         \n",
      "0.8128472799720196                                                                                                     \n",
      "SCORE:                                                                                                                 \n",
      "0.9127620221948212                                                                                                     \n",
      "ROC-AUC Score:                                                                                                         \n",
      "0.8115708797042885                                                                                                     \n",
      "SCORE:                                                                                                                 \n",
      "0.91563912864776                                                                                                       \n",
      "ROC-AUC Score:                                                                                                         \n",
      "0.8109972540964812                                                                                                     \n",
      "SCORE:                                                                                                                 \n",
      "0.9199547883271681                                                                                                     \n",
      "ROC-AUC Score:                                                                                                         \n",
      "0.8114252032317444                                                                                                     \n",
      "SCORE:                                                                                                                 \n",
      "0.9161528976572133                                                                                                     \n",
      "ROC-AUC Score:                                                                                                         \n",
      "0.8104061211816597                                                                                                     \n",
      "SCORE:                                                                                                                 \n",
      "0.9200575421290588                                                                                                     \n",
      "ROC-AUC Score:                                                                                                         \n",
      "0.8113546513975078                                                                                                     \n",
      "SCORE:                                                                                                                 \n",
      "0.9161528976572133                                                                                                     \n",
      "ROC-AUC Score:                                                                                                         \n",
      "0.8103738502500736                                                                                                     \n",
      "SCORE:                                                                                                                 \n",
      "0.9163584052609947                                                                                                     \n",
      "ROC-AUC Score:                                                                                                         \n",
      "0.8108379245374968                                                                                                     \n",
      "SCORE:                                                                                                                 \n",
      "0.9136868064118372                                                                                                     \n",
      "ROC-AUC Score:                                                                                                         \n",
      "0.8113391038636667                                                                                                     \n",
      "SCORE:                                                                                                                 \n",
      "0.9157418824496506                                                                                                     \n",
      "ROC-AUC Score:                                                                                                         \n",
      "0.8109443402208036                                                                                                     \n",
      "SCORE:                                                                                                                 \n",
      "0.9183107274969173                                                                                                     \n",
      "ROC-AUC Score:                                                                                                         \n",
      "0.8104570752841639                                                                                                     \n",
      "SCORE:                                                                                                                 \n",
      "0.9152281134401973                                                                                                     \n",
      "ROC-AUC Score:                                                                                                         \n",
      "0.8116424114251117                                                                                                     \n",
      "SCORE:                                                                                                                 \n",
      "0.9199547883271681                                                                                                     \n",
      "100%|█████████████████████████████████████████████| 100/100 [01:26<00:00,  1.15trial/s, best loss: -0.8131799841310634]\n"
     ]
    }
   ],
   "source": [
    "\n",
    "best_hyperparams = fmin(fn = objective,\n",
    "                        space = space,\n",
    "                        algo = tpe.suggest,\n",
    "                        max_evals = 100,\n",
    "                        trials = trials)"
   ]
  },
  {
   "cell_type": "code",
   "execution_count": 51,
   "metadata": {},
   "outputs": [
    {
     "name": "stdout",
     "output_type": "stream",
     "text": [
      "The best hyperparameters are :  \n",
      "\n",
      "{'colsample_bytree': 0.9065236716299362, 'gamma': 1.3669657064891148, 'max_depth': 4.0, 'min_child_weight': 3.0, 'reg_alpha': 69.0, 'reg_lambda': 0.2957844469269842}\n"
     ]
    }
   ],
   "source": [
    "print(\"The best hyperparameters are : \",\"\\n\")\n",
    "print(best_hyperparams)"
   ]
  },
  {
   "cell_type": "code",
   "execution_count": 52,
   "metadata": {},
   "outputs": [],
   "source": [
    "xgb_model=xgb.XGBClassifier(n_estimators = space['n_estimators'], max_depth = 4, gamma = 1.3669657064891148, reg_lambda = 0.2957844469269842,\n",
    "                            reg_alpha = 69.0, min_child_weight=3.0,colsample_bytree = 0.9065236716299362 )\n",
    "    "
   ]
  },
  {
   "cell_type": "code",
   "execution_count": 53,
   "metadata": {},
   "outputs": [
    {
     "data": {
      "text/plain": [
       "XGBClassifier(base_score=0.5, booster='gbtree', colsample_bylevel=1,\n",
       "              colsample_bynode=1, colsample_bytree=0.9065236716299362,\n",
       "              gamma=1.3669657064891148, gpu_id=-1, importance_type='gain',\n",
       "              interaction_constraints='', learning_rate=0.300000012,\n",
       "              max_delta_step=0, max_depth=4, min_child_weight=3.0, missing=nan,\n",
       "              monotone_constraints='()', n_estimators=300, n_jobs=0,\n",
       "              num_parallel_tree=1, random_state=0, reg_alpha=69.0,\n",
       "              reg_lambda=0.2957844469269842, scale_pos_weight=1, subsample=1,\n",
       "              tree_method='exact', validate_parameters=1, verbosity=None)"
      ]
     },
     "execution_count": 53,
     "metadata": {},
     "output_type": "execute_result"
    }
   ],
   "source": [
    "xgb_model.fit(X_train,y_train)"
   ]
  },
  {
   "cell_type": "code",
   "execution_count": 54,
   "metadata": {},
   "outputs": [],
   "source": [
    "y_predict=xgb_model.predict(X_test)"
   ]
  },
  {
   "cell_type": "code",
   "execution_count": 55,
   "metadata": {},
   "outputs": [],
   "source": [
    "cm=confusion_matrix(y_test, y_predict)"
   ]
  },
  {
   "cell_type": "code",
   "execution_count": 56,
   "metadata": {},
   "outputs": [
    {
     "data": {
      "text/plain": [
       "<matplotlib.axes._subplots.AxesSubplot at 0x2adbfd7c348>"
      ]
     },
     "execution_count": 56,
     "metadata": {},
     "output_type": "execute_result"
    },
    {
     "data": {
      "image/png": "[encoded data removed]",
      "text/plain": [
       "<Figure size 576x396 with 2 Axes>"
      ]
     },
     "metadata": {},
     "output_type": "display_data"
    }
   ],
   "source": [
    "sns.heatmap(cm,annot=True,fmt='d')"
   ]
  },
  {
   "cell_type": "code",
   "execution_count": 57,
   "metadata": {},
   "outputs": [
    {
     "name": "stdout",
     "output_type": "stream",
     "text": [
      "              precision    recall  f1-score   support\n",
      "\n",
      "           0       0.92      1.00      0.96      8869\n",
      "           1       0.92      0.14      0.24       863\n",
      "\n",
      "    accuracy                           0.92      9732\n",
      "   macro avg       0.92      0.57      0.60      9732\n",
      "weighted avg       0.92      0.92      0.90      9732\n",
      "\n"
     ]
    }
   ],
   "source": [
    "print(classification_report(y_test, y_predict))"
   ]
  },
  {
   "cell_type": "code",
   "execution_count": 40,
   "metadata": {},
   "outputs": [],
   "source": [
    "test=test.astype('int').values"
   ]
  },
  {
   "cell_type": "code",
   "execution_count": 42,
   "metadata": {},
   "outputs": [],
   "source": [
    "y_predict = xgb_model.predict(test)"
   ]
  },
  {
   "cell_type": "code",
   "execution_count": 43,
   "metadata": {},
   "outputs": [
    {
     "data": {
      "text/plain": [
       "array([0, 0, 0, ..., 0, 0, 0], dtype=int64)"
      ]
     },
     "execution_count": 43,
     "metadata": {},
     "output_type": "execute_result"
    }
   ],
   "source": [
    "y_predict"
   ]
  },
  {
   "cell_type": "code",
   "execution_count": 44,
   "metadata": {},
   "outputs": [
    {
     "data": {
      "text/plain": [
       "(23490,)"
      ]
     },
     "execution_count": 44,
     "metadata": {},
     "output_type": "execute_result"
    }
   ],
   "source": [
    "y_predict.shape"
   ]
  },
  {
   "cell_type": "code",
   "execution_count": 45,
   "metadata": {},
   "outputs": [],
   "source": [
    "predict=pd.DataFrame(data=y_predict)"
   ]
  },
  {
   "cell_type": "markdown",
   "metadata": {},
   "source": [
    "# SMOTE"
   ]
  },
  {
   "cell_type": "code",
   "execution_count": 67,
   "metadata": {},
   "outputs": [],
   "source": [
    "from imblearn.over_sampling import SMOTE"
   ]
  },
  {
   "cell_type": "code",
   "execution_count": 61,
   "metadata": {},
   "outputs": [
    {
     "data": {
      "text/plain": [
       "0    44428\n",
       "1     4232\n",
       "Name: is_promoted, dtype: int64"
      ]
     },
     "execution_count": 61,
     "metadata": {},
     "output_type": "execute_result"
    }
   ],
   "source": [
    "df['is_promoted'].value_counts()"
   ]
  },
  {
   "cell_type": "code",
   "execution_count": 64,
   "metadata": {},
   "outputs": [],
   "source": [
    "X=np.array(df.loc[:, df.columns != 'is_promoted'])\n",
    "y=np.array(df.loc[:, df.columns=='is_promoted'])"
   ]
  },
  {
   "cell_type": "code",
   "execution_count": 65,
   "metadata": {},
   "outputs": [],
   "source": [
    "X_train, X_test, y_train, y_test=train_test_split(X,y,test_size=0.30, random_state=0)"
   ]
  },
  {
   "cell_type": "code",
   "execution_count": 68,
   "metadata": {},
   "outputs": [],
   "source": [
    "sm=SMOTE(random_state=2)"
   ]
  },
  {
   "cell_type": "code",
   "execution_count": 69,
   "metadata": {},
   "outputs": [],
   "source": [
    "X_train_res, y_train_res=sm.fit_sample(X_train, y_train.ravel())"
   ]
  },
  {
   "cell_type": "code",
   "execution_count": 70,
   "metadata": {},
   "outputs": [
    {
     "data": {
      "text/plain": [
       "(34062, 9)"
      ]
     },
     "execution_count": 70,
     "metadata": {},
     "output_type": "execute_result"
    }
   ],
   "source": [
    "X_train.shape"
   ]
  },
  {
   "cell_type": "code",
   "execution_count": 71,
   "metadata": {},
   "outputs": [
    {
     "data": {
      "text/plain": [
       "(62142, 9)"
      ]
     },
     "execution_count": 71,
     "metadata": {},
     "output_type": "execute_result"
    }
   ],
   "source": [
    "X_train_res.shape"
   ]
  },
  {
   "cell_type": "code",
   "execution_count": 72,
   "metadata": {},
   "outputs": [],
   "source": [
    "param={\n",
    "    'C':np.linspace(1,5,5)\n",
    "}"
   ]
  },
  {
   "cell_type": "code",
   "execution_count": 73,
   "metadata": {},
   "outputs": [],
   "source": [
    "lr=LogisticRegression()"
   ]
  },
  {
   "cell_type": "code",
   "execution_count": 74,
   "metadata": {},
   "outputs": [],
   "source": [
    "clf=GridSearchCV(lr,param,cv=3,verbose=3,n_jobs=-1)"
   ]
  },
  {
   "cell_type": "code",
   "execution_count": 75,
   "metadata": {},
   "outputs": [
    {
     "name": "stdout",
     "output_type": "stream",
     "text": [
      "Fitting 3 folds for each of 5 candidates, totalling 15 fits\n"
     ]
    },
    {
     "name": "stderr",
     "output_type": "stream",
     "text": [
      "[Parallel(n_jobs=-1)]: Using backend LokyBackend with 4 concurrent workers.\n",
      "[Parallel(n_jobs=-1)]: Done  15 out of  15 | elapsed:    6.8s finished\n",
      "c:\\users\\hp\\appdata\\local\\programs\\python\\python37\\lib\\site-packages\\sklearn\\linear_model\\_logistic.py:764: ConvergenceWarning: lbfgs failed to converge (status=1):\n",
      "STOP: TOTAL NO. of ITERATIONS REACHED LIMIT.\n",
      "\n",
      "Increase the number of iterations (max_iter) or scale the data as shown in:\n",
      "    https://scikit-learn.org/stable/modules/preprocessing.html\n",
      "Please also refer to the documentation for alternative solver options:\n",
      "    https://scikit-learn.org/stable/modules/linear_model.html#logistic-regression\n",
      "  extra_warning_msg=_LOGISTIC_SOLVER_CONVERGENCE_MSG)\n"
     ]
    },
    {
     "data": {
      "text/plain": [
       "GridSearchCV(cv=3, estimator=LogisticRegression(), n_jobs=-1,\n",
       "             param_grid={'C': array([1., 2., 3., 4., 5.])}, verbose=3)"
      ]
     },
     "execution_count": 75,
     "metadata": {},
     "output_type": "execute_result"
    }
   ],
   "source": [
    "clf.fit(X_train_res,y_train_res.ravel())"
   ]
  },
  {
   "cell_type": "code",
   "execution_count": 76,
   "metadata": {},
   "outputs": [
    {
     "data": {
      "text/plain": [
       "{'C': 3.0}"
      ]
     },
     "execution_count": 76,
     "metadata": {},
     "output_type": "execute_result"
    }
   ],
   "source": [
    "clf.best_params_"
   ]
  },
  {
   "cell_type": "code",
   "execution_count": 77,
   "metadata": {},
   "outputs": [],
   "source": [
    "y_pred=clf.predict(X_test)"
   ]
  },
  {
   "cell_type": "code",
   "execution_count": 78,
   "metadata": {},
   "outputs": [],
   "source": [
    "cm=confusion_matrix(y_test, y_pred)"
   ]
  },
  {
   "cell_type": "code",
   "execution_count": 79,
   "metadata": {},
   "outputs": [
    {
     "data": {
      "text/plain": [
       "<matplotlib.axes._subplots.AxesSubplot at 0x2adc64d3b08>"
      ]
     },
     "execution_count": 79,
     "metadata": {},
     "output_type": "execute_result"
    },
    {
     "data": {
      "image/png": "[encoded data removed]",
      "text/plain": [
       "<Figure size 576x396 with 2 Axes>"
      ]
     },
     "metadata": {},
     "output_type": "display_data"
    }
   ],
   "source": [
    "sns.heatmap(cm,fmt='1g',annot=True)"
   ]
  },
  {
   "cell_type": "code",
   "execution_count": 81,
   "metadata": {},
   "outputs": [
    {
     "name": "stdout",
     "output_type": "stream",
     "text": [
      "              precision    recall  f1-score   support\n",
      "\n",
      "           0       0.97      0.72      0.82     13357\n",
      "           1       0.19      0.72      0.30      1241\n",
      "\n",
      "    accuracy                           0.72     14598\n",
      "   macro avg       0.58      0.72      0.56     14598\n",
      "weighted avg       0.90      0.72      0.78     14598\n",
      "\n"
     ]
    }
   ],
   "source": [
    "print(classification_report(y_test, y_pred))"
   ]
  },
  {
   "cell_type": "code",
   "execution_count": 85,
   "metadata": {},
   "outputs": [],
   "source": [
    "def objective(space):\n",
    "    clf=xgb.XGBClassifier(\n",
    "                    n_estimators =space['n_estimators'], max_depth = int(space['max_depth']), gamma = space['gamma'],\n",
    "                    reg_alpha = int(space['reg_alpha']),min_child_weight=int(space['min_child_weight']),\n",
    "                    colsample_bytree=int(space['colsample_bytree']))\n",
    "    \n",
    "    evaluation = [( X_train_res, y_train_res.ravel()), ( X_test, y_test)]\n",
    "    \n",
    "    clf.fit(X_train_res, y_train_res.ravel(),\n",
    "            eval_set=evaluation, eval_metric=\"auc\",\n",
    "            early_stopping_rounds=10,verbose=False)\n",
    "    \n",
    "\n",
    "    y_predict = clf.predict(X_test)\n",
    "    y_score = clf.predict_proba(X_test)[:,1]\n",
    "    accuracy = accuracy_score(y_test, y_predict>0.5)\n",
    "    Roc_Auc_Score = roc_auc_score(y_test, y_score)\n",
    "    print (\"ROC-AUC Score:\",Roc_Auc_Score)\n",
    "    print (\"SCORE:\", accuracy)\n",
    "    return {'loss': -Roc_Auc_Score, 'status': STATUS_OK }\n"
   ]
  },
  {
   "cell_type": "code",
   "execution_count": 86,
   "metadata": {},
   "outputs": [],
   "source": [
    "trials = Trials()"
   ]
  },
  {
   "cell_type": "code",
   "execution_count": 87,
   "metadata": {},
   "outputs": [
    {
     "name": "stdout",
     "output_type": "stream",
     "text": [
      "\r",
      "  0%|                                                                          | 0/100 [00:00<?, ?trial/s, best loss=?]"
     ]
    },
    {
     "name": "stderr",
     "output_type": "stream",
     "text": [
      "c:\\users\\hp\\appdata\\local\\programs\\python\\python37\\lib\\site-packages\\sklearn\\utils\\validation.py:73: DataConversionWarning: A column-vector y was passed when a 1d array was expected. Please change the shape of y to (n_samples, ), for example using ravel().\n",
      "  return f(**kwargs)\n",
      "\n"
     ]
    },
    {
     "name": "stdout",
     "output_type": "stream",
     "text": [
      "ROC-AUC Score:                                                                                                         \n",
      "0.7905421543158958                                                                                                     \n",
      "SCORE:                                                                                                                 \n",
      "0.9121797506507741                                                                                                     \n",
      "  1%|▍                                              | 1/100 [00:01<03:03,  1.85s/trial, best loss: -0.7905421543158958]"
     ]
    },
    {
     "name": "stderr",
     "output_type": "stream",
     "text": [
      "c:\\users\\hp\\appdata\\local\\programs\\python\\python37\\lib\\site-packages\\sklearn\\utils\\validation.py:73: DataConversionWarning: A column-vector y was passed when a 1d array was expected. Please change the shape of y to (n_samples, ), for example using ravel().\n",
      "  return f(**kwargs)\n",
      "\n"
     ]
    },
    {
     "name": "stdout",
     "output_type": "stream",
     "text": [
      "ROC-AUC Score:                                                                                                         \n",
      "0.792170317911332                                                                                                      \n",
      "SCORE:                                                                                                                 \n",
      "0.9043704617070831                                                                                                     \n",
      "  2%|▉                                               | 2/100 [00:03<02:58,  1.83s/trial, best loss: -0.792170317911332]"
     ]
    },
    {
     "name": "stderr",
     "output_type": "stream",
     "text": [
      "c:\\users\\hp\\appdata\\local\\programs\\python\\python37\\lib\\site-packages\\sklearn\\utils\\validation.py:73: DataConversionWarning: A column-vector y was passed when a 1d array was expected. Please change the shape of y to (n_samples, ), for example using ravel().\n",
      "  return f(**kwargs)\n",
      "\n"
     ]
    },
    {
     "name": "stdout",
     "output_type": "stream",
     "text": [
      "ROC-AUC Score:                                                                                                         \n",
      "0.7930355428140031                                                                                                     \n",
      "SCORE:                                                                                                                 \n",
      "0.8939580764488286                                                                                                     \n",
      "  3%|█▍                                             | 3/100 [00:05<02:51,  1.77s/trial, best loss: -0.7930355428140031]"
     ]
    },
    {
     "name": "stderr",
     "output_type": "stream",
     "text": [
      "c:\\users\\hp\\appdata\\local\\programs\\python\\python37\\lib\\site-packages\\sklearn\\utils\\validation.py:73: DataConversionWarning: A column-vector y was passed when a 1d array was expected. Please change the shape of y to (n_samples, ), for example using ravel().\n",
      "  return f(**kwargs)\n",
      "\n"
     ]
    },
    {
     "name": "stdout",
     "output_type": "stream",
     "text": [
      "ROC-AUC Score:                                                                                                         \n",
      "0.7911228419675945                                                                                                     \n",
      "SCORE:                                                                                                                 \n",
      "0.9074530757638033                                                                                                     \n",
      "  4%|█▉                                             | 4/100 [00:07<02:57,  1.85s/trial, best loss: -0.7930355428140031]"
     ]
    },
    {
     "name": "stderr",
     "output_type": "stream",
     "text": [
      "c:\\users\\hp\\appdata\\local\\programs\\python\\python37\\lib\\site-packages\\sklearn\\utils\\validation.py:73: DataConversionWarning: A column-vector y was passed when a 1d array was expected. Please change the shape of y to (n_samples, ), for example using ravel().\n",
      "  return f(**kwargs)\n",
      "\n"
     ]
    },
    {
     "name": "stdout",
     "output_type": "stream",
     "text": [
      "ROC-AUC Score:                                                                                                         \n",
      "0.7921036855793699                                                                                                     \n",
      "SCORE:                                                                                                                 \n",
      "0.8962186600904234                                                                                                     \n",
      "  5%|██▎                                            | 5/100 [00:09<02:58,  1.88s/trial, best loss: -0.7930355428140031]"
     ]
    },
    {
     "name": "stderr",
     "output_type": "stream",
     "text": [
      "c:\\users\\hp\\appdata\\local\\programs\\python\\python37\\lib\\site-packages\\sklearn\\utils\\validation.py:73: DataConversionWarning: A column-vector y was passed when a 1d array was expected. Please change the shape of y to (n_samples, ), for example using ravel().\n",
      "  return f(**kwargs)\n",
      "\n"
     ]
    },
    {
     "name": "stdout",
     "output_type": "stream",
     "text": [
      "ROC-AUC Score:                                                                                                         \n",
      "0.7949572627039865                                                                                                     \n",
      "SCORE:                                                                                                                 \n",
      "0.8953281271407042                                                                                                     \n",
      "  6%|██▊                                            | 6/100 [00:11<02:55,  1.87s/trial, best loss: -0.7949572627039865]"
     ]
    },
    {
     "name": "stderr",
     "output_type": "stream",
     "text": [
      "c:\\users\\hp\\appdata\\local\\programs\\python\\python37\\lib\\site-packages\\sklearn\\utils\\validation.py:73: DataConversionWarning: A column-vector y was passed when a 1d array was expected. Please change the shape of y to (n_samples, ), for example using ravel().\n",
      "  return f(**kwargs)\n",
      "\n"
     ]
    },
    {
     "name": "stdout",
     "output_type": "stream",
     "text": [
      "ROC-AUC Score:                                                                                                         \n",
      "0.7926322497952918                                                                                                     \n",
      "SCORE:                                                                                                                 \n",
      "0.8927250308261405                                                                                                     \n",
      "  7%|███▎                                           | 7/100 [00:12<02:47,  1.80s/trial, best loss: -0.7949572627039865]"
     ]
    },
    {
     "name": "stderr",
     "output_type": "stream",
     "text": [
      "c:\\users\\hp\\appdata\\local\\programs\\python\\python37\\lib\\site-packages\\sklearn\\utils\\validation.py:73: DataConversionWarning: A column-vector y was passed when a 1d array was expected. Please change the shape of y to (n_samples, ), for example using ravel().\n",
      "  return f(**kwargs)\n",
      "\n"
     ]
    },
    {
     "name": "stdout",
     "output_type": "stream",
     "text": [
      "ROC-AUC Score:                                                                                                         \n",
      "0.7890104251094516                                                                                                     \n",
      "SCORE:                                                                                                                 \n",
      "0.9053979997259899                                                                                                     \n",
      "  8%|███▊                                           | 8/100 [00:14<02:42,  1.77s/trial, best loss: -0.7949572627039865]"
     ]
    },
    {
     "name": "stderr",
     "output_type": "stream",
     "text": [
      "c:\\users\\hp\\appdata\\local\\programs\\python\\python37\\lib\\site-packages\\sklearn\\utils\\validation.py:73: DataConversionWarning: A column-vector y was passed when a 1d array was expected. Please change the shape of y to (n_samples, ), for example using ravel().\n",
      "  return f(**kwargs)\n",
      "\n"
     ]
    },
    {
     "name": "stdout",
     "output_type": "stream",
     "text": [
      "ROC-AUC Score:                                                                                                         \n",
      "0.7913677436892788                                                                                                     \n",
      "SCORE:                                                                                                                 \n",
      "0.9058090149335526                                                                                                     \n",
      "  9%|████▏                                          | 9/100 [00:16<02:41,  1.78s/trial, best loss: -0.7949572627039865]"
     ]
    },
    {
     "name": "stderr",
     "output_type": "stream",
     "text": [
      "c:\\users\\hp\\appdata\\local\\programs\\python\\python37\\lib\\site-packages\\sklearn\\utils\\validation.py:73: DataConversionWarning: A column-vector y was passed when a 1d array was expected. Please change the shape of y to (n_samples, ), for example using ravel().\n",
      "  return f(**kwargs)\n",
      "\n"
     ]
    },
    {
     "name": "stdout",
     "output_type": "stream",
     "text": [
      "ROC-AUC Score:                                                                                                         \n",
      "0.7903716370806846                                                                                                     \n",
      "SCORE:                                                                                                                 \n",
      "0.9103986847513358                                                                                                     \n",
      " 10%|████▌                                         | 10/100 [00:17<02:40,  1.78s/trial, best loss: -0.7949572627039865]"
     ]
    },
    {
     "name": "stderr",
     "output_type": "stream",
     "text": [
      "c:\\users\\hp\\appdata\\local\\programs\\python\\python37\\lib\\site-packages\\sklearn\\utils\\validation.py:73: DataConversionWarning: A column-vector y was passed when a 1d array was expected. Please change the shape of y to (n_samples, ), for example using ravel().\n",
      "  return f(**kwargs)\n",
      "\n"
     ]
    },
    {
     "name": "stdout",
     "output_type": "stream",
     "text": [
      "ROC-AUC Score:                                                                                                         \n",
      "0.7925893565512674                                                                                                     \n",
      "SCORE:                                                                                                                 \n",
      "0.8875188381970133                                                                                                     \n",
      " 11%|█████                                         | 11/100 [00:19<02:32,  1.72s/trial, best loss: -0.7949572627039865]"
     ]
    },
    {
     "name": "stderr",
     "output_type": "stream",
     "text": [
      "c:\\users\\hp\\appdata\\local\\programs\\python\\python37\\lib\\site-packages\\sklearn\\utils\\validation.py:73: DataConversionWarning: A column-vector y was passed when a 1d array was expected. Please change the shape of y to (n_samples, ), for example using ravel().\n",
      "  return f(**kwargs)\n",
      "\n"
     ]
    },
    {
     "name": "stdout",
     "output_type": "stream",
     "text": [
      "ROC-AUC Score:                                                                                                         \n",
      "0.7920467057355145                                                                                                     \n",
      "SCORE:                                                                                                                 \n",
      "0.9008768324428004                                                                                                     \n",
      " 12%|█████▌                                        | 12/100 [00:21<02:31,  1.73s/trial, best loss: -0.7949572627039865]"
     ]
    },
    {
     "name": "stderr",
     "output_type": "stream",
     "text": [
      "c:\\users\\hp\\appdata\\local\\programs\\python\\python37\\lib\\site-packages\\sklearn\\utils\\validation.py:73: DataConversionWarning: A column-vector y was passed when a 1d array was expected. Please change the shape of y to (n_samples, ), for example using ravel().\n",
      "  return f(**kwargs)\n",
      "\n"
     ]
    },
    {
     "name": "stdout",
     "output_type": "stream",
     "text": [
      "ROC-AUC Score:                                                                                                         \n",
      "0.7903072972146478                                                                                                     \n",
      "SCORE:                                                                                                                 \n",
      "0.9171119331415263                                                                                                     \n",
      " 13%|█████▉                                        | 13/100 [00:23<02:38,  1.82s/trial, best loss: -0.7949572627039865]"
     ]
    },
    {
     "name": "stderr",
     "output_type": "stream",
     "text": [
      "c:\\users\\hp\\appdata\\local\\programs\\python\\python37\\lib\\site-packages\\sklearn\\utils\\validation.py:73: DataConversionWarning: A column-vector y was passed when a 1d array was expected. Please change the shape of y to (n_samples, ), for example using ravel().\n",
      "  return f(**kwargs)\n",
      "\n"
     ]
    },
    {
     "name": "stdout",
     "output_type": "stream",
     "text": [
      "ROC-AUC Score:                                                                                                         \n",
      "0.7913398419658451                                                                                                     \n",
      "SCORE:                                                                                                                 \n",
      "0.9048499794492396                                                                                                     \n",
      " 14%|██████▍                                       | 14/100 [00:25<02:35,  1.81s/trial, best loss: -0.7949572627039865]"
     ]
    },
    {
     "name": "stderr",
     "output_type": "stream",
     "text": [
      "c:\\users\\hp\\appdata\\local\\programs\\python\\python37\\lib\\site-packages\\sklearn\\utils\\validation.py:73: DataConversionWarning: A column-vector y was passed when a 1d array was expected. Please change the shape of y to (n_samples, ), for example using ravel().\n",
      "  return f(**kwargs)\n",
      "\n"
     ]
    },
    {
     "name": "stdout",
     "output_type": "stream",
     "text": [
      "ROC-AUC Score:                                                                                                         \n",
      "0.7920770205809748                                                                                                     \n",
      "SCORE:                                                                                                                 \n",
      "0.8956021372790793                                                                                                     \n",
      " 15%|██████▉                                       | 15/100 [00:26<02:30,  1.77s/trial, best loss: -0.7949572627039865]"
     ]
    },
    {
     "name": "stderr",
     "output_type": "stream",
     "text": [
      "c:\\users\\hp\\appdata\\local\\programs\\python\\python37\\lib\\site-packages\\sklearn\\utils\\validation.py:73: DataConversionWarning: A column-vector y was passed when a 1d array was expected. Please change the shape of y to (n_samples, ), for example using ravel().\n",
      "  return f(**kwargs)\n",
      "\n"
     ]
    },
    {
     "name": "stdout",
     "output_type": "stream",
     "text": [
      "ROC-AUC Score:                                                                                                         \n",
      "0.7921590365658571                                                                                                     \n",
      "SCORE:                                                                                                                 \n",
      "0.9052609946568023                                                                                                     \n",
      " 16%|███████▎                                      | 16/100 [00:28<02:28,  1.77s/trial, best loss: -0.7949572627039865]"
     ]
    },
    {
     "name": "stderr",
     "output_type": "stream",
     "text": [
      "c:\\users\\hp\\appdata\\local\\programs\\python\\python37\\lib\\site-packages\\sklearn\\utils\\validation.py:73: DataConversionWarning: A column-vector y was passed when a 1d array was expected. Please change the shape of y to (n_samples, ), for example using ravel().\n",
      "  return f(**kwargs)\n",
      "\n"
     ]
    },
    {
     "name": "stdout",
     "output_type": "stream",
     "text": [
      "ROC-AUC Score:                                                                                                         \n",
      "0.7913860230886309                                                                                                     \n",
      "SCORE:                                                                                                                 \n",
      "0.9121112481161803                                                                                                     \n",
      " 17%|███████▊                                      | 17/100 [00:30<02:31,  1.82s/trial, best loss: -0.7949572627039865]"
     ]
    },
    {
     "name": "stderr",
     "output_type": "stream",
     "text": [
      "c:\\users\\hp\\appdata\\local\\programs\\python\\python37\\lib\\site-packages\\sklearn\\utils\\validation.py:73: DataConversionWarning: A column-vector y was passed when a 1d array was expected. Please change the shape of y to (n_samples, ), for example using ravel().\n",
      "  return f(**kwargs)\n",
      "\n"
     ]
    },
    {
     "name": "stdout",
     "output_type": "stream",
     "text": [
      "ROC-AUC Score:                                                                                                         \n",
      "0.7921598509945412                                                                                                     \n",
      "SCORE:                                                                                                                 \n",
      "0.9003973147006439                                                                                                     \n",
      " 18%|████████▎                                     | 18/100 [00:32<02:25,  1.77s/trial, best loss: -0.7949572627039865]"
     ]
    },
    {
     "name": "stderr",
     "output_type": "stream",
     "text": [
      "c:\\users\\hp\\appdata\\local\\programs\\python\\python37\\lib\\site-packages\\sklearn\\utils\\validation.py:73: DataConversionWarning: A column-vector y was passed when a 1d array was expected. Please change the shape of y to (n_samples, ), for example using ravel().\n",
      "  return f(**kwargs)\n",
      "\n"
     ]
    },
    {
     "name": "stdout",
     "output_type": "stream",
     "text": [
      "ROC-AUC Score:                                                                                                         \n",
      "0.7918773045692407                                                                                                     \n",
      "SCORE:                                                                                                                 \n",
      "0.8861487875051377                                                                                                     \n",
      " 19%|████████▋                                     | 19/100 [00:33<02:16,  1.68s/trial, best loss: -0.7949572627039865]"
     ]
    },
    {
     "name": "stderr",
     "output_type": "stream",
     "text": [
      "c:\\users\\hp\\appdata\\local\\programs\\python\\python37\\lib\\site-packages\\sklearn\\utils\\validation.py:73: DataConversionWarning: A column-vector y was passed when a 1d array was expected. Please change the shape of y to (n_samples, ), for example using ravel().\n",
      "  return f(**kwargs)\n",
      "\n"
     ]
    },
    {
     "name": "stdout",
     "output_type": "stream",
     "text": [
      "ROC-AUC Score:                                                                                                         \n",
      "0.7915618190282756                                                                                                     \n",
      "SCORE:                                                                                                                 \n",
      "0.9045759693108645                                                                                                     \n",
      " 20%|█████████▏                                    | 20/100 [00:35<02:17,  1.72s/trial, best loss: -0.7949572627039865]"
     ]
    },
    {
     "name": "stderr",
     "output_type": "stream",
     "text": [
      "c:\\users\\hp\\appdata\\local\\programs\\python\\python37\\lib\\site-packages\\sklearn\\utils\\validation.py:73: DataConversionWarning: A column-vector y was passed when a 1d array was expected. Please change the shape of y to (n_samples, ), for example using ravel().\n",
      "  return f(**kwargs)\n",
      "\n"
     ]
    },
    {
     "name": "stdout",
     "output_type": "stream",
     "text": [
      "ROC-AUC Score:                                                                                                         \n",
      "0.7933235187638638                                                                                                     \n",
      "SCORE:                                                                                                                 \n",
      "0.8821756404986985                                                                                                     \n",
      " 21%|█████████▋                                    | 21/100 [00:37<02:16,  1.73s/trial, best loss: -0.7949572627039865]"
     ]
    },
    {
     "name": "stderr",
     "output_type": "stream",
     "text": [
      "c:\\users\\hp\\appdata\\local\\programs\\python\\python37\\lib\\site-packages\\sklearn\\utils\\validation.py:73: DataConversionWarning: A column-vector y was passed when a 1d array was expected. Please change the shape of y to (n_samples, ), for example using ravel().\n",
      "  return f(**kwargs)\n",
      "\n"
     ]
    },
    {
     "name": "stdout",
     "output_type": "stream",
     "text": [
      "ROC-AUC Score:                                                                                                         \n",
      "0.7926735141819483                                                                                                     \n",
      "SCORE:                                                                                                                 \n",
      "0.8797780517879161                                                                                                     \n",
      " 22%|██████████                                    | 22/100 [00:38<02:09,  1.66s/trial, best loss: -0.7949572627039865]"
     ]
    },
    {
     "name": "stderr",
     "output_type": "stream",
     "text": [
      "c:\\users\\hp\\appdata\\local\\programs\\python\\python37\\lib\\site-packages\\sklearn\\utils\\validation.py:73: DataConversionWarning: A column-vector y was passed when a 1d array was expected. Please change the shape of y to (n_samples, ), for example using ravel().\n",
      "  return f(**kwargs)\n",
      "\n"
     ]
    },
    {
     "name": "stdout",
     "output_type": "stream",
     "text": [
      "ROC-AUC Score:                                                                                                         \n",
      "0.7932644274382351                                                                                                     \n",
      "SCORE:                                                                                                                 \n",
      "0.8826551582408549                                                                                                     \n",
      " 23%|██████████▌                                   | 23/100 [00:40<02:05,  1.63s/trial, best loss: -0.7949572627039865]"
     ]
    },
    {
     "name": "stderr",
     "output_type": "stream",
     "text": [
      "c:\\users\\hp\\appdata\\local\\programs\\python\\python37\\lib\\site-packages\\sklearn\\utils\\validation.py:73: DataConversionWarning: A column-vector y was passed when a 1d array was expected. Please change the shape of y to (n_samples, ), for example using ravel().\n",
      "  return f(**kwargs)\n",
      "\n"
     ]
    },
    {
     "name": "stdout",
     "output_type": "stream",
     "text": [
      "ROC-AUC Score:                                                                                                         \n",
      "0.7933966665252979                                                                                                     \n",
      "SCORE:                                                                                                                 \n",
      "0.8832031785176051                                                                                                     \n",
      " 24%|███████████                                   | 24/100 [00:41<02:02,  1.61s/trial, best loss: -0.7949572627039865]"
     ]
    },
    {
     "name": "stderr",
     "output_type": "stream",
     "text": [
      "c:\\users\\hp\\appdata\\local\\programs\\python\\python37\\lib\\site-packages\\sklearn\\utils\\validation.py:73: DataConversionWarning: A column-vector y was passed when a 1d array was expected. Please change the shape of y to (n_samples, ), for example using ravel().\n",
      "  return f(**kwargs)\n",
      "\n"
     ]
    },
    {
     "name": "stdout",
     "output_type": "stream",
     "text": [
      "ROC-AUC Score:                                                                                                         \n",
      "0.7934172082265502                                                                                                     \n",
      "SCORE:                                                                                                                 \n",
      "0.8851212494862309                                                                                                     \n",
      " 25%|███████████▌                                  | 25/100 [00:43<01:59,  1.59s/trial, best loss: -0.7949572627039865]"
     ]
    },
    {
     "name": "stderr",
     "output_type": "stream",
     "text": [
      "c:\\users\\hp\\appdata\\local\\programs\\python\\python37\\lib\\site-packages\\sklearn\\utils\\validation.py:73: DataConversionWarning: A column-vector y was passed when a 1d array was expected. Please change the shape of y to (n_samples, ), for example using ravel().\n",
      "  return f(**kwargs)\n",
      "\n"
     ]
    },
    {
     "name": "stdout",
     "output_type": "stream",
     "text": [
      "ROC-AUC Score:                                                                                                         \n",
      "0.7919112994257917                                                                                                     \n",
      "SCORE:                                                                                                                 \n",
      "0.8993697766817372                                                                                                     \n",
      " 26%|███████████▉                                  | 26/100 [00:45<02:02,  1.65s/trial, best loss: -0.7949572627039865]"
     ]
    },
    {
     "name": "stderr",
     "output_type": "stream",
     "text": [
      "c:\\users\\hp\\appdata\\local\\programs\\python\\python37\\lib\\site-packages\\sklearn\\utils\\validation.py:73: DataConversionWarning: A column-vector y was passed when a 1d array was expected. Please change the shape of y to (n_samples, ), for example using ravel().\n",
      "  return f(**kwargs)\n",
      "\n"
     ]
    },
    {
     "name": "stdout",
     "output_type": "stream",
     "text": [
      "ROC-AUC Score:                                                                                                         \n",
      "0.7927488337532065                                                                                                     \n",
      "SCORE:                                                                                                                 \n",
      "0.8989587614741745                                                                                                     \n",
      " 27%|████████████▍                                 | 27/100 [00:46<02:03,  1.69s/trial, best loss: -0.7949572627039865]"
     ]
    },
    {
     "name": "stderr",
     "output_type": "stream",
     "text": [
      "c:\\users\\hp\\appdata\\local\\programs\\python\\python37\\lib\\site-packages\\sklearn\\utils\\validation.py:73: DataConversionWarning: A column-vector y was passed when a 1d array was expected. Please change the shape of y to (n_samples, ), for example using ravel().\n",
      "  return f(**kwargs)\n",
      "\n"
     ]
    },
    {
     "name": "stdout",
     "output_type": "stream",
     "text": [
      "ROC-AUC Score:                                                                                                         \n",
      "0.7914173936749779                                                                                                     \n",
      "SCORE:                                                                                                                 \n",
      "0.9003973147006439                                                                                                     \n",
      " 28%|████████████▉                                 | 28/100 [00:48<02:03,  1.72s/trial, best loss: -0.7949572627039865]"
     ]
    },
    {
     "name": "stderr",
     "output_type": "stream",
     "text": [
      "c:\\users\\hp\\appdata\\local\\programs\\python\\python37\\lib\\site-packages\\sklearn\\utils\\validation.py:73: DataConversionWarning: A column-vector y was passed when a 1d array was expected. Please change the shape of y to (n_samples, ), for example using ravel().\n",
      "  return f(**kwargs)\n",
      "\n"
     ]
    },
    {
     "name": "stdout",
     "output_type": "stream",
     "text": [
      "ROC-AUC Score:                                                                                                         \n",
      "0.7883184623682972                                                                                                     \n",
      "SCORE:                                                                                                                 \n",
      "0.8575832305795315                                                                                                     \n",
      " 29%|█████████████▎                                | 29/100 [00:50<01:59,  1.68s/trial, best loss: -0.7949572627039865]"
     ]
    },
    {
     "name": "stderr",
     "output_type": "stream",
     "text": [
      "c:\\users\\hp\\appdata\\local\\programs\\python\\python37\\lib\\site-packages\\sklearn\\utils\\validation.py:73: DataConversionWarning: A column-vector y was passed when a 1d array was expected. Please change the shape of y to (n_samples, ), for example using ravel().\n",
      "  return f(**kwargs)\n",
      "\n"
     ]
    },
    {
     "name": "stdout",
     "output_type": "stream",
     "text": [
      "ROC-AUC Score:                                                                                                         \n",
      "0.7850906100173402                                                                                                     \n",
      "SCORE:                                                                                                                 \n",
      "0.9154678723112755                                                                                                     \n",
      " 30%|█████████████▊                                | 30/100 [00:52<02:06,  1.81s/trial, best loss: -0.7949572627039865]"
     ]
    },
    {
     "name": "stderr",
     "output_type": "stream",
     "text": [
      "c:\\users\\hp\\appdata\\local\\programs\\python\\python37\\lib\\site-packages\\sklearn\\utils\\validation.py:73: DataConversionWarning: A column-vector y was passed when a 1d array was expected. Please change the shape of y to (n_samples, ), for example using ravel().\n",
      "  return f(**kwargs)\n",
      "\n"
     ]
    },
    {
     "name": "stdout",
     "output_type": "stream",
     "text": [
      "ROC-AUC Score:                                                                                                         \n",
      "0.7926844637231445                                                                                                     \n",
      "SCORE:                                                                                                                 \n",
      "0.896629675297986                                                                                                      \n",
      " 31%|██████████████▎                               | 31/100 [00:54<02:02,  1.78s/trial, best loss: -0.7949572627039865]"
     ]
    },
    {
     "name": "stderr",
     "output_type": "stream",
     "text": [
      "c:\\users\\hp\\appdata\\local\\programs\\python\\python37\\lib\\site-packages\\sklearn\\utils\\validation.py:73: DataConversionWarning: A column-vector y was passed when a 1d array was expected. Please change the shape of y to (n_samples, ), for example using ravel().\n",
      "  return f(**kwargs)\n",
      "\n"
     ]
    },
    {
     "name": "stdout",
     "output_type": "stream",
     "text": [
      "ROC-AUC Score:                                                                                                         \n",
      "0.7934056855688727                                                                                                     \n",
      "SCORE:                                                                                                                 \n",
      "0.8938210713796411                                                                                                     \n",
      " 32%|██████████████▋                               | 32/100 [00:55<01:59,  1.76s/trial, best loss: -0.7949572627039865]"
     ]
    },
    {
     "name": "stderr",
     "output_type": "stream",
     "text": [
      "c:\\users\\hp\\appdata\\local\\programs\\python\\python37\\lib\\site-packages\\sklearn\\utils\\validation.py:73: DataConversionWarning: A column-vector y was passed when a 1d array was expected. Please change the shape of y to (n_samples, ), for example using ravel().\n",
      "  return f(**kwargs)\n",
      "\n"
     ]
    },
    {
     "name": "stdout",
     "output_type": "stream",
     "text": [
      "ROC-AUC Score:                                                                                                         \n",
      "0.7918114565019372                                                                                                     \n",
      "SCORE:                                                                                                                 \n",
      "0.9032059186189889                                                                                                     \n",
      " 33%|███████████████▏                              | 33/100 [00:57<01:58,  1.77s/trial, best loss: -0.7949572627039865]"
     ]
    },
    {
     "name": "stderr",
     "output_type": "stream",
     "text": [
      "c:\\users\\hp\\appdata\\local\\programs\\python\\python37\\lib\\site-packages\\sklearn\\utils\\validation.py:73: DataConversionWarning: A column-vector y was passed when a 1d array was expected. Please change the shape of y to (n_samples, ), for example using ravel().\n",
      "  return f(**kwargs)\n",
      "\n"
     ]
    },
    {
     "name": "stdout",
     "output_type": "stream",
     "text": [
      "ROC-AUC Score:                                                                                                         \n",
      "0.7927641872421014                                                                                                     \n",
      "SCORE:                                                                                                                 \n",
      "0.9008768324428004                                                                                                     \n",
      " 34%|███████████████▋                              | 34/100 [00:59<01:56,  1.76s/trial, best loss: -0.7949572627039865]"
     ]
    },
    {
     "name": "stderr",
     "output_type": "stream",
     "text": [
      "c:\\users\\hp\\appdata\\local\\programs\\python\\python37\\lib\\site-packages\\sklearn\\utils\\validation.py:73: DataConversionWarning: A column-vector y was passed when a 1d array was expected. Please change the shape of y to (n_samples, ), for example using ravel().\n",
      "  return f(**kwargs)\n",
      "\n"
     ]
    },
    {
     "name": "stdout",
     "output_type": "stream",
     "text": [
      "ROC-AUC Score:                                                                                                         \n",
      "0.7909278013797869                                                                                                     \n",
      "SCORE:                                                                                                                 \n",
      "0.9037539388957392                                                                                                     \n",
      " 35%|████████████████                              | 35/100 [01:01<01:54,  1.77s/trial, best loss: -0.7949572627039865]"
     ]
    },
    {
     "name": "stderr",
     "output_type": "stream",
     "text": [
      "c:\\users\\hp\\appdata\\local\\programs\\python\\python37\\lib\\site-packages\\sklearn\\utils\\validation.py:73: DataConversionWarning: A column-vector y was passed when a 1d array was expected. Please change the shape of y to (n_samples, ), for example using ravel().\n",
      "  return f(**kwargs)\n",
      "\n"
     ]
    },
    {
     "name": "stdout",
     "output_type": "stream",
     "text": [
      "ROC-AUC Score:                                                                                                         \n",
      "0.7921577395127677                                                                                                     \n",
      "SCORE:                                                                                                                 \n",
      "0.9008768324428004                                                                                                     \n",
      " 36%|████████████████▌                             | 36/100 [01:02<01:53,  1.77s/trial, best loss: -0.7949572627039865]"
     ]
    },
    {
     "name": "stderr",
     "output_type": "stream",
     "text": [
      "c:\\users\\hp\\appdata\\local\\programs\\python\\python37\\lib\\site-packages\\sklearn\\utils\\validation.py:73: DataConversionWarning: A column-vector y was passed when a 1d array was expected. Please change the shape of y to (n_samples, ), for example using ravel().\n",
      "  return f(**kwargs)\n",
      "\n"
     ]
    },
    {
     "name": "stdout",
     "output_type": "stream",
     "text": [
      "ROC-AUC Score:                                                                                                         \n",
      "0.7926378301399786                                                                                                     \n",
      "SCORE:                                                                                                                 \n",
      "0.896013152486642                                                                                                      \n",
      " 37%|█████████████████                             | 37/100 [01:04<01:51,  1.77s/trial, best loss: -0.7949572627039865]"
     ]
    },
    {
     "name": "stderr",
     "output_type": "stream",
     "text": [
      "c:\\users\\hp\\appdata\\local\\programs\\python\\python37\\lib\\site-packages\\sklearn\\utils\\validation.py:73: DataConversionWarning: A column-vector y was passed when a 1d array was expected. Please change the shape of y to (n_samples, ), for example using ravel().\n",
      "  return f(**kwargs)\n",
      "\n"
     ]
    },
    {
     "name": "stdout",
     "output_type": "stream",
     "text": [
      "ROC-AUC Score:                                                                                                         \n",
      "0.7930293591888097                                                                                                     \n",
      "SCORE:                                                                                                                 \n",
      "0.8943005891217976                                                                                                     \n",
      " 38%|█████████████████▍                            | 38/100 [01:06<01:50,  1.78s/trial, best loss: -0.7949572627039865]"
     ]
    },
    {
     "name": "stderr",
     "output_type": "stream",
     "text": [
      "c:\\users\\hp\\appdata\\local\\programs\\python\\python37\\lib\\site-packages\\sklearn\\utils\\validation.py:73: DataConversionWarning: A column-vector y was passed when a 1d array was expected. Please change the shape of y to (n_samples, ), for example using ravel().\n",
      "  return f(**kwargs)\n",
      "\n"
     ]
    },
    {
     "name": "stdout",
     "output_type": "stream",
     "text": [
      "ROC-AUC Score:                                                                                                         \n",
      "0.7927301320574996                                                                                                     \n",
      "SCORE:                                                                                                                 \n",
      "0.8956706398136731                                                                                                     \n",
      " 39%|█████████████████▉                            | 39/100 [01:08<01:51,  1.83s/trial, best loss: -0.7949572627039865]"
     ]
    },
    {
     "name": "stderr",
     "output_type": "stream",
     "text": [
      "c:\\users\\hp\\appdata\\local\\programs\\python\\python37\\lib\\site-packages\\sklearn\\utils\\validation.py:73: DataConversionWarning: A column-vector y was passed when a 1d array was expected. Please change the shape of y to (n_samples, ), for example using ravel().\n",
      "  return f(**kwargs)\n",
      "\n"
     ]
    },
    {
     "name": "stdout",
     "output_type": "stream",
     "text": [
      "ROC-AUC Score:                                                                                                         \n",
      "0.7932500995262015                                                                                                     \n",
      "SCORE:                                                                                                                 \n",
      "0.8965611727633922                                                                                                     \n",
      " 40%|██████████████████▍                           | 40/100 [01:10<01:51,  1.85s/trial, best loss: -0.7949572627039865]"
     ]
    },
    {
     "name": "stderr",
     "output_type": "stream",
     "text": [
      "c:\\users\\hp\\appdata\\local\\programs\\python\\python37\\lib\\site-packages\\sklearn\\utils\\validation.py:73: DataConversionWarning: A column-vector y was passed when a 1d array was expected. Please change the shape of y to (n_samples, ), for example using ravel().\n",
      "  return f(**kwargs)\n",
      "\n"
     ]
    },
    {
     "name": "stdout",
     "output_type": "stream",
     "text": [
      "ROC-AUC Score:                                                                                                         \n",
      "0.7887395823259805                                                                                                     \n",
      "SCORE:                                                                                                                 \n",
      "0.8454582819564324                                                                                                     \n",
      " 41%|██████████████████▊                           | 41/100 [01:12<01:47,  1.82s/trial, best loss: -0.7949572627039865]"
     ]
    },
    {
     "name": "stderr",
     "output_type": "stream",
     "text": [
      "c:\\users\\hp\\appdata\\local\\programs\\python\\python37\\lib\\site-packages\\sklearn\\utils\\validation.py:73: DataConversionWarning: A column-vector y was passed when a 1d array was expected. Please change the shape of y to (n_samples, ), for example using ravel().\n",
      "  return f(**kwargs)\n",
      "\n"
     ]
    },
    {
     "name": "stdout",
     "output_type": "stream",
     "text": [
      "ROC-AUC Score:                                                                                                         \n",
      "0.792358088969034                                                                                                      \n",
      "SCORE:                                                                                                                 \n",
      "0.8993012741471434                                                                                                     \n",
      " 42%|███████████████████▎                          | 42/100 [01:14<01:56,  2.01s/trial, best loss: -0.7949572627039865]"
     ]
    },
    {
     "name": "stderr",
     "output_type": "stream",
     "text": [
      "c:\\users\\hp\\appdata\\local\\programs\\python\\python37\\lib\\site-packages\\sklearn\\utils\\validation.py:73: DataConversionWarning: A column-vector y was passed when a 1d array was expected. Please change the shape of y to (n_samples, ), for example using ravel().\n",
      "  return f(**kwargs)\n",
      "\n"
     ]
    },
    {
     "name": "stdout",
     "output_type": "stream",
     "text": [
      "ROC-AUC Score:                                                                                                         \n",
      "0.7938525957682165                                                                                                     \n",
      "SCORE:                                                                                                                 \n",
      "0.8849842444170434                                                                                                     \n",
      " 43%|███████████████████▊                          | 43/100 [01:16<01:54,  2.00s/trial, best loss: -0.7949572627039865]"
     ]
    },
    {
     "name": "stderr",
     "output_type": "stream",
     "text": [
      "c:\\users\\hp\\appdata\\local\\programs\\python\\python37\\lib\\site-packages\\sklearn\\utils\\validation.py:73: DataConversionWarning: A column-vector y was passed when a 1d array was expected. Please change the shape of y to (n_samples, ), for example using ravel().\n",
      "  return f(**kwargs)\n",
      "\n"
     ]
    },
    {
     "name": "stdout",
     "output_type": "stream",
     "text": [
      "ROC-AUC Score:                                                                                                         \n",
      "0.7922315207187339                                                                                                     \n",
      "SCORE:                                                                                                                 \n",
      "0.8940950815180162                                                                                                     \n",
      " 44%|████████████████████▏                         | 44/100 [01:18<01:48,  1.94s/trial, best loss: -0.7949572627039865]"
     ]
    },
    {
     "name": "stderr",
     "output_type": "stream",
     "text": [
      "c:\\users\\hp\\appdata\\local\\programs\\python\\python37\\lib\\site-packages\\sklearn\\utils\\validation.py:73: DataConversionWarning: A column-vector y was passed when a 1d array was expected. Please change the shape of y to (n_samples, ), for example using ravel().\n",
      "  return f(**kwargs)\n",
      "\n"
     ]
    },
    {
     "name": "stdout",
     "output_type": "stream",
     "text": [
      "ROC-AUC Score:                                                                                                         \n",
      "0.7918130853593051                                                                                                     \n",
      "SCORE:                                                                                                                 \n",
      "0.9027264008768324                                                                                                     \n",
      " 45%|████████████████████▋                         | 45/100 [01:20<01:43,  1.89s/trial, best loss: -0.7949572627039865]"
     ]
    },
    {
     "name": "stderr",
     "output_type": "stream",
     "text": [
      "c:\\users\\hp\\appdata\\local\\programs\\python\\python37\\lib\\site-packages\\sklearn\\utils\\validation.py:73: DataConversionWarning: A column-vector y was passed when a 1d array was expected. Please change the shape of y to (n_samples, ), for example using ravel().\n",
      "  return f(**kwargs)\n",
      "\n"
     ]
    },
    {
     "name": "stdout",
     "output_type": "stream",
     "text": [
      "ROC-AUC Score:                                                                                                         \n",
      "0.792676379764355                                                                                                      \n",
      "SCORE:                                                                                                                 \n",
      "0.9021783806000822                                                                                                     \n",
      " 46%|█████████████████████▏                        | 46/100 [01:21<01:39,  1.85s/trial, best loss: -0.7949572627039865]"
     ]
    },
    {
     "name": "stderr",
     "output_type": "stream",
     "text": [
      "c:\\users\\hp\\appdata\\local\\programs\\python\\python37\\lib\\site-packages\\sklearn\\utils\\validation.py:73: DataConversionWarning: A column-vector y was passed when a 1d array was expected. Please change the shape of y to (n_samples, ), for example using ravel().\n",
      "  return f(**kwargs)\n",
      "\n"
     ]
    },
    {
     "name": "stdout",
     "output_type": "stream",
     "text": [
      "ROC-AUC Score:                                                                                                         \n",
      "0.790360476391311                                                                                                      \n",
      "SCORE:                                                                                                                 \n",
      "0.9121797506507741                                                                                                     \n",
      " 47%|█████████████████████▌                        | 47/100 [01:23<01:38,  1.86s/trial, best loss: -0.7949572627039865]"
     ]
    },
    {
     "name": "stderr",
     "output_type": "stream",
     "text": [
      "c:\\users\\hp\\appdata\\local\\programs\\python\\python37\\lib\\site-packages\\sklearn\\utils\\validation.py:73: DataConversionWarning: A column-vector y was passed when a 1d array was expected. Please change the shape of y to (n_samples, ), for example using ravel().\n",
      "  return f(**kwargs)\n",
      "\n"
     ]
    },
    {
     "name": "stdout",
     "output_type": "stream",
     "text": [
      "ROC-AUC Score:                                                                                                         \n",
      "0.7909524152244594                                                                                                     \n",
      "SCORE:                                                                                                                 \n",
      "0.9073160706946157                                                                                                     \n",
      " 48%|██████████████████████                        | 48/100 [01:25<01:36,  1.86s/trial, best loss: -0.7949572627039865]"
     ]
    },
    {
     "name": "stderr",
     "output_type": "stream",
     "text": [
      "c:\\users\\hp\\appdata\\local\\programs\\python\\python37\\lib\\site-packages\\sklearn\\utils\\validation.py:73: DataConversionWarning: A column-vector y was passed when a 1d array was expected. Please change the shape of y to (n_samples, ), for example using ravel().\n",
      "  return f(**kwargs)\n",
      "\n"
     ]
    },
    {
     "name": "stdout",
     "output_type": "stream",
     "text": [
      "ROC-AUC Score:                                                                                                         \n",
      "0.791708838487752                                                                                                      \n",
      "SCORE:                                                                                                                 \n",
      "0.9042334566378956                                                                                                     \n",
      " 49%|██████████████████████▌                       | 49/100 [01:27<01:38,  1.93s/trial, best loss: -0.7949572627039865]"
     ]
    },
    {
     "name": "stderr",
     "output_type": "stream",
     "text": [
      "c:\\users\\hp\\appdata\\local\\programs\\python\\python37\\lib\\site-packages\\sklearn\\utils\\validation.py:73: DataConversionWarning: A column-vector y was passed when a 1d array was expected. Please change the shape of y to (n_samples, ), for example using ravel().\n",
      "  return f(**kwargs)\n",
      "\n"
     ]
    },
    {
     "name": "stdout",
     "output_type": "stream",
     "text": [
      "ROC-AUC Score:                                                                                                         \n",
      "0.793575931327856                                                                                                      \n",
      "SCORE:                                                                                                                 \n",
      "0.88854637621592                                                                                                       \n",
      " 50%|███████████████████████                       | 50/100 [01:29<01:32,  1.86s/trial, best loss: -0.7949572627039865]"
     ]
    },
    {
     "name": "stderr",
     "output_type": "stream",
     "text": [
      "c:\\users\\hp\\appdata\\local\\programs\\python\\python37\\lib\\site-packages\\sklearn\\utils\\validation.py:73: DataConversionWarning: A column-vector y was passed when a 1d array was expected. Please change the shape of y to (n_samples, ), for example using ravel().\n",
      "  return f(**kwargs)\n",
      "\n"
     ]
    },
    {
     "name": "stdout",
     "output_type": "stream",
     "text": [
      "ROC-AUC Score:                                                                                                         \n",
      "0.7919684904178241                                                                                                     \n",
      "SCORE:                                                                                                                 \n",
      "0.8955336347444856                                                                                                     \n",
      " 51%|███████████████████████▍                      | 51/100 [01:31<01:29,  1.82s/trial, best loss: -0.7949572627039865]"
     ]
    },
    {
     "name": "stderr",
     "output_type": "stream",
     "text": [
      "c:\\users\\hp\\appdata\\local\\programs\\python\\python37\\lib\\site-packages\\sklearn\\utils\\validation.py:73: DataConversionWarning: A column-vector y was passed when a 1d array was expected. Please change the shape of y to (n_samples, ), for example using ravel().\n",
      "  return f(**kwargs)\n",
      "\n"
     ]
    },
    {
     "name": "stdout",
     "output_type": "stream",
     "text": [
      "ROC-AUC Score:                                                                                                         \n",
      "0.7929993459836027                                                                                                     \n",
      "SCORE:                                                                                                                 \n",
      "0.893204548568297                                                                                                      \n",
      " 52%|███████████████████████▉                      | 52/100 [01:32<01:25,  1.79s/trial, best loss: -0.7949572627039865]"
     ]
    },
    {
     "name": "stderr",
     "output_type": "stream",
     "text": [
      "c:\\users\\hp\\appdata\\local\\programs\\python\\python37\\lib\\site-packages\\sklearn\\utils\\validation.py:73: DataConversionWarning: A column-vector y was passed when a 1d array was expected. Please change the shape of y to (n_samples, ), for example using ravel().\n",
      "  return f(**kwargs)\n",
      "\n"
     ]
    },
    {
     "name": "stdout",
     "output_type": "stream",
     "text": [
      "ROC-AUC Score:                                                                                                         \n",
      "0.7931914003329023                                                                                                     \n",
      "SCORE:                                                                                                                 \n",
      "0.8924510206877655                                                                                                     \n",
      " 53%|████████████████████████▍                     | 53/100 [01:34<01:23,  1.78s/trial, best loss: -0.7949572627039865]"
     ]
    },
    {
     "name": "stderr",
     "output_type": "stream",
     "text": [
      "c:\\users\\hp\\appdata\\local\\programs\\python\\python37\\lib\\site-packages\\sklearn\\utils\\validation.py:73: DataConversionWarning: A column-vector y was passed when a 1d array was expected. Please change the shape of y to (n_samples, ), for example using ravel().\n",
      "  return f(**kwargs)\n",
      "\n"
     ]
    },
    {
     "name": "stdout",
     "output_type": "stream",
     "text": [
      "ROC-AUC Score:                                                                                                         \n",
      "0.7915612459117942                                                                                                     \n",
      "SCORE:                                                                                                                 \n",
      "0.8870393204548568                                                                                                     \n",
      " 54%|████████████████████████▊                     | 54/100 [01:36<01:18,  1.70s/trial, best loss: -0.7949572627039865]"
     ]
    },
    {
     "name": "stderr",
     "output_type": "stream",
     "text": [
      "c:\\users\\hp\\appdata\\local\\programs\\python\\python37\\lib\\site-packages\\sklearn\\utils\\validation.py:73: DataConversionWarning: A column-vector y was passed when a 1d array was expected. Please change the shape of y to (n_samples, ), for example using ravel().\n",
      "  return f(**kwargs)\n",
      "\n"
     ]
    },
    {
     "name": "stdout",
     "output_type": "stream",
     "text": [
      "ROC-AUC Score:                                                                                                         \n",
      "0.7938339845645856                                                                                                     \n",
      "SCORE:                                                                                                                 \n",
      "0.8920400054802028                                                                                                     \n",
      " 55%|█████████████████████████▎                    | 55/100 [01:37<01:17,  1.71s/trial, best loss: -0.7949572627039865]"
     ]
    },
    {
     "name": "stderr",
     "output_type": "stream",
     "text": [
      "c:\\users\\hp\\appdata\\local\\programs\\python\\python37\\lib\\site-packages\\sklearn\\utils\\validation.py:73: DataConversionWarning: A column-vector y was passed when a 1d array was expected. Please change the shape of y to (n_samples, ), for example using ravel().\n",
      "  return f(**kwargs)\n",
      "\n"
     ]
    },
    {
     "name": "stdout",
     "output_type": "stream",
     "text": [
      "ROC-AUC Score:                                                                                                         \n",
      "0.7905007391091128                                                                                                     \n",
      "SCORE:                                                                                                                 \n",
      "0.9075215782983971                                                                                                     \n",
      " 56%|█████████████████████████▊                    | 56/100 [01:39<01:19,  1.81s/trial, best loss: -0.7949572627039865]"
     ]
    },
    {
     "name": "stderr",
     "output_type": "stream",
     "text": [
      "c:\\users\\hp\\appdata\\local\\programs\\python\\python37\\lib\\site-packages\\sklearn\\utils\\validation.py:73: DataConversionWarning: A column-vector y was passed when a 1d array was expected. Please change the shape of y to (n_samples, ), for example using ravel().\n",
      "  return f(**kwargs)\n",
      "\n"
     ]
    },
    {
     "name": "stdout",
     "output_type": "stream",
     "text": [
      "ROC-AUC Score:                                                                                                         \n",
      "0.7919114200818929                                                                                                     \n",
      "SCORE:                                                                                                                 \n",
      "0.9044389642416769                                                                                                     \n",
      " 57%|██████████████████████████▏                   | 57/100 [01:41<01:18,  1.82s/trial, best loss: -0.7949572627039865]"
     ]
    },
    {
     "name": "stderr",
     "output_type": "stream",
     "text": [
      "c:\\users\\hp\\appdata\\local\\programs\\python\\python37\\lib\\site-packages\\sklearn\\utils\\validation.py:73: DataConversionWarning: A column-vector y was passed when a 1d array was expected. Please change the shape of y to (n_samples, ), for example using ravel().\n",
      "  return f(**kwargs)\n",
      "\n"
     ]
    },
    {
     "name": "stdout",
     "output_type": "stream",
     "text": [
      "ROC-AUC Score:                                                                                                         \n",
      "0.7897097780368131                                                                                                     \n",
      "SCORE:                                                                                                                 \n",
      "0.9156733799150568                                                                                                     \n",
      " 58%|██████████████████████████▋                   | 58/100 [01:43<01:17,  1.85s/trial, best loss: -0.7949572627039865]"
     ]
    },
    {
     "name": "stderr",
     "output_type": "stream",
     "text": [
      "c:\\users\\hp\\appdata\\local\\programs\\python\\python37\\lib\\site-packages\\sklearn\\utils\\validation.py:73: DataConversionWarning: A column-vector y was passed when a 1d array was expected. Please change the shape of y to (n_samples, ), for example using ravel().\n",
      "  return f(**kwargs)\n",
      "\n"
     ]
    },
    {
     "name": "stdout",
     "output_type": "stream",
     "text": [
      "ROC-AUC Score:                                                                                                         \n",
      "0.791685431204093                                                                                                      \n",
      "SCORE:                                                                                                                 \n",
      "0.9026578983422386                                                                                                     \n",
      " 59%|███████████████████████████▏                  | 59/100 [01:45<01:15,  1.83s/trial, best loss: -0.7949572627039865]"
     ]
    },
    {
     "name": "stderr",
     "output_type": "stream",
     "text": [
      "c:\\users\\hp\\appdata\\local\\programs\\python\\python37\\lib\\site-packages\\sklearn\\utils\\validation.py:73: DataConversionWarning: A column-vector y was passed when a 1d array was expected. Please change the shape of y to (n_samples, ), for example using ravel().\n",
      "  return f(**kwargs)\n",
      "\n"
     ]
    },
    {
     "name": "stdout",
     "output_type": "stream",
     "text": [
      "ROC-AUC Score:                                                                                                         \n",
      "0.7924194727605882                                                                                                     \n",
      "SCORE:                                                                                                                 \n",
      "0.89724619810933                                                                                                       \n",
      " 60%|███████████████████████████▌                  | 60/100 [01:47<01:11,  1.80s/trial, best loss: -0.7949572627039865]"
     ]
    },
    {
     "name": "stderr",
     "output_type": "stream",
     "text": [
      "c:\\users\\hp\\appdata\\local\\programs\\python\\python37\\lib\\site-packages\\sklearn\\utils\\validation.py:73: DataConversionWarning: A column-vector y was passed when a 1d array was expected. Please change the shape of y to (n_samples, ), for example using ravel().\n",
      "  return f(**kwargs)\n",
      "\n"
     ]
    },
    {
     "name": "stdout",
     "output_type": "stream",
     "text": [
      "ROC-AUC Score:                                                                                                         \n",
      "0.7935323744752741                                                                                                     \n",
      "SCORE:                                                                                                                 \n",
      "0.8853952596246061                                                                                                     \n",
      " 61%|████████████████████████████                  | 61/100 [01:48<01:09,  1.77s/trial, best loss: -0.7949572627039865]"
     ]
    },
    {
     "name": "stderr",
     "output_type": "stream",
     "text": [
      "c:\\users\\hp\\appdata\\local\\programs\\python\\python37\\lib\\site-packages\\sklearn\\utils\\validation.py:73: DataConversionWarning: A column-vector y was passed when a 1d array was expected. Please change the shape of y to (n_samples, ), for example using ravel().\n",
      "  return f(**kwargs)\n",
      "\n"
     ]
    },
    {
     "name": "stdout",
     "output_type": "stream",
     "text": [
      "ROC-AUC Score:                                                                                                         \n",
      "0.7931231994716228                                                                                                     \n",
      "SCORE:                                                                                                                 \n",
      "0.8860802849705439                                                                                                     \n",
      " 62%|████████████████████████████▌                 | 62/100 [01:50<01:10,  1.85s/trial, best loss: -0.7949572627039865]"
     ]
    },
    {
     "name": "stderr",
     "output_type": "stream",
     "text": [
      "c:\\users\\hp\\appdata\\local\\programs\\python\\python37\\lib\\site-packages\\sklearn\\utils\\validation.py:73: DataConversionWarning: A column-vector y was passed when a 1d array was expected. Please change the shape of y to (n_samples, ), for example using ravel().\n",
      "  return f(**kwargs)\n",
      "\n"
     ]
    },
    {
     "name": "stdout",
     "output_type": "stream",
     "text": [
      "ROC-AUC Score:                                                                                                         \n",
      "0.7921929710943575                                                                                                     \n",
      "SCORE:                                                                                                                 \n",
      "0.8842307165365119                                                                                                     \n",
      " 63%|████████████████████████████▉                 | 63/100 [01:52<01:11,  1.92s/trial, best loss: -0.7949572627039865]"
     ]
    },
    {
     "name": "stderr",
     "output_type": "stream",
     "text": [
      "c:\\users\\hp\\appdata\\local\\programs\\python\\python37\\lib\\site-packages\\sklearn\\utils\\validation.py:73: DataConversionWarning: A column-vector y was passed when a 1d array was expected. Please change the shape of y to (n_samples, ), for example using ravel().\n",
      "  return f(**kwargs)\n",
      "\n"
     ]
    },
    {
     "name": "stdout",
     "output_type": "stream",
     "text": [
      "ROC-AUC Score:                                                                                                         \n",
      "0.7918542894179108                                                                                                     \n",
      "SCORE:                                                                                                                 \n",
      "0.8958761474174545                                                                                                     \n",
      " 64%|█████████████████████████████▍                | 64/100 [01:54<01:09,  1.93s/trial, best loss: -0.7949572627039865]"
     ]
    },
    {
     "name": "stderr",
     "output_type": "stream",
     "text": [
      "c:\\users\\hp\\appdata\\local\\programs\\python\\python37\\lib\\site-packages\\sklearn\\utils\\validation.py:73: DataConversionWarning: A column-vector y was passed when a 1d array was expected. Please change the shape of y to (n_samples, ), for example using ravel().\n",
      "  return f(**kwargs)\n",
      "\n"
     ]
    },
    {
     "name": "stdout",
     "output_type": "stream",
     "text": [
      "ROC-AUC Score:                                                                                                         \n",
      "0.7907298047174967                                                                                                     \n",
      "SCORE:                                                                                                                 \n",
      "0.912522263323743                                                                                                      \n",
      " 65%|█████████████████████████████▉                | 65/100 [01:56<01:08,  1.94s/trial, best loss: -0.7949572627039865]"
     ]
    },
    {
     "name": "stderr",
     "output_type": "stream",
     "text": [
      "c:\\users\\hp\\appdata\\local\\programs\\python\\python37\\lib\\site-packages\\sklearn\\utils\\validation.py:73: DataConversionWarning: A column-vector y was passed when a 1d array was expected. Please change the shape of y to (n_samples, ), for example using ravel().\n",
      "  return f(**kwargs)\n",
      "\n"
     ]
    },
    {
     "name": "stdout",
     "output_type": "stream",
     "text": [
      "ROC-AUC Score:                                                                                                         \n",
      "0.7890817027013151                                                                                                     \n",
      "SCORE:                                                                                                                 \n",
      "0.8544321139882176                                                                                                     \n",
      " 66%|██████████████████████████████▎               | 66/100 [01:58<01:05,  1.94s/trial, best loss: -0.7949572627039865]"
     ]
    },
    {
     "name": "stderr",
     "output_type": "stream",
     "text": [
      "c:\\users\\hp\\appdata\\local\\programs\\python\\python37\\lib\\site-packages\\sklearn\\utils\\validation.py:73: DataConversionWarning: A column-vector y was passed when a 1d array was expected. Please change the shape of y to (n_samples, ), for example using ravel().\n",
      "  return f(**kwargs)\n",
      "\n"
     ]
    },
    {
     "name": "stdout",
     "output_type": "stream",
     "text": [
      "ROC-AUC Score:                                                                                                         \n",
      "0.7912055818890847                                                                                                     \n",
      "SCORE:                                                                                                                 \n",
      "0.887587340731607                                                                                                      \n",
      " 67%|██████████████████████████████▊               | 67/100 [02:00<01:03,  1.94s/trial, best loss: -0.7949572627039865]"
     ]
    },
    {
     "name": "stderr",
     "output_type": "stream",
     "text": [
      "c:\\users\\hp\\appdata\\local\\programs\\python\\python37\\lib\\site-packages\\sklearn\\utils\\validation.py:73: DataConversionWarning: A column-vector y was passed when a 1d array was expected. Please change the shape of y to (n_samples, ), for example using ravel().\n",
      "  return f(**kwargs)\n",
      "\n"
     ]
    },
    {
     "name": "stdout",
     "output_type": "stream",
     "text": [
      "ROC-AUC Score:                                                                                                         \n",
      "0.7927705216874215                                                                                                     \n",
      "SCORE:                                                                                                                 \n",
      "0.8929305384299219                                                                                                     \n",
      " 68%|███████████████████████████████▎              | 68/100 [02:02<00:59,  1.85s/trial, best loss: -0.7949572627039865]"
     ]
    },
    {
     "name": "stderr",
     "output_type": "stream",
     "text": [
      "c:\\users\\hp\\appdata\\local\\programs\\python\\python37\\lib\\site-packages\\sklearn\\utils\\validation.py:73: DataConversionWarning: A column-vector y was passed when a 1d array was expected. Please change the shape of y to (n_samples, ), for example using ravel().\n",
      "  return f(**kwargs)\n",
      "\n"
     ]
    },
    {
     "name": "stdout",
     "output_type": "stream",
     "text": [
      "ROC-AUC Score:                                                                                                         \n",
      "0.7928047276921498                                                                                                     \n",
      "SCORE:                                                                                                                 \n",
      "0.8919030004110152                                                                                                     \n",
      " 69%|███████████████████████████████▋              | 69/100 [02:04<00:57,  1.87s/trial, best loss: -0.7949572627039865]"
     ]
    },
    {
     "name": "stderr",
     "output_type": "stream",
     "text": [
      "c:\\users\\hp\\appdata\\local\\programs\\python\\python37\\lib\\site-packages\\sklearn\\utils\\validation.py:73: DataConversionWarning: A column-vector y was passed when a 1d array was expected. Please change the shape of y to (n_samples, ), for example using ravel().\n",
      "  return f(**kwargs)\n",
      "\n"
     ]
    },
    {
     "name": "stdout",
     "output_type": "stream",
     "text": [
      "ROC-AUC Score:                                                                                                         \n",
      "0.7934387755046638                                                                                                     \n",
      "SCORE:                                                                                                                 \n",
      "0.8988902589395807                                                                                                     \n",
      " 70%|████████████████████████████████▏             | 70/100 [02:06<00:57,  1.92s/trial, best loss: -0.7949572627039865]"
     ]
    },
    {
     "name": "stderr",
     "output_type": "stream",
     "text": [
      "c:\\users\\hp\\appdata\\local\\programs\\python\\python37\\lib\\site-packages\\sklearn\\utils\\validation.py:73: DataConversionWarning: A column-vector y was passed when a 1d array was expected. Please change the shape of y to (n_samples, ), for example using ravel().\n",
      "  return f(**kwargs)\n",
      "\n"
     ]
    },
    {
     "name": "stdout",
     "output_type": "stream",
     "text": [
      "ROC-AUC Score:                                                                                                         \n",
      "0.7910341898971389                                                                                                     \n",
      "SCORE:                                                                                                                 \n",
      "0.9053294971913961                                                                                                     \n",
      " 71%|████████████████████████████████▋             | 71/100 [02:08<00:57,  2.00s/trial, best loss: -0.7949572627039865]"
     ]
    },
    {
     "name": "stderr",
     "output_type": "stream",
     "text": [
      "c:\\users\\hp\\appdata\\local\\programs\\python\\python37\\lib\\site-packages\\sklearn\\utils\\validation.py:73: DataConversionWarning: A column-vector y was passed when a 1d array was expected. Please change the shape of y to (n_samples, ), for example using ravel().\n",
      "  return f(**kwargs)\n",
      "\n"
     ]
    },
    {
     "name": "stdout",
     "output_type": "stream",
     "text": [
      "ROC-AUC Score:                                                                                                         \n",
      "0.7919835121024404                                                                                                     \n",
      "SCORE:                                                                                                                 \n",
      "0.8858062748321688                                                                                                     \n",
      " 72%|█████████████████████████████████             | 72/100 [02:10<00:51,  1.86s/trial, best loss: -0.7949572627039865]"
     ]
    },
    {
     "name": "stderr",
     "output_type": "stream",
     "text": [
      "c:\\users\\hp\\appdata\\local\\programs\\python\\python37\\lib\\site-packages\\sklearn\\utils\\validation.py:73: DataConversionWarning: A column-vector y was passed when a 1d array was expected. Please change the shape of y to (n_samples, ), for example using ravel().\n",
      "  return f(**kwargs)\n",
      "\n"
     ]
    },
    {
     "name": "stdout",
     "output_type": "stream",
     "text": [
      "ROC-AUC Score:                                                                                                         \n",
      "0.7932888602987553                                                                                                     \n",
      "SCORE:                                                                                                                 \n",
      "0.8927250308261405                                                                                                     \n",
      " 73%|█████████████████████████████████▌            | 73/100 [02:11<00:47,  1.77s/trial, best loss: -0.7949572627039865]"
     ]
    },
    {
     "name": "stderr",
     "output_type": "stream",
     "text": [
      "c:\\users\\hp\\appdata\\local\\programs\\python\\python37\\lib\\site-packages\\sklearn\\utils\\validation.py:73: DataConversionWarning: A column-vector y was passed when a 1d array was expected. Please change the shape of y to (n_samples, ), for example using ravel().\n",
      "  return f(**kwargs)\n",
      "\n"
     ]
    },
    {
     "name": "stdout",
     "output_type": "stream",
     "text": [
      "ROC-AUC Score:                                                                                                         \n",
      "0.7888683525501301                                                                                                     \n",
      "SCORE:                                                                                                                 \n",
      "0.8461433073023702                                                                                                     \n",
      " 74%|██████████████████████████████████            | 74/100 [02:13<00:46,  1.78s/trial, best loss: -0.7949572627039865]"
     ]
    },
    {
     "name": "stderr",
     "output_type": "stream",
     "text": [
      "c:\\users\\hp\\appdata\\local\\programs\\python\\python37\\lib\\site-packages\\sklearn\\utils\\validation.py:73: DataConversionWarning: A column-vector y was passed when a 1d array was expected. Please change the shape of y to (n_samples, ), for example using ravel().\n",
      "  return f(**kwargs)\n",
      "\n"
     ]
    },
    {
     "name": "stdout",
     "output_type": "stream",
     "text": [
      "ROC-AUC Score:                                                                                                         \n",
      "0.7912355950942919                                                                                                     \n",
      "SCORE:                                                                                                                 \n",
      "0.9082066036443348                                                                                                     \n",
      " 75%|██████████████████████████████████▌           | 75/100 [02:15<00:47,  1.89s/trial, best loss: -0.7949572627039865]"
     ]
    },
    {
     "name": "stderr",
     "output_type": "stream",
     "text": [
      "c:\\users\\hp\\appdata\\local\\programs\\python\\python37\\lib\\site-packages\\sklearn\\utils\\validation.py:73: DataConversionWarning: A column-vector y was passed when a 1d array was expected. Please change the shape of y to (n_samples, ), for example using ravel().\n",
      "  return f(**kwargs)\n",
      "\n"
     ]
    },
    {
     "name": "stdout",
     "output_type": "stream",
     "text": [
      "ROC-AUC Score:                                                                                                         \n",
      "0.7916564134117221                                                                                                     \n",
      "SCORE:                                                                                                                 \n",
      "0.9012193451157693                                                                                                     \n",
      " 76%|██████████████████████████████████▉           | 76/100 [02:17<00:46,  1.93s/trial, best loss: -0.7949572627039865]"
     ]
    },
    {
     "name": "stderr",
     "output_type": "stream",
     "text": [
      "c:\\users\\hp\\appdata\\local\\programs\\python\\python37\\lib\\site-packages\\sklearn\\utils\\validation.py:73: DataConversionWarning: A column-vector y was passed when a 1d array was expected. Please change the shape of y to (n_samples, ), for example using ravel().\n",
      "  return f(**kwargs)\n",
      "\n"
     ]
    },
    {
     "name": "stdout",
     "output_type": "stream",
     "text": [
      "ROC-AUC Score:                                                                                                         \n",
      "0.7913551652907146                                                                                                     \n",
      "SCORE:                                                                                                                 \n",
      "0.9040279490341142                                                                                                     \n",
      " 77%|███████████████████████████████████▍          | 77/100 [02:19<00:45,  1.98s/trial, best loss: -0.7949572627039865]"
     ]
    },
    {
     "name": "stderr",
     "output_type": "stream",
     "text": [
      "c:\\users\\hp\\appdata\\local\\programs\\python\\python37\\lib\\site-packages\\sklearn\\utils\\validation.py:73: DataConversionWarning: A column-vector y was passed when a 1d array was expected. Please change the shape of y to (n_samples, ), for example using ravel().\n",
      "  return f(**kwargs)\n",
      "\n"
     ]
    },
    {
     "name": "stdout",
     "output_type": "stream",
     "text": [
      "ROC-AUC Score:                                                                                                         \n",
      "0.7923946176037131                                                                                                     \n",
      "SCORE:                                                                                                                 \n",
      "0.896355665159611                                                                                                      \n",
      " 78%|███████████████████████████████████▉          | 78/100 [02:21<00:43,  1.97s/trial, best loss: -0.7949572627039865]"
     ]
    },
    {
     "name": "stderr",
     "output_type": "stream",
     "text": [
      "c:\\users\\hp\\appdata\\local\\programs\\python\\python37\\lib\\site-packages\\sklearn\\utils\\validation.py:73: DataConversionWarning: A column-vector y was passed when a 1d array was expected. Please change the shape of y to (n_samples, ), for example using ravel().\n",
      "  return f(**kwargs)\n",
      "\n"
     ]
    },
    {
     "name": "stdout",
     "output_type": "stream",
     "text": [
      "ROC-AUC Score:                                                                                                         \n",
      "0.7928157073973712                                                                                                     \n",
      "SCORE:                                                                                                                 \n",
      "0.8929305384299219                                                                                                     \n",
      " 79%|████████████████████████████████████▎         | 79/100 [02:23<00:39,  1.89s/trial, best loss: -0.7949572627039865]"
     ]
    },
    {
     "name": "stderr",
     "output_type": "stream",
     "text": [
      "c:\\users\\hp\\appdata\\local\\programs\\python\\python37\\lib\\site-packages\\sklearn\\utils\\validation.py:73: DataConversionWarning: A column-vector y was passed when a 1d array was expected. Please change the shape of y to (n_samples, ), for example using ravel().\n",
      "  return f(**kwargs)\n",
      "\n"
     ]
    },
    {
     "name": "stdout",
     "output_type": "stream",
     "text": [
      "ROC-AUC Score:                                                                                                         \n",
      "0.7916612094917501                                                                                                     \n",
      "SCORE:                                                                                                                 \n",
      "0.8870393204548568                                                                                                     \n",
      " 80%|████████████████████████████████████▊         | 80/100 [02:24<00:35,  1.78s/trial, best loss: -0.7949572627039865]"
     ]
    },
    {
     "name": "stderr",
     "output_type": "stream",
     "text": [
      "c:\\users\\hp\\appdata\\local\\programs\\python\\python37\\lib\\site-packages\\sklearn\\utils\\validation.py:73: DataConversionWarning: A column-vector y was passed when a 1d array was expected. Please change the shape of y to (n_samples, ), for example using ravel().\n",
      "  return f(**kwargs)\n",
      "\n"
     ]
    },
    {
     "name": "stdout",
     "output_type": "stream",
     "text": [
      "ROC-AUC Score:                                                                                                         \n",
      "0.7923437912210258                                                                                                     \n",
      "SCORE:                                                                                                                 \n",
      "0.8987532538703932                                                                                                     \n",
      " 81%|█████████████████████████████████████▎        | 81/100 [02:26<00:33,  1.77s/trial, best loss: -0.7949572627039865]"
     ]
    },
    {
     "name": "stderr",
     "output_type": "stream",
     "text": [
      "c:\\users\\hp\\appdata\\local\\programs\\python\\python37\\lib\\site-packages\\sklearn\\utils\\validation.py:73: DataConversionWarning: A column-vector y was passed when a 1d array was expected. Please change the shape of y to (n_samples, ), for example using ravel().\n",
      "  return f(**kwargs)\n",
      "\n"
     ]
    },
    {
     "name": "stdout",
     "output_type": "stream",
     "text": [
      "ROC-AUC Score:                                                                                                         \n",
      "0.7935694762264346                                                                                                     \n",
      "SCORE:                                                                                                                 \n",
      "0.8929305384299219                                                                                                     \n",
      " 82%|█████████████████████████████████████▋        | 82/100 [02:28<00:31,  1.72s/trial, best loss: -0.7949572627039865]"
     ]
    },
    {
     "name": "stderr",
     "output_type": "stream",
     "text": [
      "c:\\users\\hp\\appdata\\local\\programs\\python\\python37\\lib\\site-packages\\sklearn\\utils\\validation.py:73: DataConversionWarning: A column-vector y was passed when a 1d array was expected. Please change the shape of y to (n_samples, ), for example using ravel().\n",
      "  return f(**kwargs)\n",
      "\n"
     ]
    },
    {
     "name": "stdout",
     "output_type": "stream",
     "text": [
      "ROC-AUC Score:                                                                                                         \n",
      "0.7914751276194665                                                                                                     \n",
      "SCORE:                                                                                                                 \n",
      "0.9001233045622689                                                                                                     \n",
      " 83%|██████████████████████████████████████▏       | 83/100 [02:30<00:29,  1.73s/trial, best loss: -0.7949572627039865]"
     ]
    },
    {
     "name": "stderr",
     "output_type": "stream",
     "text": [
      "c:\\users\\hp\\appdata\\local\\programs\\python\\python37\\lib\\site-packages\\sklearn\\utils\\validation.py:73: DataConversionWarning: A column-vector y was passed when a 1d array was expected. Please change the shape of y to (n_samples, ), for example using ravel().\n",
      "  return f(**kwargs)\n",
      "\n"
     ]
    },
    {
     "name": "stdout",
     "output_type": "stream",
     "text": [
      "ROC-AUC Score:                                                                                                         \n",
      "0.789063242317811                                                                                                      \n",
      "SCORE:                                                                                                                 \n",
      "0.8949856144677353                                                                                                     \n",
      " 84%|██████████████████████████████████████▋       | 84/100 [02:31<00:27,  1.71s/trial, best loss: -0.7949572627039865]"
     ]
    },
    {
     "name": "stderr",
     "output_type": "stream",
     "text": [
      "c:\\users\\hp\\appdata\\local\\programs\\python\\python37\\lib\\site-packages\\sklearn\\utils\\validation.py:73: DataConversionWarning: A column-vector y was passed when a 1d array was expected. Please change the shape of y to (n_samples, ), for example using ravel().\n",
      "  return f(**kwargs)\n",
      "\n"
     ]
    },
    {
     "name": "stdout",
     "output_type": "stream",
     "text": [
      "ROC-AUC Score:                                                                                                         \n",
      "0.792426169174212                                                                                                      \n",
      "SCORE:                                                                                                                 \n",
      "0.9037539388957392                                                                                                     \n",
      " 85%|███████████████████████████████████████       | 85/100 [02:33<00:26,  1.74s/trial, best loss: -0.7949572627039865]"
     ]
    },
    {
     "name": "stderr",
     "output_type": "stream",
     "text": [
      "c:\\users\\hp\\appdata\\local\\programs\\python\\python37\\lib\\site-packages\\sklearn\\utils\\validation.py:73: DataConversionWarning: A column-vector y was passed when a 1d array was expected. Please change the shape of y to (n_samples, ), for example using ravel().\n",
      "  return f(**kwargs)\n",
      "\n"
     ]
    },
    {
     "name": "stdout",
     "output_type": "stream",
     "text": [
      "ROC-AUC Score:                                                                                                         \n",
      "0.7925327085116907                                                                                                     \n",
      "SCORE:                                                                                                                 \n",
      "0.8971776955747363                                                                                                     \n",
      " 86%|███████████████████████████████████████▌      | 86/100 [02:35<00:24,  1.73s/trial, best loss: -0.7949572627039865]"
     ]
    },
    {
     "name": "stderr",
     "output_type": "stream",
     "text": [
      "c:\\users\\hp\\appdata\\local\\programs\\python\\python37\\lib\\site-packages\\sklearn\\utils\\validation.py:73: DataConversionWarning: A column-vector y was passed when a 1d array was expected. Please change the shape of y to (n_samples, ), for example using ravel().\n",
      "  return f(**kwargs)\n",
      "\n"
     ]
    },
    {
     "name": "stdout",
     "output_type": "stream",
     "text": [
      "ROC-AUC Score:                                                                                                         \n",
      "0.7884451814387239                                                                                                     \n",
      "SCORE:                                                                                                                 \n",
      "0.8448417591450884                                                                                                     \n",
      " 87%|████████████████████████████████████████      | 87/100 [02:36<00:21,  1.62s/trial, best loss: -0.7949572627039865]"
     ]
    },
    {
     "name": "stderr",
     "output_type": "stream",
     "text": [
      "c:\\users\\hp\\appdata\\local\\programs\\python\\python37\\lib\\site-packages\\sklearn\\utils\\validation.py:73: DataConversionWarning: A column-vector y was passed when a 1d array was expected. Please change the shape of y to (n_samples, ), for example using ravel().\n",
      "  return f(**kwargs)\n",
      "\n"
     ]
    },
    {
     "name": "stdout",
     "output_type": "stream",
     "text": [
      "ROC-AUC Score:                                                                                                         \n",
      "0.7938897880114528                                                                                                     \n",
      "SCORE:                                                                                                                 \n",
      "0.8969036854363611                                                                                                     \n",
      " 88%|████████████████████████████████████████▍     | 88/100 [02:38<00:19,  1.66s/trial, best loss: -0.7949572627039865]"
     ]
    },
    {
     "name": "stderr",
     "output_type": "stream",
     "text": [
      "c:\\users\\hp\\appdata\\local\\programs\\python\\python37\\lib\\site-packages\\sklearn\\utils\\validation.py:73: DataConversionWarning: A column-vector y was passed when a 1d array was expected. Please change the shape of y to (n_samples, ), for example using ravel().\n",
      "  return f(**kwargs)\n",
      "\n"
     ]
    },
    {
     "name": "stdout",
     "output_type": "stream",
     "text": [
      "ROC-AUC Score:                                                                                                         \n",
      "0.7926605738150801                                                                                                     \n",
      "SCORE:                                                                                                                 \n",
      "0.8929990409645157                                                                                                     \n",
      " 89%|████████████████████████████████████████▉     | 89/100 [02:39<00:18,  1.67s/trial, best loss: -0.7949572627039865]"
     ]
    },
    {
     "name": "stderr",
     "output_type": "stream",
     "text": [
      "c:\\users\\hp\\appdata\\local\\programs\\python\\python37\\lib\\site-packages\\sklearn\\utils\\validation.py:73: DataConversionWarning: A column-vector y was passed when a 1d array was expected. Please change the shape of y to (n_samples, ), for example using ravel().\n",
      "  return f(**kwargs)\n",
      "\n"
     ]
    },
    {
     "name": "stdout",
     "output_type": "stream",
     "text": [
      "ROC-AUC Score:                                                                                                         \n",
      "0.7936755932675585                                                                                                     \n",
      "SCORE:                                                                                                                 \n",
      "0.8947801068639539                                                                                                     \n",
      " 90%|█████████████████████████████████████████▍    | 90/100 [02:41<00:16,  1.68s/trial, best loss: -0.7949572627039865]"
     ]
    },
    {
     "name": "stderr",
     "output_type": "stream",
     "text": [
      "c:\\users\\hp\\appdata\\local\\programs\\python\\python37\\lib\\site-packages\\sklearn\\utils\\validation.py:73: DataConversionWarning: A column-vector y was passed when a 1d array was expected. Please change the shape of y to (n_samples, ), for example using ravel().\n",
      "  return f(**kwargs)\n",
      "\n"
     ]
    },
    {
     "name": "stdout",
     "output_type": "stream",
     "text": [
      "ROC-AUC Score:                                                                                                         \n",
      "0.7929257457617886                                                                                                     \n",
      "SCORE:                                                                                                                 \n",
      "0.8942320865872038                                                                                                     \n",
      " 91%|█████████████████████████████████████████▊    | 91/100 [02:43<00:15,  1.71s/trial, best loss: -0.7949572627039865]"
     ]
    },
    {
     "name": "stderr",
     "output_type": "stream",
     "text": [
      "c:\\users\\hp\\appdata\\local\\programs\\python\\python37\\lib\\site-packages\\sklearn\\utils\\validation.py:73: DataConversionWarning: A column-vector y was passed when a 1d array was expected. Please change the shape of y to (n_samples, ), for example using ravel().\n",
      "  return f(**kwargs)\n",
      "\n"
     ]
    },
    {
     "name": "stdout",
     "output_type": "stream",
     "text": [
      "ROC-AUC Score:                                                                                                         \n",
      "0.7926296556891131                                                                                                     \n",
      "SCORE:                                                                                                                 \n",
      "0.8929990409645157                                                                                                     \n",
      " 92%|██████████████████████████████████████████▎   | 92/100 [02:45<00:13,  1.70s/trial, best loss: -0.7949572627039865]"
     ]
    },
    {
     "name": "stderr",
     "output_type": "stream",
     "text": [
      "c:\\users\\hp\\appdata\\local\\programs\\python\\python37\\lib\\site-packages\\sklearn\\utils\\validation.py:73: DataConversionWarning: A column-vector y was passed when a 1d array was expected. Please change the shape of y to (n_samples, ), for example using ravel().\n",
      "  return f(**kwargs)\n",
      "\n"
     ]
    },
    {
     "name": "stdout",
     "output_type": "stream",
     "text": [
      "ROC-AUC Score:                                                                                                         \n",
      "0.7935912244887001                                                                                                     \n",
      "SCORE:                                                                                                                 \n",
      "0.8902589395807645                                                                                                     \n",
      " 93%|██████████████████████████████████████████▊   | 93/100 [02:46<00:11,  1.68s/trial, best loss: -0.7949572627039865]"
     ]
    },
    {
     "name": "stderr",
     "output_type": "stream",
     "text": [
      "c:\\users\\hp\\appdata\\local\\programs\\python\\python37\\lib\\site-packages\\sklearn\\utils\\validation.py:73: DataConversionWarning: A column-vector y was passed when a 1d array was expected. Please change the shape of y to (n_samples, ), for example using ravel().\n",
      "  return f(**kwargs)\n",
      "\n"
     ]
    },
    {
     "name": "stdout",
     "output_type": "stream",
     "text": [
      "ROC-AUC Score:                                                                                                         \n",
      "0.7933597457582895                                                                                                     \n",
      "SCORE:                                                                                                                 \n",
      "0.8950541170023291                                                                                                     \n",
      " 94%|███████████████████████████████████████████▏  | 94/100 [02:48<00:10,  1.71s/trial, best loss: -0.7949572627039865]"
     ]
    },
    {
     "name": "stderr",
     "output_type": "stream",
     "text": [
      "c:\\users\\hp\\appdata\\local\\programs\\python\\python37\\lib\\site-packages\\sklearn\\utils\\validation.py:73: DataConversionWarning: A column-vector y was passed when a 1d array was expected. Please change the shape of y to (n_samples, ), for example using ravel().\n",
      "  return f(**kwargs)\n",
      "\n"
     ]
    },
    {
     "name": "stdout",
     "output_type": "stream",
     "text": [
      "ROC-AUC Score:                                                                                                         \n",
      "0.792668597445819                                                                                                      \n",
      "SCORE:                                                                                                                 \n",
      "0.8931360460337032                                                                                                     \n",
      " 95%|███████████████████████████████████████████▋  | 95/100 [02:50<00:08,  1.71s/trial, best loss: -0.7949572627039865]"
     ]
    },
    {
     "name": "stderr",
     "output_type": "stream",
     "text": [
      "c:\\users\\hp\\appdata\\local\\programs\\python\\python37\\lib\\site-packages\\sklearn\\utils\\validation.py:73: DataConversionWarning: A column-vector y was passed when a 1d array was expected. Please change the shape of y to (n_samples, ), for example using ravel().\n",
      "  return f(**kwargs)\n",
      "\n"
     ]
    },
    {
     "name": "stdout",
     "output_type": "stream",
     "text": [
      "ROC-AUC Score:                                                                                                         \n",
      "0.7925610928595298                                                                                                     \n",
      "SCORE:                                                                                                                 \n",
      "0.8957391423482669                                                                                                     \n",
      " 96%|████████████████████████████████████████████▏ | 96/100 [02:52<00:07,  1.78s/trial, best loss: -0.7949572627039865]"
     ]
    },
    {
     "name": "stderr",
     "output_type": "stream",
     "text": [
      "c:\\users\\hp\\appdata\\local\\programs\\python\\python37\\lib\\site-packages\\sklearn\\utils\\validation.py:73: DataConversionWarning: A column-vector y was passed when a 1d array was expected. Please change the shape of y to (n_samples, ), for example using ravel().\n",
      "  return f(**kwargs)\n",
      "\n"
     ]
    },
    {
     "name": "stdout",
     "output_type": "stream",
     "text": [
      "ROC-AUC Score:                                                                                                         \n",
      "0.7947198718246105                                                                                                     \n",
      "SCORE:                                                                                                                 \n",
      "0.8986847513357994                                                                                                     \n",
      " 97%|████████████████████████████████████████████▌ | 97/100 [02:54<00:05,  1.85s/trial, best loss: -0.7949572627039865]"
     ]
    },
    {
     "name": "stderr",
     "output_type": "stream",
     "text": [
      "c:\\users\\hp\\appdata\\local\\programs\\python\\python37\\lib\\site-packages\\sklearn\\utils\\validation.py:73: DataConversionWarning: A column-vector y was passed when a 1d array was expected. Please change the shape of y to (n_samples, ), for example using ravel().\n",
      "  return f(**kwargs)\n",
      "\n"
     ]
    },
    {
     "name": "stdout",
     "output_type": "stream",
     "text": [
      "ROC-AUC Score:                                                                                                         \n",
      "0.7945396417732418                                                                                                     \n",
      "SCORE:                                                                                                                 \n",
      "0.8989587614741745                                                                                                     \n",
      " 98%|█████████████████████████████████████████████ | 98/100 [02:55<00:03,  1.82s/trial, best loss: -0.7949572627039865]"
     ]
    },
    {
     "name": "stderr",
     "output_type": "stream",
     "text": [
      "c:\\users\\hp\\appdata\\local\\programs\\python\\python37\\lib\\site-packages\\sklearn\\utils\\validation.py:73: DataConversionWarning: A column-vector y was passed when a 1d array was expected. Please change the shape of y to (n_samples, ), for example using ravel().\n",
      "  return f(**kwargs)\n",
      "\n"
     ]
    },
    {
     "name": "stdout",
     "output_type": "stream",
     "text": [
      "ROC-AUC Score:                                                                                                         \n",
      "0.7945396417732418                                                                                                     \n",
      "SCORE:                                                                                                                 \n",
      "0.8989587614741745                                                                                                     \n",
      " 99%|█████████████████████████████████████████████▌| 99/100 [02:57<00:01,  1.80s/trial, best loss: -0.7949572627039865]"
     ]
    },
    {
     "name": "stderr",
     "output_type": "stream",
     "text": [
      "c:\\users\\hp\\appdata\\local\\programs\\python\\python37\\lib\\site-packages\\sklearn\\utils\\validation.py:73: DataConversionWarning: A column-vector y was passed when a 1d array was expected. Please change the shape of y to (n_samples, ), for example using ravel().\n",
      "  return f(**kwargs)\n",
      "\n"
     ]
    },
    {
     "name": "stdout",
     "output_type": "stream",
     "text": [
      "ROC-AUC Score:                                                                                                         \n",
      "0.7926436216328425                                                                                                     \n",
      "SCORE:                                                                                                                 \n",
      "0.8990957665433621                                                                                                     \n",
      "100%|█████████████████████████████████████████████| 100/100 [02:59<00:00,  1.80s/trial, best loss: -0.7949572627039865]\n"
     ]
    }
   ],
   "source": [
    "\n",
    "best_hyperparams = fmin(fn = objective,\n",
    "                        space = space,\n",
    "                        algo = tpe.suggest,\n",
    "                        max_evals = 100,\n",
    "                        trials = trials)"
   ]
  },
  {
   "cell_type": "code",
   "execution_count": 88,
   "metadata": {},
   "outputs": [
    {
     "name": "stdout",
     "output_type": "stream",
     "text": [
      "The best hyperparameters are :  \n",
      "\n",
      "{'colsample_bytree': 0.8665226489946941, 'gamma': 5.17723378258581, 'max_depth': 13.0, 'min_child_weight': 10.0, 'reg_alpha': 180.0, 'reg_lambda': 0.44356042767584114}\n"
     ]
    }
   ],
   "source": [
    "print(\"The best hyperparameters are : \",\"\\n\")\n",
    "print(best_hyperparams)"
   ]
  },
  {
   "cell_type": "code",
   "execution_count": 89,
   "metadata": {},
   "outputs": [],
   "source": [
    "xgb_model=xgb.XGBClassifier(n_estimators = space['n_estimators'], max_depth = 13, gamma = 5.17723378258581, reg_lambda = 0.44356042767584114,\n",
    "                            reg_alpha = 180.0, min_child_weight=10.0,colsample_bytree = 0.8665226489946941)\n",
    "    "
   ]
  },
  {
   "cell_type": "code",
   "execution_count": 90,
   "metadata": {},
   "outputs": [
    {
     "data": {
      "text/plain": [
       "XGBClassifier(base_score=0.5, booster='gbtree', colsample_bylevel=1,\n",
       "              colsample_bynode=1, colsample_bytree=0.8665226489946941,\n",
       "              gamma=5.17723378258581, gpu_id=-1, importance_type='gain',\n",
       "              interaction_constraints='', learning_rate=0.300000012,\n",
       "              max_delta_step=0, max_depth=13, min_child_weight=10.0,\n",
       "              missing=nan, monotone_constraints='()', n_estimators=300,\n",
       "              n_jobs=0, num_parallel_tree=1, random_state=0, reg_alpha=180.0,\n",
       "              reg_lambda=0.44356042767584114, scale_pos_weight=1, subsample=1,\n",
       "              tree_method='exact', validate_parameters=1, verbosity=None)"
      ]
     },
     "execution_count": 90,
     "metadata": {},
     "output_type": "execute_result"
    }
   ],
   "source": [
    "xgb_model.fit(X_train_res,y_train_res.ravel())"
   ]
  },
  {
   "cell_type": "code",
   "execution_count": 91,
   "metadata": {},
   "outputs": [],
   "source": [
    "y_predict=xgb_model.predict(X_test)"
   ]
  },
  {
   "cell_type": "code",
   "execution_count": 92,
   "metadata": {},
   "outputs": [],
   "source": [
    "cm=confusion_matrix(y_test, y_predict)"
   ]
  },
  {
   "cell_type": "code",
   "execution_count": 93,
   "metadata": {},
   "outputs": [
    {
     "data": {
      "text/plain": [
       "<matplotlib.axes._subplots.AxesSubplot at 0x2adc62c7a48>"
      ]
     },
     "execution_count": 93,
     "metadata": {},
     "output_type": "execute_result"
    },
    {
     "data": {
      "image/png": "[encoded data removed]",
      "text/plain": [
       "<Figure size 576x396 with 2 Axes>"
      ]
     },
     "metadata": {},
     "output_type": "display_data"
    }
   ],
   "source": [
    "sns.heatmap(cm,annot=True,fmt='d')"
   ]
  },
  {
   "cell_type": "code",
   "execution_count": 94,
   "metadata": {},
   "outputs": [
    {
     "name": "stdout",
     "output_type": "stream",
     "text": [
      "              precision    recall  f1-score   support\n",
      "\n",
      "           0       0.94      0.96      0.95     13357\n",
      "           1       0.41      0.29      0.34      1241\n",
      "\n",
      "    accuracy                           0.90     14598\n",
      "   macro avg       0.67      0.63      0.64     14598\n",
      "weighted avg       0.89      0.90      0.90     14598\n",
      "\n"
     ]
    }
   ],
   "source": [
    "print(classification_report(y_test, y_predict))"
   ]
  },
  {
   "cell_type": "code",
   "execution_count": 95,
   "metadata": {},
   "outputs": [],
   "source": [
    "test=test.astype('int').values"
   ]
  },
  {
   "cell_type": "code",
   "execution_count": 96,
   "metadata": {},
   "outputs": [],
   "source": [
    "y_predict = xgb_model.predict(test)"
   ]
  },
  {
   "cell_type": "code",
   "execution_count": 97,
   "metadata": {},
   "outputs": [
    {
     "data": {
      "text/plain": [
       "array([0, 0, 0, ..., 0, 0, 0], dtype=int64)"
      ]
     },
     "execution_count": 97,
     "metadata": {},
     "output_type": "execute_result"
    }
   ],
   "source": [
    "y_predict"
   ]
  },
  {
   "cell_type": "code",
   "execution_count": 98,
   "metadata": {},
   "outputs": [
    {
     "data": {
      "text/plain": [
       "(23490,)"
      ]
     },
     "execution_count": 98,
     "metadata": {},
     "output_type": "execute_result"
    }
   ],
   "source": [
    "y_predict.shape"
   ]
  },
  {
   "cell_type": "code",
   "execution_count": 100,
   "metadata": {},
   "outputs": [],
   "source": [
    "predict=pd.DataFrame(data=y_predict)"
   ]
  },
  {
   "cell_type": "code",
   "execution_count": 101,
   "metadata": {},
   "outputs": [],
   "source": [
    "predict.to_csv('solution2.csv',index=False)"
   ]
  },
  {
   "cell_type": "code",
   "execution_count": null,
   "metadata": {},
   "outputs": [],
   "source": []
  },
  {
   "cell_type": "code",
   "execution_count": null,
   "metadata": {},
   "outputs": [],
   "source": []
  }
 ],
 "metadata": {
  "kernelspec": {
   "display_name": "Python 3",
   "language": "python",
   "name": "python3"
  },
  "language_info": {
   "codemirror_mode": {
    "name": "ipython",
    "version": 3
   },
   "file_extension": ".py",
   "mimetype": "text/x-python",
   "name": "python",
   "nbconvert_exporter": "python",
   "pygments_lexer": "ipython3",
   "version": "3.7.6"
  }
 },
 "nbformat": 4,
 "nbformat_minor": 4
}
